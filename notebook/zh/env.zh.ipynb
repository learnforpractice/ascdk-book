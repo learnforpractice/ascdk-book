{
 "cells": [
  {
   "cell_type": "markdown",
   "id": "9ea76dd0",
   "metadata": {},
   "source": [
    "\n",
    "# 开发环境搭建\n",
    "\n",
    "## 安装编译和测试所需的工具\n",
    "\n",
    "### 直接安装开发工具包\n",
    "\n",
    "安装pscdk包，这个包用于编译Python智能合约"
   ]
  },
  {
   "cell_type": "code",
   "execution_count": null,
   "id": "71150ebe",
   "metadata": {},
   "outputs": [],
   "source": [
    "%%bash\n",
    "python3 -m pip install pscdk"
   ]
  },
  {
   "cell_type": "markdown",
   "id": "775349b2",
   "metadata": {},
   "source": [
    "安装ipyeos，这个包用于测试智能合约或者运行一个节点"
   ]
  },
  {
   "cell_type": "code",
   "execution_count": null,
   "id": "71b7c4e9",
   "metadata": {},
   "outputs": [],
   "source": [
    "%%bash\n",
    "python3 -m pip install ipyeos"
   ]
  },
  {
   "cell_type": "markdown",
   "id": "20b2aa00",
   "metadata": {},
   "source": [
    "安装pyeoskit，这个工具用于和节点进行交互，如发布智能合约等等："
   ]
  },
  {
   "cell_type": "code",
   "execution_count": null,
   "id": "2b1fb838",
   "metadata": {},
   "outputs": [],
   "source": [
    "%%bash\n",
    "python3 -m pip install pyeoskit"
   ]
  },
  {
   "cell_type": "markdown",
   "id": "7e169c41",
   "metadata": {},
   "source": [
    "### 在Docker中运行\n",
    "\n",
    "目前，该开发工具包不支持Window和Macbook M1/M2，开发工具在这两种平台上需要利用docker来运行。\n",
    "\n",
    "macOS平台推荐使用[OrbStack](https://orbstack.dev/download)软件来安装docker和运行docker。其它平台可以使用[Docker Desktop](https://www.docker.com/products/docker-desktop)。\n",
    "\n",
    "\n",
    "下载Docker镜像"
   ]
  },
  {
   "cell_type": "code",
   "execution_count": null,
   "id": "1c26992e",
   "metadata": {},
   "outputs": [],
   "source": [
    "%%bash\n",
    "docker pull ghcr.io/uuosio/pscdk:latest"
   ]
  },
  {
   "cell_type": "markdown",
   "id": "cfc2484b",
   "metadata": {},
   "source": [
    "运行container:"
   ]
  },
  {
   "cell_type": "code",
   "execution_count": null,
   "id": "6cd44f91",
   "metadata": {},
   "outputs": [],
   "source": [
    "%%bash\n",
    "docker run --entrypoint bash -it --rm -v \"$(pwd)\":/work -w /work -t ghcr.io/uuosio/pscdk"
   ]
  },
  {
   "cell_type": "markdown",
   "id": "23be4c9d",
   "metadata": {},
   "source": [
    "## 测试安装环境是否安装成功：\n",
    "\n",
    "新建一个测试项目："
   ]
  },
  {
   "cell_type": "code",
   "execution_count": null,
   "id": "b8e1f608",
   "metadata": {},
   "outputs": [],
   "source": [
    "!python-contract init mytest\n",
    "%cd mytest\n",
    "# 查看代码\n",
    "!cat mytest.codon"
   ]
  },
  {
   "cell_type": "markdown",
   "id": "62d21580",
   "metadata": {},
   "source": [
    "编译合约代码："
   ]
  },
  {
   "cell_type": "code",
   "execution_count": null,
   "id": "2d9e1565",
   "metadata": {},
   "outputs": [],
   "source": [
    "%%bash\n",
    "python-contract build mytest.codon"
   ]
  },
  {
   "cell_type": "markdown",
   "id": "aa22cce6",
   "metadata": {},
   "source": [
    "或者直接运行`build.sh`脚本："
   ]
  },
  {
   "cell_type": "code",
   "execution_count": null,
   "id": "b6d89f3d",
   "metadata": {},
   "outputs": [],
   "source": [
    "%%bash\n",
    "./build.sh"
   ]
  },
  {
   "cell_type": "markdown",
   "id": "f287db0e",
   "metadata": {},
   "source": [
    "不出异常会生成`mytest.wasm`这个WebAssembly的二进制文件\n",
    "\n",
    "测试："
   ]
  },
  {
   "cell_type": "code",
   "execution_count": null,
   "id": "587e43b8",
   "metadata": {},
   "outputs": [],
   "source": [
    "%%bash\n",
    "ipyeos -m pytest -s -x test.py -k test_hello"
   ]
  },
  {
   "cell_type": "markdown",
   "id": "d3693f82",
   "metadata": {},
   "source": [
    "或者直接运行测试脚本`test.sh`："
   ]
  },
  {
   "cell_type": "code",
   "execution_count": null,
   "id": "427398dd",
   "metadata": {},
   "outputs": [],
   "source": [
    "%%bash\n",
    "./test.sh"
   ]
  },
  {
   "cell_type": "markdown",
   "id": "fb47ba59",
   "metadata": {},
   "source": [
    "正常会看到输出："
   ]
  },
  {
   "cell_type": "code",
   "execution_count": null,
   "id": "0e8f5b2a",
   "metadata": {},
   "outputs": [],
   "source": [
    "hello  alice"
   ]
  }
 ],
 "metadata": {
  "language_info": {
   "name": "python"
  }
 },
 "nbformat": 4,
 "nbformat_minor": 5
}
