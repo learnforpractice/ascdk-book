{
 "cells": [
  {
   "cell_type": "markdown",
   "id": "b4e0b662",
   "metadata": {},
   "source": [
    "# 内联Action在智能合约的使用\n",
    "\n",
    "在智能合约中也可以发起一个action，这样的action称之为内联action(inline action)。需要注意的是，action是异步的，也就是说，只有在整个代码执行完后，内联action对应的合约代码才会被调用，如果被调用的合约没有定义相关的action或者账号中没有部属合约，那么调用将没有影响，但也不会有异常抛出。像这些空的内联action也不是没有任何作用，例如可以当作链上的日志，以供应用程序来查询。\n",
    "\n",
    "以下是Action类在`action.codon`中的完整代码："
   ]
  },
  {
   "cell_type": "markdown",
   "id": "8ace355b",
   "metadata": {},
   "source": [
    "```python\n",
    "@packer\n",
    "class Action(object):\n",
    "    account: Name\n",
    "    name: Name\n",
    "    authorization: List[PermissionLevel]\n",
    "    data: bytes\n",
    "\n",
    "    def __init__(self, account: Name, name: Name, data: bytes=bytes()):\n",
    "        self.account = account\n",
    "        self.name = name\n",
    "        self.authorization = [PermissionLevel(account, n'active')]\n",
    "        self.data = data\n",
    "\n",
    "    def __init__(self, account: Name, name: Name, permission_account: Name, data: bytes=bytes()):\n",
    "        self.account = account\n",
    "        self.name = name\n",
    "        self.authorization = [PermissionLevel(permission_account, n'active')]\n",
    "        self.data = data\n",
    "\n",
    "    def __init__(self, account: Name, name: Name, permission_account: Name, permission_name: Name, data: bytes=bytes()):\n",
    "        self.account = account\n",
    "        self.name = name\n",
    "        self.authorization = [PermissionLevel(permission_account, permission_name)]\n",
    "        self.data = data\n",
    "\n",
    "    def __init__(self, account: Name, name: Name, authorization: List[PermissionLevel], data: bytes=bytes()):\n",
    "        self.account = account\n",
    "        self.name = name\n",
    "        self.authorization = authorization\n",
    "        self.data = data\n",
    "\n",
    "    def send(self):\n",
    "        raw = pack(self)\n",
    "        send_inline(raw.ptr, u32(raw.len))\n",
    "\n",
    "    def send(self, data: T, T: type):\n",
    "        self.data = pack(data)\n",
    "        raw = pack(self)\n",
    "        send_inline(raw.ptr, u32(raw.len))\n",
    "```"
   ]
  },
  {
   "cell_type": "markdown",
   "id": "7bc41490",
   "metadata": {},
   "source": [
    "该类有三个`__init__`函数，请根据需求来使用，使用比较多的应该是下面这个初始化函数："
   ]
  },
  {
   "cell_type": "markdown",
   "id": "7f6e9939",
   "metadata": {},
   "source": [
    "```python\n",
    "def __init__(self, account: Name, name: Name, data: bytes=bytes())\n",
    "```"
   ]
  },
  {
   "cell_type": "markdown",
   "id": "ea268850",
   "metadata": {},
   "source": [
    "这个函数默认使用和account的`active`权限\n",
    "\n",
    "下面这个初始化函数指定了权限的账号，也是默认使用账号的`active`权限"
   ]
  },
  {
   "cell_type": "markdown",
   "id": "c8f48ff7",
   "metadata": {},
   "source": [
    "```python\n",
    "def __init__(self, account: Name, name: Name, permission_account: Name, data: bytes=bytes())\n",
    "```"
   ]
  },
  {
   "cell_type": "markdown",
   "id": "d259be60",
   "metadata": {},
   "source": [
    "如果使用的是其它权限，则可以使用下面的个初始化函数："
   ]
  },
  {
   "cell_type": "markdown",
   "id": "b47848b7",
   "metadata": {},
   "source": [
    "```python\n",
    "def __init__(self, account: Name, name: Name, permission_account: Name, permission_name: Name, data: bytes=bytes())\n",
    "```"
   ]
  },
  {
   "cell_type": "markdown",
   "id": "33639906",
   "metadata": {},
   "source": [
    "如果账号用了多个权限，则用下个这个初始化函数。"
   ]
  },
  {
   "cell_type": "markdown",
   "id": "641a77b9",
   "metadata": {},
   "source": [
    "```python\n",
    "def __init__(self, account: Name, name: Name, authorization: List[PermissionLevel], data: bytes=bytes())\n",
    "```"
   ]
  },
  {
   "cell_type": "markdown",
   "id": "30efd236",
   "metadata": {},
   "source": [
    "示例："
   ]
  },
  {
   "cell_type": "code",
   "execution_count": null,
   "id": "aa53d03f",
   "metadata": {},
   "outputs": [],
   "source": [
    "!mkdir -p tests"
   ]
  },
  {
   "cell_type": "code",
   "execution_count": null,
   "id": "ea67ffc6",
   "metadata": {},
   "outputs": [],
   "source": [
    "%%writefile tests/action_example.codon\n",
    "\n",
    "from packer import pack\n",
    "from chain.action import Action, PermissionLevel\n",
    "from chain.contract import Contract\n",
    "\n",
    "@packer\n",
    "class Person:\n",
    "    name: str\n",
    "    height: u64\n",
    "    def __init__(self, name: str, height: u64):\n",
    "        self.name = name\n",
    "        self.height = height\n",
    "\n",
    "@contract(main=True)\n",
    "class MyContract(Contract):\n",
    "\n",
    "    def __init__(self):\n",
    "        super().__init__()\n",
    "\n",
    "    @action('test')\n",
    "    def test(self):\n",
    "        a = Action(n'hello', n'test2')\n",
    "        print('++++send test2 action')\n",
    "        a.send(\"1 alice\")\n",
    "\n",
    "        a = Action(n'hello', n'test2', n'hello')\n",
    "        print('++++send test2 action')\n",
    "        a.send(\"2 alice\")\n",
    "\n",
    "        a = Action(n'hello', n'test2', n'hello', n'active')\n",
    "        print('++++send test2 action')\n",
    "        a.send(\"3 alice\")\n",
    "\n",
    "        a = Action(n'hello', n'test2', [PermissionLevel(n\"hello\", n\"active\")])\n",
    "        print('++++send test2 action')\n",
    "        a.send(\"4 alice\")\n",
    "\n",
    "        a = Action(n'hello', n'test3')\n",
    "        print('++++send test3 action')\n",
    "        a.send(Person(\"alice\", 175u64))\n",
    "        return\n",
    "\n",
    "    @action('test2')\n",
    "    def test2(self, name: str):\n",
    "        print('++++=name:', name)\n",
    "\n",
    "    @action('test3')\n",
    "    def test3(self, name: str, height: u64):\n",
    "        print('++++=name:', name, 'height:', height)"
   ]
  },
  {
   "cell_type": "markdown",
   "id": "ae383a95",
   "metadata": {},
   "source": [
    "测试代码："
   ]
  },
  {
   "cell_type": "code",
   "execution_count": null,
   "id": "65c2c4d7",
   "metadata": {},
   "outputs": [],
   "source": [
    "%%writefile tests/test.py\n",
    "\n",
    "from pscdk import tester\n",
    "def test_action():\n",
    "    t = tester.init_test('action_example')\n",
    "    ret = t.push_action('hello', 'test', {}, {'hello': 'active'})\n",
    "    t.produce_block()\n",
    "    tester.logger.info(\"++++++++++%s\", ret['elapsed'])"
   ]
  },
  {
   "cell_type": "markdown",
   "id": "5f94c042",
   "metadata": {},
   "source": [
    "编译："
   ]
  },
  {
   "cell_type": "code",
   "execution_count": null,
   "id": "29f2aa24",
   "metadata": {},
   "outputs": [],
   "source": [
    "!python-contract build tests/action_example.codon"
   ]
  },
  {
   "cell_type": "markdown",
   "id": "c72b11c3",
   "metadata": {},
   "source": [
    "运行测试："
   ]
  },
  {
   "cell_type": "code",
   "execution_count": null,
   "id": "8e22aa6b",
   "metadata": {},
   "outputs": [],
   "source": [
    "!ipyeos -m pytest -s -x tests/test.py -k test_action"
   ]
  },
  {
   "cell_type": "markdown",
   "id": "4eea39f5",
   "metadata": {},
   "source": [
    "输出："
   ]
  },
  {
   "cell_type": "markdown",
   "id": "20bf555f",
   "metadata": {},
   "source": [
    "```\n",
    "debug 2023-03-28T12:35:48.175 thread-0  apply_context.cpp:30          print_debug          ] \n",
    "[(hello,test)->hello]: CONSOLE OUTPUT BEGIN =====================\n",
    "++++send test2 action\n",
    "++++send test2 action\n",
    "++++send test2 action\n",
    "++++send test2 action\n",
    "++++send test3 action\n",
    "\n",
    "[(hello,test)->hello]: CONSOLE OUTPUT END   =====================\n",
    "debug 2023-03-28T12:35:48.175 thread-0  apply_context.cpp:30          print_debug          ] \n",
    "[(hello,test2)->hello]: CONSOLE OUTPUT BEGIN =====================\n",
    "++++=name: 1 alice\n",
    "\n",
    "[(hello,test2)->hello]: CONSOLE OUTPUT END   =====================\n",
    "debug 2023-03-28T12:35:48.175 thread-0  apply_context.cpp:30          print_debug          ] \n",
    "[(hello,test2)->hello]: CONSOLE OUTPUT BEGIN =====================\n",
    "++++=name: 2 alice\n",
    "\n",
    "[(hello,test2)->hello]: CONSOLE OUTPUT END   =====================\n",
    "debug 2023-03-28T12:35:48.175 thread-0  apply_context.cpp:30          print_debug          ] \n",
    "[(hello,test2)->hello]: CONSOLE OUTPUT BEGIN =====================\n",
    "++++=name: 3 alice\n",
    "\n",
    "[(hello,test2)->hello]: CONSOLE OUTPUT END   =====================\n",
    "debug 2023-03-28T12:35:48.175 thread-0  apply_context.cpp:30          print_debug          ] \n",
    "[(hello,test2)->hello]: CONSOLE OUTPUT BEGIN =====================\n",
    "++++=name: 4 alice\n",
    "\n",
    "[(hello,test2)->hello]: CONSOLE OUTPUT END   =====================\n",
    "debug 2023-03-28T12:35:48.175 thread-0  apply_context.cpp:30          print_debug          ] \n",
    "[(hello,test3)->hello]: CONSOLE OUTPUT BEGIN =====================\n",
    "++++=name: alice height: 175\n",
    "\n",
    "[(hello,test3)->hello]: CONSOLE OUTPUT END   =====================\n",
    "debug 2023-03-28T12:35:48.177 thread-0  controller.cpp:2444           clear_expired_input_ ] removed 0 expired transactions of the 50 input dedup list, pending block time 2018-06-01T12:00:04.000\n",
    "```"
   ]
  },
  {
   "cell_type": "markdown",
   "id": "e1434573",
   "metadata": {},
   "source": [
    "可以看到，这里先调用了`test`这个在Transaction里指定了的action，然后调用了`test2`这个Action，但是`test2`这个action并没有在Transaction里指定，而是在智能合约里发起的。另外，还通过`test3`演示了如何发送带多个参数的action.\n",
    "\n",
    "\n",
    "\n",
    "\n",
    "需要注意的是，为了在合约中能够调用inline action，需要在账号的`active`权限中添加`eosio.code`这个虚拟权限,在测试代码中，通过下面的函数来将`eosio.code`这个虚拟权限添加到`active`权限中。\n",
    "\n",
    "```python\n",
    "def update_auth(chain, account):\n",
    "    a = {\n",
    "        \"account\": account,\n",
    "        \"permission\": \"active\",\n",
    "        \"parent\": \"owner\",\n",
    "        \"auth\": {\n",
    "            \"threshold\": 1,\n",
    "            \"keys\": [\n",
    "                {\n",
    "                    \"key\": 'EOS6AjF6hvF7GSuSd4sCgfPKq5uWaXvGM2aQtEUCwmEHygQaqxBSV',\n",
    "                    \"weight\": 1\n",
    "                }\n",
    "            ],\n",
    "            \"accounts\": [{\"permission\":{\"actor\":account,\"permission\": 'eosio.code'}, \"weight\":1}],\n",
    "            \"waits\": []\n",
    "        }\n",
    "    }\n",
    "    chain.push_action('eosio', 'updateauth', a, {account:'active'})\n",
    "```"
   ]
  }
 ],
 "metadata": {
  "kernelspec": {
   "display_name": "Python 3 (ipykernel)",
   "language": "python",
   "name": "python3"
  },
  "language_info": {
   "codemirror_mode": {
    "name": "ipython",
    "version": 3
   },
   "file_extension": ".py",
   "mimetype": "text/x-python",
   "name": "python",
   "nbconvert_exporter": "python",
   "pygments_lexer": "ipython3",
   "version": "3.10.8"
  }
 },
 "nbformat": 4,
 "nbformat_minor": 5
}
