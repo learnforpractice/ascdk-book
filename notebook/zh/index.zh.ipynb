{
 "cells": [
  {
   "cell_type": "markdown",
   "id": "3e0761b7",
   "metadata": {},
   "source": [
    "\n",
    "# 目录\n",
    "\n",
    "* [预备知识](prelude.zh.ipynb)\n",
    "* [开发环境搭建](env.zh.ipynb)\n",
    "* [HelloWorld](helloworld.zh.ipynb)\n",
    "* [发布合约](deploy.zh.ipynb)\n",
    "* [与数字钱包进行交互](ui.zh.ipynb)\n",
    "* [内联Action在智能合约的使用](action.zh.ipynb)\n",
    "* [require_recipient函数](notify.zh.ipynb)\n",
    "* [数据库的操作](database.zh.ipynb)\n",
    "* [密码学相关函数](crypto.zh.ipynb)\n",
    "* [常用智能合约函数](common.zh.ipynb)\n",
    "* [Codon代码里调用C/C++代码](callc.zh.ipynb)\n",
    "* [和标准Python的差异](codon.zh.ipynb)"
   ]
  }
 ],
 "metadata": {
  "kernelspec": {
   "display_name": "Python 3 (ipykernel)",
   "language": "python",
   "name": "python3"
  },
  "language_info": {
   "codemirror_mode": {
    "name": "ipython",
    "version": 3
   },
   "file_extension": ".py",
   "mimetype": "text/x-python",
   "name": "python",
   "nbconvert_exporter": "python",
   "pygments_lexer": "ipython3",
   "version": "3.10.8"
  }
 },
 "nbformat": 4,
 "nbformat_minor": 5
}
