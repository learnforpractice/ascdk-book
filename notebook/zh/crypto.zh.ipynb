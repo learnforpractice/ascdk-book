{
 "cells": [
  {
   "cell_type": "markdown",
   "id": "8e87b820",
   "metadata": {},
   "source": [
    "\n",
    "# 密码学相关函数\n",
    "\n",
    "密码学相关的函数在`crypto.codon`中定义，可以通过像下面的方式导入："
   ]
  },
  {
   "cell_type": "markdown",
   "id": "21c96f02",
   "metadata": {},
   "source": [
    "```python\n",
    "from chain.crypto import sha256\n",
    "```"
   ]
  },
  {
   "cell_type": "markdown",
   "id": "2d06de74",
   "metadata": {},
   "source": [
    "或者只导入crypto模块："
   ]
  },
  {
   "cell_type": "markdown",
   "id": "c49ef380",
   "metadata": {},
   "source": [
    "```python\n",
    "from chain import crypto\n",
    "```"
   ]
  },
  {
   "cell_type": "markdown",
   "id": "07f2eece",
   "metadata": {},
   "source": [
    "然后通过像`crypto.sha256`的方式来调用内部函数。\n",
    "\n",
    "## sha256\n",
    "\n",
    "sha256算法hash函数"
   ]
  },
  {
   "cell_type": "markdown",
   "id": "2773990e",
   "metadata": {},
   "source": [
    "```python\n",
    "def sha256(data: bytes) -> Checksum256\n",
    "```"
   ]
  },
  {
   "cell_type": "markdown",
   "id": "5089d02e",
   "metadata": {},
   "source": [
    "用于检测hash256值是否正常，不正确会直接抛出异常"
   ]
  },
  {
   "cell_type": "markdown",
   "id": "3b96f7b5",
   "metadata": {},
   "source": [
    "```python\n",
    "def assert_sha256(data: bytes, hash: Checksum256)\n",
    "```"
   ]
  },
  {
   "cell_type": "markdown",
   "id": "b30303a8",
   "metadata": {},
   "source": [
    "## sha1\n",
    "\n",
    "sha1算法hash函数"
   ]
  },
  {
   "cell_type": "markdown",
   "id": "2eeec2fc",
   "metadata": {},
   "source": [
    "```python\n",
    "def sha1(data: bytes) -> Checksum160\n",
    "```"
   ]
  },
  {
   "cell_type": "markdown",
   "id": "026c9667",
   "metadata": {},
   "source": [
    "用于检测sha1 hash值是否正常，不正确会直接抛出异常"
   ]
  },
  {
   "cell_type": "markdown",
   "id": "7715243d",
   "metadata": {},
   "source": [
    "```python\n",
    "def assert_sha1(data: bytes, hash: Checksum160)\n",
    "```"
   ]
  },
  {
   "cell_type": "markdown",
   "id": "24637647",
   "metadata": {},
   "source": [
    "## sha512\n",
    "\n",
    "sha512算法hash函数"
   ]
  },
  {
   "cell_type": "markdown",
   "id": "8302be0e",
   "metadata": {},
   "source": [
    "```python\n",
    "def sha512(data: bytes) -> Checksum512\n",
    "```"
   ]
  },
  {
   "cell_type": "markdown",
   "id": "6069ca9e",
   "metadata": {},
   "source": [
    "用于检测hash512值是否正常，不正确会直接抛出异常"
   ]
  },
  {
   "cell_type": "markdown",
   "id": "1e2445e5",
   "metadata": {},
   "source": [
    "```python\n",
    "def assert_sha512(data: bytes, hash: Checksum512)\n",
    "```"
   ]
  },
  {
   "cell_type": "markdown",
   "id": "c9e972d0",
   "metadata": {},
   "source": [
    "## ripemd160\n",
    "\n",
    "ripemd160算法hash函数"
   ]
  },
  {
   "cell_type": "markdown",
   "id": "9e840345",
   "metadata": {},
   "source": [
    "```python\n",
    "def ripemd160(data: bytes) -> Checksum160\n",
    "```"
   ]
  },
  {
   "cell_type": "markdown",
   "id": "648452cb",
   "metadata": {},
   "source": [
    "用于检测ripemd160算法的hash值是否正常，不正确会直接抛出异常"
   ]
  },
  {
   "cell_type": "markdown",
   "id": "20aaa5bd",
   "metadata": {},
   "source": [
    "```python\n",
    "def assert_ripemd160(data: bytes, hash: Checksum160)\n",
    "```"
   ]
  },
  {
   "cell_type": "markdown",
   "id": "c8f8bfa1",
   "metadata": {},
   "source": [
    "## recover_key\n",
    "\n",
    "用于从digest和signture中恢复出公钥"
   ]
  },
  {
   "cell_type": "markdown",
   "id": "a14e79eb",
   "metadata": {},
   "source": [
    "```python\n",
    "def recover_key(digest: Checksum256, sig: Signature) -> PublicKey\n",
    "```"
   ]
  },
  {
   "cell_type": "markdown",
   "id": "5739acf6",
   "metadata": {},
   "source": [
    "检查签名是否正常，不正常会抛出异常"
   ]
  },
  {
   "cell_type": "markdown",
   "id": "fa0192f0",
   "metadata": {},
   "source": [
    "```python\n",
    "def assert_recover_key(digest: Checksum256, sig: Signature, pub: PublicKey)\n",
    "```"
   ]
  },
  {
   "cell_type": "markdown",
   "id": "d656f67f",
   "metadata": {},
   "source": [
    "## 示例："
   ]
  },
  {
   "cell_type": "code",
   "execution_count": null,
   "id": "38aae85c",
   "metadata": {},
   "outputs": [],
   "source": [
    "!mkdir -p tests"
   ]
  },
  {
   "cell_type": "code",
   "execution_count": null,
   "id": "6bb4fe07",
   "metadata": {},
   "outputs": [],
   "source": [
    "%%writefile tests/crypto_example.codon\n",
    "\n",
    "from chain.contract import Contract\n",
    "from chain.crypto import sha256, assert_sha256, sha512, assert_sha512, sha1, assert_sha1, ripemd160, assert_ripemd160\n",
    "from chain.crypto import recover_key, assert_recover_key\n",
    "from chain.crypto import Signature, Checksum256, PublicKey\n",
    "\n",
    "@contract(main=True)\n",
    "class MyContract(Contract):\n",
    "\n",
    "    def __init__(self):\n",
    "        super().__init__()\n",
    "\n",
    "    @action('testcrypto')\n",
    "    def test_crypto(self):\n",
    "        assert_sha256(b\"hello\", sha256(b\"hello\"))\n",
    "        assert_sha1(b\"hello\", sha1(b\"hello\"))\n",
    "        assert_sha512(b\"hello\", sha512(b\"hello\"))\n",
    "        assert_ripemd160(b\"hello\", ripemd160(b\"hello\"))\n",
    "\n",
    "    @action('testrecover')\n",
    "    def test_recover(self, msg: bytes, digest: Checksum256, sig: Signature, k1: PublicKey):\n",
    "        _digest = sha256(msg)\n",
    "        assert _digest == digest\n",
    "        _pubkey = recover_key(digest, sig)\n",
    "        assert _pubkey == k1, \"_pubkey == k1\"\n",
    "        assert_recover_key(digest, sig, k1)\n",
    "        print('done!')"
   ]
  },
  {
   "cell_type": "markdown",
   "id": "df7c9c02",
   "metadata": {},
   "source": [
    "测试代码："
   ]
  },
  {
   "cell_type": "code",
   "execution_count": null,
   "id": "01e20c7c",
   "metadata": {},
   "outputs": [],
   "source": [
    "%%writefile tests/test.py\n",
    "\n",
    "import hashlib\n",
    "from pyeoskit import eosapi\n",
    "from pscdk import tester\n",
    "\n",
    "def test_crypto():\n",
    "    t = tester.init_test('crypto_example')\n",
    "    args = {}\n",
    "    ret = t.push_action('hello', 'testcrypto', args, {'hello': 'active'})\n",
    "    t.produce_block()\n",
    "    tester.logger.info(\"++++++++++%s\\n\", ret['elapsed'])\n",
    "\n",
    "def test_recover():\n",
    "    t = tester.init_test('crypto_example')\n",
    "\n",
    "    msg = b'hello,world'\n",
    "    # key pair\n",
    "    public_key = 'EOS6MRyAjQq8ud7hVNYcfnVPJqcVpscN5So8BhtHuGYqET5GDW5CV'\n",
    "    private_key = '5KQwrPbwdL6PhXujxW37FSSQZ1JiwsST4cqQzDeyXtP79zkvFD3'\n",
    "\n",
    "    h = hashlib.sha256()\n",
    "    h.update(msg)\n",
    "    digest = h.hexdigest()\n",
    "    tester.logger.info('++++digest: %s', digest)\n",
    "\n",
    "    #sign with private key\n",
    "    sig = eosapi.sign_digest(digest, private_key)\n",
    "    tester.logger.info('++++signature: %s', sig)\n",
    "    args = {\n",
    "        \"msg\": msg.hex(),\n",
    "        \"digest\": digest,\n",
    "        \"sig\": sig,\n",
    "        \"k1\": public_key,\n",
    "    }\n",
    "    ret = t.push_action('hello', 'testrecover', args, {'hello': 'active'})\n",
    "    t.produce_block()\n",
    "    tester.logger.info(\"++++++++++%s\\n\", ret['elapsed'])"
   ]
  },
  {
   "cell_type": "markdown",
   "id": "ed197545",
   "metadata": {},
   "source": [
    "编译："
   ]
  },
  {
   "cell_type": "code",
   "execution_count": null,
   "id": "e4d40e9b",
   "metadata": {},
   "outputs": [],
   "source": [
    "!python-contract build tests/crypto_example.codon"
   ]
  },
  {
   "cell_type": "markdown",
   "id": "87f79fab",
   "metadata": {},
   "source": [
    "测试："
   ]
  },
  {
   "cell_type": "code",
   "execution_count": null,
   "id": "4b61d040",
   "metadata": {},
   "outputs": [],
   "source": [
    "!ipyeos -m pytest -s -x tests/test.py -k test_crypto"
   ]
  },
  {
   "cell_type": "code",
   "execution_count": null,
   "id": "b5a224df",
   "metadata": {},
   "outputs": [],
   "source": [
    "!ipyeos -m pytest -s -x tests/test.py -k test_recover"
   ]
  },
  {
   "cell_type": "markdown",
   "id": "5aeec24a",
   "metadata": {},
   "source": [
    "在这个示例代码中，分别演示了常用的hash函数的用法以及`recover_key`和`assert_recover_key`的用法。hash函数的用法比较简单，这里解释一下recover_key的测试代码：\n",
    "recover_key接受二个参数，分别是`digest`和`signature`，digest是对一个二进制数据进行sha256运行的结果。在上面的代码中是通过对`hello,world`进行sha256算法的hash计算。"
   ]
  },
  {
   "cell_type": "markdown",
   "id": "a3ab96bf",
   "metadata": {},
   "source": [
    "```python\n",
    "h = hashlib.sha256()\n",
    "h.update(b'hello,world')\n",
    "digest = h.hexdigest()\n",
    "```"
   ]
  },
  {
   "cell_type": "markdown",
   "id": "7ba71f6a",
   "metadata": {},
   "source": [
    "运算出的结果作为参数传给action.\n",
    "\n",
    "下面是对`testrecover`的解释："
   ]
  },
  {
   "cell_type": "markdown",
   "id": "dee47391",
   "metadata": {},
   "source": [
    "```python\n",
    "@action('testrecover')\n",
    "def test_recover(self, msg: bytes, digest: Checksum256, sig: Signature, k1: PublicKey):\n",
    "    _digest = sha256(msg)\n",
    "    assert _digest == digest #判断digest是否对msg进行hash256算法的hash结果\n",
    "    _pubkey = recover_key(digest, sig)\n",
    "    assert _pubkey == k1, \"_pubkey == k1\" #判断public key是否正确\n",
    "\n",
    "    assert_recover_key(digest, sig, k1) #作用相当于上面两行代码\n",
    "    print('done!')\n",
    "```"
   ]
  },
  {
   "cell_type": "markdown",
   "id": "2ca714d7",
   "metadata": {},
   "source": [
    "在发送的Transaction中也是需要包含用户对Transaction的签名的，以表示用户授权了这个Transaction。然后在智能合约，就可以调用的`require_auth`函数来判断Transaction是否进行过特定用户的授权。\n",
    "\n",
    "在实际的智能合约的应用中，如果要在智能合约里判断某段二进制数据是否是用特定的私钥进行的签名也可以用上面的办法。过程如下：\n",
    "\n",
    "- 首先用户用自己的私钥对数据进行签名\n",
    "- 用户将数据，签名，公钥（注意这里不是私钥）传给智能合约\n",
    "- 智能合约即可判断数据是否是用特别的私钥签的名，并进行相应的操作。"
   ]
  }
 ],
 "metadata": {
  "kernelspec": {
   "display_name": "Python 3 (ipykernel)",
   "language": "python",
   "name": "python3"
  },
  "language_info": {
   "codemirror_mode": {
    "name": "ipython",
    "version": 3
   },
   "file_extension": ".py",
   "mimetype": "text/x-python",
   "name": "python",
   "nbconvert_exporter": "python",
   "pygments_lexer": "ipython3",
   "version": "3.10.8"
  }
 },
 "nbformat": 4,
 "nbformat_minor": 5
}
