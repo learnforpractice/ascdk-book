{
 "cells": [
  {
   "cell_type": "markdown",
   "id": "659c8ce0",
   "metadata": {},
   "source": [
    "\n",
    "# HelloWorld\n",
    "\n",
    "## 第一个智能合约\n",
    "\n",
    "以下展示了一个最简单的智能合约代码和测试代码"
   ]
  },
  {
   "cell_type": "code",
   "execution_count": null,
   "id": "3fe684d7",
   "metadata": {},
   "outputs": [],
   "source": [
    "!mkdir -p tests"
   ]
  },
  {
   "cell_type": "code",
   "execution_count": null,
   "id": "8714926a",
   "metadata": {},
   "outputs": [],
   "source": [
    "%%writefile tests/helloworld.codon\n",
    "\n",
    "from chain.contract import Contract\n",
    "\n",
    "@contract(main=True)\n",
    "class MyContract(Contract):\n",
    "\n",
    "    def __init__(self):\n",
    "        super().__init__()\n",
    "\n",
    "    @action('sayhello')\n",
    "    def say_hello(self):\n",
    "        print(\"Hello, World!\")"
   ]
  },
  {
   "cell_type": "markdown",
   "id": "89accffe",
   "metadata": {},
   "source": [
    "测试代码："
   ]
  },
  {
   "cell_type": "code",
   "execution_count": null,
   "id": "69ae57df",
   "metadata": {},
   "outputs": [],
   "source": [
    "%%writefile tests/testhelloworld.py\n",
    "\n",
    "import os\n",
    "from ipyeos import chaintester\n",
    "from ipyeos.chaintester import ChainTester\n",
    "from ipyeos import log\n",
    "\n",
    "chaintester.chain_config['contracts_console'] = True\n",
    "\n",
    "logger = log.get_logger(__name__)\n",
    "\n",
    "dir_name = os.path.dirname(os.path.abspath(__file__))\n",
    "\n",
    "def init_test(contract_name):\n",
    "    t = ChainTester(True)\n",
    "    wasm_file = os.path.join(dir_name, f'{contract_name}.wasm')\n",
    "    with open(wasm_file, 'rb') as f:\n",
    "        code = f.read()\n",
    "\n",
    "    abi_file = os.path.join(dir_name, f'{contract_name}.abi')\n",
    "    with open(abi_file, 'r') as f:\n",
    "        abi = f.read()\n",
    "\n",
    "    t.deploy_contract('hello', code, abi)\n",
    "    t.produce_block()\n",
    "    return t\n",
    "\n",
    "def test():\n",
    "    t = init_test('helloworld')\n",
    "    ret = t.push_action('hello', 'sayhello', \"\", {'hello': 'active'})\n",
    "    t.produce_block()\n",
    "    logger.info(\"++++++++++%s\\n\", ret['elapsed'])"
   ]
  },
  {
   "cell_type": "markdown",
   "id": "fe389c10",
   "metadata": {},
   "source": [
    "编译："
   ]
  },
  {
   "cell_type": "code",
   "execution_count": null,
   "id": "f118da51",
   "metadata": {},
   "outputs": [],
   "source": [
    "!python-contract build tests/helloworld.codon"
   ]
  },
  {
   "cell_type": "markdown",
   "id": "8e3f27f3",
   "metadata": {},
   "source": [
    "运行测试代码："
   ]
  },
  {
   "cell_type": "code",
   "execution_count": null,
   "id": "ead80e5b",
   "metadata": {},
   "outputs": [],
   "source": [
    "!ipyeos -m pytest -s -x tests/testhelloworld.py -k test"
   ]
  },
  {
   "cell_type": "markdown",
   "id": "fd7d9931",
   "metadata": {},
   "source": [
    "输出："
   ]
  },
  {
   "cell_type": "code",
   "execution_count": null,
   "id": "5bcbf07e",
   "metadata": {},
   "outputs": [],
   "source": [
    "Hello, World!"
   ]
  },
  {
   "cell_type": "markdown",
   "id": "888072b2",
   "metadata": {},
   "source": [
    "## 创建一个初始项目\n",
    "\n",
    "可以用`python-contract init`命令来创建一个初始项目，例如下面的代码创建了一个`mycontract`的初始项目："
   ]
  },
  {
   "cell_type": "code",
   "execution_count": null,
   "id": "cd65570a",
   "metadata": {},
   "outputs": [],
   "source": [
    "!python-contract init mycontract"
   ]
  },
  {
   "cell_type": "markdown",
   "id": "ca41d8c4",
   "metadata": {},
   "source": [
    "创建完后可以用下面的命令编译合约："
   ]
  },
  {
   "cell_type": "code",
   "execution_count": null,
   "id": "2c188166",
   "metadata": {},
   "outputs": [],
   "source": [
    "%cd mycontract\n",
    "!./build.sh"
   ]
  },
  {
   "cell_type": "markdown",
   "id": "14f1f11a",
   "metadata": {},
   "source": [
    "执行成功后会生成`mycontract.wasm`和`mycontract.abi`这两个文件\n",
    "\n",
    "可以运行下面的命令进行测试："
   ]
  },
  {
   "cell_type": "code",
   "execution_count": null,
   "id": "4507627a",
   "metadata": {},
   "outputs": [],
   "source": [
    "!./test.sh"
   ]
  },
  {
   "cell_type": "markdown",
   "id": "122eff6a",
   "metadata": {},
   "source": [
    "会以绿色字体输出以下的的文字信息："
   ]
  },
  {
   "cell_type": "markdown",
   "id": "fc5b6c73",
   "metadata": {},
   "source": [
    "[(hello,sayhello)->hello]: CONSOLE OUTPUT BEGIN =====================\n",
    "\n",
    "hello  alice\n",
    "\n",
    "[(hello,sayhello)->hello]: CONSOLE OUTPUT END   ====================="
   ]
  },
  {
   "cell_type": "markdown",
   "id": "d9a90aba",
   "metadata": {},
   "source": [
    "需要注意的是上面的输出是调用信息，如果是在主网上运行,`print`函数输出的内容是看不到的，如果是运行在测试网，则在运行nodeos命令的时候要加上参数`--contracts-console`才能在返回中看调试输出。\n",
    "\n",
    "在上面测试代码中，则是直接通过下面的这行代码来输出调试信息："
   ]
  },
  {
   "cell_type": "markdown",
   "id": "b7b82a56",
   "metadata": {},
   "source": [
    "```python3\n",
    "chaintester.chain_config['contracts_console'] = True\n",
    "```"
   ]
  },
  {
   "cell_type": "markdown",
   "id": "20d27043",
   "metadata": {},
   "source": [
    "另外，在发布版本的代码中，为了提高程序运行的性能，也不应该包含print代码。"
   ]
  }
 ],
 "metadata": {
  "kernelspec": {
   "display_name": "Python 3 (ipykernel)",
   "language": "python",
   "name": "python3"
  },
  "language_info": {
   "codemirror_mode": {
    "name": "ipython",
    "version": 3
   },
   "file_extension": ".py",
   "mimetype": "text/x-python",
   "name": "python",
   "nbconvert_exporter": "python",
   "pygments_lexer": "ipython3",
   "version": "3.10.8"
  }
 },
 "nbformat": 4,
 "nbformat_minor": 5
}
