{
 "cells": [
  {
   "cell_type": "markdown",
   "id": "75df7b97",
   "metadata": {},
   "source": [

    "\n",
    "# 预备知识\n",
    "\n",
    "## 什么是智能合约\n",
    "\n",
    "智能合约是可以在链上执行的代码\n",
    "\n",
    "## 什么是Python智能合约\n",
    "\n",
    "Python智能合约是用Python语言写的可在链上执行的代码。以EOS网络为例，Python智能合约的代码会被编译成叫Webassebmly的二进制文件，并且可以发布到链上并被执行，从而达成某种操作效果。\n",
    "\n",
    "## 什么是EOS\n",
    "EOS是一个基于代理权益证明(DPOS - Delegated Proof of Stake)共识算法的区块链网络。主网于2018年的6月8号正式上线。EOS的主网由21个块生产者(Block Producer)控制，块生产者简称为BP，由投票产生，负责将交易(Transaction)打包到区块中。\n",
    "\n",
    "## 账号(Account)\n",
    "在EOS区块链上，每一个交易的实体用一个账号表示。账号的名称是一个name结构，在下一节会讲到。账号在C++代码里表示的结构比较复杂。\n",
    "\n",
    "下面是通过EOS的`get_account`RPC接口返回的信息来分集一下包含在账号里的信息："
   ]
  },
  {
   "cell_type": "code",
   "execution_count": null,
   "id": "135cecd5",
   "metadata": {},
   "outputs": [],
   "source": [
    "eosapi.get_account(\"testaccount\")"
   ]
  },
  {
   "cell_type": "code",
   "execution_count": null,
   "id": "2aaf1652",
   "metadata": {
    "attributes": {
     "classes": [
      "json"
     ],
     "id": ""
    }
   },
   "outputs": [],
   "source": [
    "{\n",
    " \"account_name\": \"testaccount\",\n",
    " \"head_block_num\": 301601062,\n",
    " \"head_block_time\": \"2023-03-28T06:19:09.500\",\n",
    " \"privileged\": false,\n",
    " \"last_code_update\": \"1970-01-01T00:00:00.000\",\n",
    " \"created\": \"2018-06-13T04:43:18.000\",\n",
    " \"core_liquid_balance\": \"0.0001 EOS\",\n",
    " \"ram_quota\": 3052,\n",
    " \"net_weight\": 0,\n",
    " \"cpu_weight\": 0,\n",
    " \"net_limit\": {\n",
    "  \"used\": 0,\n",
    "  \"available\": 0,\n",
    "  \"max\": 0,\n",
    "  \"last_usage_update_time\": \"2018-06-13T04:43:18.000\",\n",
    "  \"current_used\": 0\n",
    " },\n",
    " \"cpu_limit\": {\n",
    "  \"used\": 0,\n",
    "  \"available\": 0,\n",
    "  \"max\": 0,\n",
    "  \"last_usage_update_time\": \"2018-06-13T04:43:18.000\",\n",
    "  \"current_used\": 0\n",
    " },\n",
    " \"ram_usage\": 2996,\n",
    " \"permissions\": [\n",
    "  {\n",
    "   \"perm_name\": \"active\",\n",
    "   \"parent\": \"owner\",\n",
    "   \"required_auth\": {\n",
    "    \"threshold\": 1,\n",
    "    \"keys\": [\n",
    "     {\n",
    "      \"key\": \"EOS5eCkKszJt22****Y2YampuDDD8q95w2mF\",\n",
    "      \"weight\": 1\n",
    "     }\n",
    "    ],\n",
    "    \"accounts\": [],\n",
    "    \"waits\": []\n",
    "   },\n",
    "   \"linked_actions\": []\n",
    "  },\n",
    "  {\n",
    "   \"perm_name\": \"owner\",\n",
    "   \"parent\": \"\",\n",
    "   \"required_auth\": {\n",
    "    \"threshold\": 1,\n",
    "    \"keys\": [\n",
    "     {\n",
    "      \"key\": \"EOS5eCkKszJ****q95w2mF\",\n",
    "      \"weight\": 1\n",
    "     }\n",
    "    ],\n",
    "    \"accounts\": [],\n",
    "    \"waits\": []\n",
    "   },\n",
    "   \"linked_actions\": []\n",
    "  }\n",
    " ],\n",
    " \"total_resources\": {\n",
    "  \"owner\": \"helloworld11\",\n",
    "  \"net_weight\": \"0.0000 EOS\",\n",
    "  \"cpu_weight\": \"0.0000 EOS\",\n",
    "  \"ram_bytes\": 3052\n",
    " },\n",
    " \"self_delegated_bandwidth\": null,\n",
    " \"refund_request\": null,\n",
    " \"voter_info\": null,\n",
    " \"rex_info\": null,\n",
    " \"subjective_cpu_bill_limit\": {\n",
    "  \"used\": 0,\n",
    "  \"available\": 0,\n",
    "  \"max\": 0,\n",
    "  \"last_usage_update_time\": \"2000-01-01T00:00:00.000\",\n",
    "  \"current_used\": 0\n",
    " },\n",
    " \"eosio_any_linked_actions\": []\n",
    "}"
   ]
  },
  {
   "cell_type": "markdown",
   "id": "33bcf9ec",
   "metadata": {},
   "source": [
    "简单介绍一下主要的字段的意思：\n",
    "\n",
    "- `account_name`: 账号名，规则在下一节中会讲到\n",
    "- `privileged`: `true`表示账号是特权账号，如`eosio`即是特权账号。`false`则表示普通账号\n",
    "- `last_code_update`: 账号中的智能合约的最后一次更新时间\n",
    "- `created`: 账号的创建时间,\n",
    "- `core_liquid_balance`: 账号的可用余额,\n",
    "- `ram_quota`: 账号分配的总内存，由于EOS的数据库是内存数据库，所有的链上数据都是要放到内存中，而内存是有限的，所以将内存作为一种资源来分配给账号。\n",
    "- `net_weight`: 账号分配到的网络资源的权重\n",
    "- `cpu_weight`: 账号分配到的CPU资源的权重\n",
    "- `net_limit`：账号的网络资源的使用情况\n",
    "- `cpu_limit`CPU资源的使用情况\n",
    "- `ram_usage`: 已经使用的内存\n",
    "- `permissions`: 账号的权限，账号的权限包含一个或者多个公钥或者账号的信息，每个公钥和账号的权限又占一定的权重(weight)，在发送交易(transaction)时，必须用公钥对应的私钥对交易进行签名，并且权重要大于等于`threshold`时，这个交易才能被BP认可。当账号的权限里包含的不是公钥信息，而是指定继承自某个账号的权限信息时，在签名的时候，会从这个账号的权限信息里提取出公钥信息，这通过C++程序的算法来实现。EOS的RPC接口中也有一个`get_required_keys`接口来获取签名的公钥信息。\n",
    "- `total_resources`：这里指定账号分配的NET，CPU， RAM等资源的信息\n",
    "                                                                                                    \n",
    "## Name 结构\n",
    "name是EOS中的一个最基本的数据结构，在底层用一个64位的无符号整数(uint64_t)表示。\n",
    "\n",
    "在C++中的定义如下：\n",
    "\n",
    "[libraries/chain/include/eosio/chain/name.hpp](https://github.com/EOSIO/eos/blob/5082391c60b0fa5e68157c385cd402bf25aea934/libraries/chain/include/eosio/chain/name.hpp#L42)"
   ]
  },
  {
   "cell_type": "code",
   "execution_count": null,
   "id": "8639053c",
   "metadata": {
    "attributes": {
     "classes": [
      "c++"
     ],
     "id": ""
    }
   },
   "outputs": [],
   "source": [
    "   struct name {\n",
    "      uint64_t value = 0;\n",
    "      bool empty()const { return 0 == value; }\n",
    "      bool good()const  { return !empty();   }\n",
    "\n",
    "      name( const char* str )   { set(str);           } \n",
    "      name( const string& str ) { set( str.c_str() ); }\n",
    "...\n",
    "   }"
   ]
  },
  {
   "cell_type": "markdown",
   "id": "1003fdca",
   "metadata": {},
   "source": [
    "但是在应用层使用的时候都是以字符串的形式表示的,字符串也只能包含这些字符：\".12345abcdefghijklmnopqrstuvwxyz\"。字符一共32个，分别用来表示0～31这32个数字，可以把这些字符串看作是32进制的数据，`uint64_t`中，每5位转换成一个上面的字符，由于`uint64_t`最多只有64位，所以前60位可以表示12个字符，字符的范围用正则表达式表示为`[.1-5a-z]`，而最高的4位，只可以用16个字符来表示，这16个字符用正则表达式表示的范围为`[.1-5a-j]`，\n",
    "\n",
    "在具体的使用的过程中，如在创建账号的时候，经常犯的错误就是把`6`到`9`，`0`以及大写的字母都作为有效的字符，还有就是没有把长度限制在12个字符之内。\n",
    "\n",
    "总结一下：\n",
    "\n",
    "- EOS中，name的值在底层其实是一个`uint64_t`类型，在应用层的时候才用字符串表示，这个字符串最多可以有13个字符\n",
    "- 第13个字符的范围比前12个字符能表示的范围小。\n",
    "- 在用name结构来表示账号（account）名时，最多只有12个字符。\n",
    "- 另外，name结构也用来表示一些其它类型，见下面的C++代码：\n",
    "\n",
    "[libraries/chain/include/eosio/chain/types.hpp](https://github.com/EOSIO/eos/blob/5082391c60b0fa5e68157c385cd402bf25aea934/libraries/chain/include/eosio/chain/types.hpp#L133)"
   ]
  },
  {
   "cell_type": "code",
   "execution_count": null,
   "id": "67d2de9d",
   "metadata": {
    "attributes": {
     "classes": [
      "c++"
     ],
     "id": ""
    }
   },
   "outputs": [],
   "source": [
    "   using account_name     = name;\n",
    "   using action_name      = name;\n",
    "   using scope_name       = name;\n",
    "   using permission_name  = name;\n",
    "   using table_name       = name;"
   ]
  },
  {
   "cell_type": "markdown",
   "id": "f69bb7c2",
   "metadata": {},
   "source": [
    "在这个C++代码中，name结构也用来表示action， table的名称等等，注意的是，不同于账号(account)名，在用字符串表示这些名称时，最多可以有13个字符，但是一般为了方便，习惯上用的时候也是最多用12个字符来表示这些名称。\n",
    "                                                                                                    \n",
    "## Transaction 结构\n",
    "\n",
    "EOS上基本数据结构称为交易（Transaction），由BP负责将一段时间内收集到的交易打包成一个区块。智能合约开发者必须充分了解Transaction的数据结构。\n",
    "\n",
    "\n",
    "[libraries/chain/include/eosio/chain/transaction.hpp](https://github.com/EOSIO/eos/blob/5082391c60b0fa5e68157c385cd402bf25aea934/libraries/chain/include/eosio/chain/transaction.hpp#L30)"
   ]
  },
  {
   "cell_type": "code",
   "execution_count": null,
   "id": "9c4046e8",
   "metadata": {
    "attributes": {
     "classes": [
      "c++"
     ],
     "id": ""
    }
   },
   "outputs": [],
   "source": [
    "struct transaction_header {\n",
    "      time_point_sec         expiration;   ///< the time at which a transaction expires\n",
    "      uint16_t               ref_block_num       = 0U; ///< specifies a block num in the last 2^16 blocks.\n",
    "      uint32_t               ref_block_prefix    = 0UL; ///< specifies the lower 32 bits of the blockid at get_ref_blocknum\n",
    "      fc::unsigned_int       max_net_usage_words = 0UL; /// upper limit on total network bandwidth (in 8 byte words) billed for this transaction\n",
    "      uint8_t                max_cpu_usage_ms    = 0; /// upper limit on the total CPU time billed for this transaction\n",
    "      fc::unsigned_int       delay_sec           = 0UL; /// number of seconds to delay this transaction for during which it may be canceled.\n",
    "\n",
    "...\n",
    "   };\n",
    "\n",
    "   struct transaction : public transaction_header {\n",
    "      vector<action>         context_free_actions;\n",
    "      vector<action>         actions;\n",
    "      extensions_type        transaction_extensions;\n",
    "...\n",
    "   };"
   ]
  },
  {
   "cell_type": "markdown",
   "id": "b683628d",
   "metadata": {},
   "source": [
    "简单解释下比较重要的字段：\n",
    "\n",
    "- `expiration`, 设置transaction上链的超时时间，超时将被拒绝加入区块中。\n",
    "- `ref_block_num`, `ref_block_prefix` 这两个成员变量是用来防止transaction在fork链上被重新包含进区块而设计的。\n",
    "- `actions`, 这是一个action的数组结构，action的概念非常重要，每一个action都对应一个链上的智能合约函数，BP在将Transaction包含进区块的时候，都会根据action来调用对应的智能合约函数，这将在下面的一节中详细解释。\n",
    "- `context_free_actions `, 这同样是一个action的数组，不同的是，当和action相对应的智能合约函数被调用时，执行的代码被禁止调用和链上数据库相关的API。\n",
    "                                                                                                    \n",
    "## Action 结构\n",
    "\n",
    "Action结构包含在Transaction结构中。一个action结构在C++代码中的定义如下：\n",
    "\n",
    "[libraries/chain/include/eosio/chain/action.hpp](https://github.com/EOSIO/eos/blob/5082391c60b0fa5e68157c385cd402bf25aea934/libraries/chain/include/eosio/chain/action.hpp#L60)"
   ]
  },
  {
   "cell_type": "code",
   "execution_count": null,
   "id": "1bbb635e",
   "metadata": {
    "attributes": {
     "classes": [
      "c++"
     ],
     "id": ""
    }
   },
   "outputs": [],
   "source": [
    "   struct action {\n",
    "      account_name               account;\n",
    "      action_name                name;\n",
    "      vector<permission_level>   authorization;\n",
    "      bytes                      data;\n",
    "...\n",
    "   }"
   ]
  },
  {
   "cell_type": "markdown",
   "id": "6f05e99f",
   "metadata": {},
   "source": [
    "其中，[permission_level](https://github.com/EOSIO/eos/blob/5082391c60b0fa5e68157c385cd402bf25aea934/libraries/chain/include/eosio/chain/action.hpp#L12)的定义如下："
   ]
  },
  {
   "cell_type": "code",
   "execution_count": null,
   "id": "52d464e9",
   "metadata": {
    "attributes": {
     "classes": [
      "C++"
     ],
     "id": ""
    }
   },
   "outputs": [],
   "source": [
    "struct permission_level {\n",
    "    account_name    actor;\n",
    "    permission_name permission;\n",
    "};"
   ]
  },
  {
   "cell_type": "markdown",
   "id": "50640545",
   "metadata": {},
   "source": [
    "结构中的成员变量意义解释如下：\n",
    "\n",
    "- `account`用来指定要被调用的智能合约的账号名\n",
    "- `name`被调用的action的名称\n",
    "- `authorization`权限数组\n",
    "- `data`action所包含的已经被序列化后的原始数据，在被智能合约所调用的时候，会被反序列化成具体的数据结构"
   ]
  },
  {
   "cell_type": "code",
   "execution_count": null,
   "id": "c85159df",
   "metadata": {},
   "outputs": [],
   "source": [
    "\n",
    "## ABI(Application Binary Interface)"
   ]
  },
  {
   "cell_type": "markdown",
   "id": "f3f0438e",
   "metadata": {},
   "source": [
    "在开发智能合约的时候，在编译智能合约代码的过程中，正常情况下，在生成的每个智能合约的二进制代码(.wasm)的同时，都会生成一个ABI文件(.abi)。但是要注意这个文件并不是调用链上的智能合约所必须的。它的作用是方便开发者能够获取相关的action的信息，以构造相应的Transaction数据结构，以方便和区块链进行交互。\n",
    "\n",
    "一个ABI文件的内容是json格式的数据，像下面这个样子："
   ]
  },
  {
   "cell_type": "code",
   "execution_count": null,
   "id": "b7f387cf",
   "metadata": {
    "attributes": {
     "classes": [
      "json"
     ],
     "id": ""
    }
   },
   "outputs": [],
   "source": [
    "{\n",
    "    \"version\": \"eosio::abi/1.2\",\n",
    "    \"structs\": [\n",
    "        {\n",
    "            \"name\": \"A\",\n",
    "            \"base\": \"\",\n",
    "            \"fields\": [\n",
    "                {\n",
    "                    \"name\": \"a\",\n",
    "                    \"type\": \"uint64\"\n",
    "                },\n",
    "                {\n",
    "                    \"name\": \"b\",\n",
    "                    \"type\": \"uint64\"\n",
    "                },\n",
    "                {\n",
    "                    \"name\": \"c\",\n",
    "                    \"type\": \"uint128\"\n",
    "                }\n",
    "            ]\n",
    "        },\n",
    "        {\n",
    "            \"name\": \"test\",\n",
    "            \"base\": \"\",\n",
    "            \"fields\": []\n",
    "        }\n",
    "    ],\n",
    "    \"actions\": [\n",
    "        {\n",
    "            \"name\": \"test\",\n",
    "            \"type\": \"test\",\n",
    "            \"ricardian_contract\": \"\"\n",
    "        }\n",
    "    ],\n",
    "    \"tables\": [\n",
    "        {\n",
    "            \"name\": \"mytable\",\n",
    "            \"type\": \"A\",\n",
    "            \"index_type\": \"i64\",\n",
    "            \"key_names\": [],\n",
    "            \"key_types\": []\n",
    "        }\n",
    "    ],\n",
    "    \"ricardian_clauses\": []\n",
    "}"
   ]
  },
  {
   "cell_type": "markdown",
   "id": "c011be89",
   "metadata": {},
   "source": [
    "- `version`用来指定ABI的版本\n",
    "- `structs`用来指定数据结构，会在`actions`和`tables`这两个结构里被用到\n",
    "- `actions`用来描述可以智能合约中的action，每个action实际上都是对应一个智能合约函数\n",
    "- `tables`用来描述表的信息，这样，你网页应用程序就可以通过`get_table_rows`这个RPC API来查询链上的数据库信息"
   ]
  }
 ],
 "metadata": {},
 "nbformat": 4,
 "nbformat_minor": 5
}
