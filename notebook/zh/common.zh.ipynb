{
 "cells": [
  {
   "cell_type": "markdown",
   "id": "ed1d4204",
   "metadata": {},
   "source": [
    "\n",
    "# 常用智能合约函数\n",
    "\n",
    "## is_account\n",
    "\n",
    "声明："
   ]
  },
  {
   "cell_type": "markdown",
   "id": "939d246e",
   "metadata": {},
   "source": [
    "```python\n",
    "def is_account(account: Name ) -> bool:\n",
    "    ...\n",
    "```"
   ]
  },
  {
   "cell_type": "markdown",
   "id": "f8b549c6",
   "metadata": {},
   "source": [
    "说明：\n",
    "\n",
    "用来判断账号存不存在\n",
    "\n",
    "## has_auth\n",
    "\n",
    "声明："
   ]
  },
  {
   "cell_type": "markdown",
   "id": "476ea4a5",
   "metadata": {},
   "source": [
    "```python\n",
    "def has_auth(account: Name) -> bool:\n",
    "    ...\n",
    "```"
   ]
  },
  {
   "cell_type": "markdown",
   "id": "0fc159d0",
   "metadata": {},
   "source": [
    "说明：\n",
    "\n",
    "用来判断是否有指定账号的`active`权限，也就是Transaction是否有用指定账号的`active`权限所对应的私钥进行签名。对应的私钥最少有一个，也可能二个以上。\n",
    "\n",
    "## require_auth/require_auth2\n",
    "\n",
    "声明："
   ]
  },
  {
   "cell_type": "markdown",
   "id": "da650bb1",
   "metadata": {},
   "source": [
    "```python\n",
    "def require_auth(account: Name):\n",
    "    ...\n",
    "\n",
    "def require_auth2(account: Name, permission: Name):\n",
    "    ...\n",
    "```"
   ]
  },
  {
   "cell_type": "markdown",
   "id": "fdcd46de",
   "metadata": {},
   "source": [
    "说明：\n",
    "\n",
    "这两个函数在账号不存在或者没有检测到有指定账号的权限时都会抛出异常，不同的是`require_auth`为检测是否存在`active`权限，而`require_auth2`可以检测指定的权限。\n",
    "\n",
    "## publication_time/current_time\n",
    "\n",
    "## check\n",
    "\n",
    "声明："
   ]
  },
  {
   "cell_type": "markdown",
   "id": "0d937665",
   "metadata": {},
   "source": [
    "```python\n",
    "def check(test: bool, msg: str) -> None:\n",
    "```"
   ]
  },
  {
   "cell_type": "markdown",
   "id": "7c5aa651",
   "metadata": {},
   "source": [
    "说明：\n",
    "\n",
    "如果test为False，则会抛出异常。该函数在智能合约中使用比较频繁，可参考`token.codon`中的代码\n",
    "\n",
    "\n",
    "## 示例代码："
   ]
  },
  {
   "cell_type": "code",
   "execution_count": null,
   "id": "04173b59",
   "metadata": {},
   "outputs": [],
   "source": [
    "!mkdir -p tests"
   ]
  },
  {
   "cell_type": "code",
   "execution_count": null,
   "id": "aede8e4b",
   "metadata": {},
   "outputs": [],
   "source": [
    "%%writefile tests/test.codon\n",
    "\n",
    "from chain.action import has_auth, require_auth, require_auth2, is_account\n",
    "from chain.contract import Contract\n",
    "\n",
    "@contract(main=True)\n",
    "class MyContract(Contract):\n",
    "\n",
    "    def __init__(self):\n",
    "        super().__init__()\n",
    "\n",
    "    @action('test')\n",
    "    def test(self):\n",
    "        has_auth(n\"hello\")\n",
    "\n",
    "        require_auth(n\"hello\")\n",
    "        require_auth2(n\"hello\", n\"active\")\n",
    "\n",
    "        print(is_account(n\"hello\"))\n",
    "        print(is_account(n\"hello\"))\n",
    "        return"
   ]
  },
  {
   "cell_type": "markdown",
   "id": "b6b89cf6",
   "metadata": {},
   "source": [
    "编译："
   ]
  },
  {
   "cell_type": "code",
   "execution_count": null,
   "id": "10a0ead9",
   "metadata": {},
   "outputs": [],
   "source": [
    "!python-contract build tests/test.codon"
   ]
  },
  {
   "cell_type": "markdown",
   "id": "0d5c7775",
   "metadata": {},
   "source": [
    "测试代码："
   ]
  },
  {
   "cell_type": "code",
   "execution_count": null,
   "id": "12b51907",
   "metadata": {},
   "outputs": [],
   "source": [
    "%%writefile tests/test.py\n",
    "\n",
    "from pscdk import tester\n",
    "def test_common():\n",
    "    t = tester.init_test('test')\n",
    "    ret = t.push_action('hello', 'test', {}, {'hello': 'active'})\n",
    "    t.produce_block()\n",
    "    tester.logger.info(\"++++++++++%s\\n\", ret['elapsed'])"
   ]
  },
  {
   "cell_type": "markdown",
   "id": "775bc4bc",
   "metadata": {},
   "source": [
    "测试："
   ]
  },
  {
   "cell_type": "code",
   "execution_count": null,
   "id": "c25b2d53",
   "metadata": {},
   "outputs": [],
   "source": [
    "!ipyeos -m pytest -s -x tests/test.py -k test_common"
   ]
  },
  {
   "cell_type": "markdown",
   "id": "77ab54bc",
   "metadata": {},
   "source": [
    "输出："
   ]
  },
  {
   "cell_type": "markdown",
   "id": "8f1cd598",
   "metadata": {},
   "source": [
    "```\n",
    "[(hello,test)->hello]: CONSOLE OUTPUT BEGIN =====================\n",
    "True\n",
    "True\n",
    "[(hello,test)->hello]: CONSOLE OUTPUT END   =====================\n",
    "```"
   ]
  }
 ],
 "metadata": {
  "kernelspec": {
   "display_name": "Python 3 (ipykernel)",
   "language": "python",
   "name": "python3"
  },
  "language_info": {
   "codemirror_mode": {
    "name": "ipython",
    "version": 3
   },
   "file_extension": ".py",
   "mimetype": "text/x-python",
   "name": "python",
   "nbconvert_exporter": "python",
   "pygments_lexer": "ipython3",
   "version": "3.10.8"
  }
 },
 "nbformat": 4,
 "nbformat_minor": 5
}
