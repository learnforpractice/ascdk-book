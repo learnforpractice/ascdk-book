{
 "cells": [
  {
   "cell_type": "markdown",
   "id": "7396b72f",
   "metadata": {},
   "source": [
    "\n",
    "# ABI类型详解\n",
    "\n",
    "# 内置的ABI类型\n",
    "\n",
    "以下是内置的ABI类型，一共31个\n",
    "\n",
    "- 基本类型：name bytes string\n",
    "- 数值类型： bool int8 uint8 int16 uint16 int32 uint32 int64 uint64 int128 uint128 varint32 varuint32 float32 float64 float128\n",
    "- 时间相关：time_point time_point_sec block_timestamp_type\n",
    "- 密码函数相关：checksum160 checksum256 checksum512 public_key signature\n",
    "- Token相关：symbol symbol_code asset extended_asset\n",
    "\n",
    "比较常用的有下面这些："
   ]
  },
  {
   "cell_type": "markdown",
   "id": "7ba79495",
   "metadata": {},
   "source": [
    "name bytes string bool uint64 checksum256\n",
    "public_key signature symbol asset extended_asset"
   ]
  },
  {
   "cell_type": "markdown",
   "id": "a78fe6bf",
   "metadata": {},
   "source": [
    "# ABI中的内置数据类型和Python中的数据类型的对应关系表\n",
    "\n",
    "下面的这张表显示了ABI中的内置类型和Python中的类型的对应关系.\n",
    "\n",
    "需要说明一下的是，所以这些和Python对应的类型虽然有些属于不同的模块，但是都已经事先import到global的环境中了，所以开发者在使用的过程中，Python中对应的这些ABI类型可以直接用，不用再去用例如下面的方式来import:"
   ]
  },
  {
   "cell_type": "code",
   "execution_count": null,
   "id": "60272edd",
   "metadata": {},
   "outputs": [],
   "source": [
    "from chain.crypto import PublicKey"
   ]
  },
  {
   "cell_type": "markdown",
   "id": "3bf40f98",
   "metadata": {},
   "source": [
    "当然，重复import也不会有什么影响\n",
    "\n",
    "关系表：\n",
    "\n",
    "|         ABI 类型     |   Python 类型       |      所属模块    |\n",
    "|:--------------------:|:------------------:|:------------------:|\n",
    "|         bool         |        bool        |   内置    |\n",
    "|         int8         |         i8         |   内置    |\n",
    "|         uint8        |         u8         |   内置    |\n",
    "|         int16        |         i16        |   内置    |\n",
    "|         int32        |         i32        |   内置    |\n",
    "|        uint32        |         u32        |   内置    |\n",
    "|         int64        |         i64        |   内置    |\n",
    "|        uint64        |         u64        |   内置    |\n",
    "|        int128        |        i128        |   内置    |\n",
    "|        uint128       |        u128        |   内置    |\n",
    "|       varint32       |      VarInt32      |   structs |\n",
    "|       varuint32      |      VarUint32     |   structs |\n",
    "|        float32       |     float32        |  内置     |\n",
    "|        float64       |       float        |  内置     |\n",
    "|       float128       |      Float128      |  structs  |\n",
    "|      time_point      |      TimePoint     |  structs  |\n",
    "|    time_point_sec    |    TimePointSec    |  structs  |\n",
    "| block_timestamp_type | BlockTimestampType |  structs  |\n",
    "|         name         |        Name        |  name  |\n",
    "|         bytes        |        bytes       |  内置  |\n",
    "|        string        |        str         |  内置  |\n",
    "|      checksum160     |     Checksum160    |  crypto  |\n",
    "|      checksum256     |   Checksum256/u256 |  crypto  |\n",
    "|      checksum512     |     Checksum512    |  crypto  |\n",
    "|      public_key      |      PublicKey     |  crypto  |\n",
    "|       signature      |      Signature     |  crypto  |\n",
    "|        symbol        |       Symbol       | asset   |\n",
    "|      symbol_code     |     SymbolCode     | asset   |\n",
    "|         asset        |        Asset       | asset   |\n",
    "|    extended_asset    |    ExtendedAsset   | asset   |\n",
    "                                                                                                    \n",
    "# 特别的ABI类型\n",
    "\n",
    "## optional\n",
    "\n",
    "## variant\n",
    "\n",
    "## binaryextension"
   ]
  }
 ],
 "metadata": {
  "kernelspec": {
   "display_name": "Python 3 (ipykernel)",
   "language": "python",
   "name": "python3"
  },
  "language_info": {
   "codemirror_mode": {
    "name": "ipython",
    "version": 3
   },
   "file_extension": ".py",
   "mimetype": "text/x-python",
   "name": "python",
   "nbconvert_exporter": "python",
   "pygments_lexer": "ipython3",
   "version": "3.10.8"
  }
 },
 "nbformat": 4,
 "nbformat_minor": 5
}
