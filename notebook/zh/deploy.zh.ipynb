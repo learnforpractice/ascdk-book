{
 "cells": [
  {
   "cell_type": "markdown",
   "id": "6e89500c",
   "metadata": {},
   "source": [

    "\n",
    "# 发布智能合约"
   ]
  },
  {
   "cell_type": "code",
   "execution_count": null,
   "id": "1629ddbf",
   "metadata": {},
   "outputs": [],
   "source": [
    "from pyeoskit import eosapi\n",
    "from pyeoskit import wallet\n",
    "\n",
    "#设置节点\n",
    "eosapi.set_node('https://eos.greymass.com')\n",
    "\n",
    "#导入合约账号的active权限对应的私钥，可以同时导入多个私钥\n",
    "wallet.import_key('mywallet', 'your private key')\n",
    "\n",
    "account_name = 'myaccount'\n",
    "contract_name = 'test'\n",
    "\n",
    "#读取wasm文件\n",
    "with open(f'{contract_name}.wasm', 'rb') as f:\n",
    "    code = f.read()\n",
    "\n",
    "#读取ABI文件\n",
    "with open(f'{contract_name}.abi', 'rb') as f:\n",
    "    abi = f.read()\n",
    "\n",
    "#发布\n",
    "eosapi.deploy_contract(account_name, code, abi)"
   ]
  },
  {
   "cell_type": "markdown",
   "id": "53a8bdbd",
   "metadata": {},
   "source": [
    "如何你有active权限对应的私钥保存在Ledger硬件钱包里，可以用`indices`参数指定ledger中的私钥所在的索引："
   ]
  },
  {
   "cell_type": "code",
   "execution_count": null,
   "id": "e9d32f9b",
   "metadata": {},
   "outputs": [],
   "source": [
    "eosapi.deploy_contract(account_name, code, abi， indices=[0,])"
   ]
  }
 ],
 "metadata": {},
 "nbformat": 4,
 "nbformat_minor": 5
}
