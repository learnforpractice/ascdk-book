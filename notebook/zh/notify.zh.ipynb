{
 "cells": [
  {
   "cell_type": "markdown",
   "id": "4e305f5c",
   "metadata": {},
   "source": [
    "\n",
    "# require_recipient函数\n",
    "\n",
    "函数在`action.codon`中的声明如下："
   ]
  },
  {
   "cell_type": "code",
   "execution_count": null,
   "id": "238b0baf",
   "metadata": {},
   "outputs": [],
   "source": [
    "def require_recipient(account: Name):"
   ]
  },
  {
   "cell_type": "markdown",
   "id": "f868983a",
   "metadata": {},
   "source": [
    "`require_recipient`函数用来通知其它合约. 如果account合约有相同的action，那么这个action将被调用。\n",
    "\n",
    "以下的`sender.codon`, `receiver.codon`的代码演示了如何从一个合约发送通知到另一个合约。"
   ]
  },
  {
   "cell_type": "code",
   "execution_count": 4,
   "id": "b6036d57",
   "metadata": {},
   "outputs": [],
   "source": [
    "!mkdir -p tests/notify"
   ]
  },
  {
   "cell_type": "code",
   "execution_count": 5,
   "id": "cd86a26a",
   "metadata": {},
   "outputs": [
    {
     "name": "stdout",
     "output_type": "stream",
     "text": [
      "Writing notify/sender.codon\n"
     ]
    }
   ],
   "source": [
    "%%writefile tests/notify/sender.codon\n",
    "\n",
    "from chain.name import Name\n",
    "from chain.contract import Contract\n",
    "from chain.action import require_recipient\n",
    "\n",
    "@contract(main=True)\n",
    "class MyContract(Contract):\n",
    "\n",
    "    @action('sayhello')\n",
    "    def sayhello(self, receiver: Name):\n",
    "        print('hello, world')\n",
    "        require_recipient(receiver)"
   ]
  },
  {
   "cell_type": "code",
   "execution_count": 6,
   "id": "355d0169",
   "metadata": {},
   "outputs": [
    {
     "name": "stdout",
     "output_type": "stream",
     "text": [
      "Writing notify/receiver.codon\n"
     ]
    }
   ],
   "source": [
    "%%writefile tests/notify/receiver.codon\n",
    "\n",
    "from chain.name import Name\n",
    "from chain.contract import Contract\n",
    "\n",
    "@contract(main=True)\n",
    "class MyContract(Contract):\n",
    "\n",
    "    @action('sayhello', notify=True)\n",
    "    def sayhello(self, receiver: Name):\n",
    "        assert not self.receiver == self.first_receiver\n",
    "        assert receiver == self.receiver\n",
    "        print('hello, world from notify')"
   ]
  },
  {
   "cell_type": "markdown",
   "id": "94b85b82",
   "metadata": {},
   "source": [
    "这里，要注意的是，`receiver.codon`中的`sayhello`函数和`sender.codon`中的`sayhello`函数的定义有些不同，`receiver.codon`中的`sayhello`的`action`decorator中多了`notify=True`，这是用来指定这个action是一个用来接收通知的action，只能通过调用`require_recipient`来触发。\n",
    "\n",
    "以下是测试代码："
   ]
  },
  {
   "cell_type": "code",
   "execution_count": 7,
   "id": "6e480f2a",
   "metadata": {},
   "outputs": [
    {
     "name": "stdout",
     "output_type": "stream",
     "text": [
      "Overwriting test.py\n"
     ]
    }
   ],
   "source": [
    "%%writefile tests/test.py\n",
    "\n",
    "import os\n",
    "from ipyeos.chaintester import ChainTester\n",
    "\n",
    "from pscdk.tester import update_auth, logger\n",
    "\n",
    "def init_notify(dir_name=''):\n",
    "    t = ChainTester(True)\n",
    "    update_auth(t, 'hello')\n",
    "\n",
    "    wasm_file = os.path.join(dir_name, 'notify/sender.wasm')\n",
    "    with open(wasm_file, 'rb') as f:\n",
    "        code = f.read()\n",
    "    abi_file = os.path.join(dir_name, 'notify/sender.abi')\n",
    "    with open(abi_file, 'r') as f:\n",
    "        abi = f.read()\n",
    "    t.deploy_contract('hello', code, abi)\n",
    "    t.produce_block()\n",
    "\n",
    "    wasm_file = os.path.join(dir_name, 'notify/receiver.wasm')\n",
    "    with open(wasm_file, 'rb') as f:\n",
    "        code = f.read()\n",
    "    abi_file = os.path.join(dir_name, 'notify/receiver.abi')\n",
    "    with open(abi_file, 'r') as f:\n",
    "        abi = f.read()\n",
    "    t.deploy_contract('alice', code, abi)\n",
    "    t.produce_block()\n",
    "    return t\n",
    "\n",
    "def test_notify():\n",
    "    t = init_notify()\n",
    "    args = {'receiver': 'alice'}\n",
    "    ret = t.push_action('hello', 'sayhello', args, {'hello': 'active'})\n",
    "    t.produce_block()\n",
    "    logger.info(\"++++++++++%s\\n\", ret['elapsed'])"
   ]
  },
  {
   "cell_type": "markdown",
   "id": "96e4f7bd",
   "metadata": {},
   "source": [
    "编译："
   ]
  },
  {
   "cell_type": "code",
   "execution_count": 8,
   "id": "68e8672d",
   "metadata": {},
   "outputs": [
    {
     "name": "stderr",
     "output_type": "stream",
     "text": [
      " class.cpp 249 +++++++class name: MyContract\n",
      " class.cpp 26 generating apply method for class MyContract\n",
      " class.cpp 53 +++++++fn.name: sayhello\n",
      " typecheck.cpp 76 +++++++ctx->cache->classRealizationCnt: 527\n",
      " compiler.cpp 149 Generating abi file: notify/receiver.abi\n",
      " llvisitor.cpp 495 ++++++++++executable dir:/Users/newworld/dev/github/codon/build\n"
     ]
    },
    {
     "name": "stdout",
     "output_type": "stream",
     "text": [
      "/Users/newworld/miniconda3/envs/chat/lib/python3.10/site-packages/pscdk/codon/bin/codon build --release  --march=wasm32 --linker-flags=\" -L/Users/newworld/miniconda3/envs/chat/lib/python3.10/site-packages/pscdk/codon/lib/codon -lcodonrt-wasm32 -L/Users/newworld/miniconda3/envs/chat/lib/python3.10/site-packages/pscdk/codon/lib -lc++ -lc\" notify/receiver.codon\n"
     ]
    },
    {
     "name": "stderr",
     "output_type": "stream",
     "text": [
      " class.cpp 249 +++++++class name: MyContract\n",
      " class.cpp 26 generating apply method for class MyContract\n",
      " class.cpp 53 +++++++fn.name: sayhello\n",
      " typecheck.cpp 76 +++++++ctx->cache->classRealizationCnt: 511\n",
      " compiler.cpp 149 Generating abi file: notify/sender.abi\n",
      " llvisitor.cpp 495 ++++++++++executable dir:/Users/newworld/dev/github/codon/build\n"
     ]
    },
    {
     "name": "stdout",
     "output_type": "stream",
     "text": [
      "/Users/newworld/miniconda3/envs/chat/lib/python3.10/site-packages/pscdk/codon/bin/codon build --release  --march=wasm32 --linker-flags=\" -L/Users/newworld/miniconda3/envs/chat/lib/python3.10/site-packages/pscdk/codon/lib/codon -lcodonrt-wasm32 -L/Users/newworld/miniconda3/envs/chat/lib/python3.10/site-packages/pscdk/codon/lib -lc++ -lc\" notify/sender.codon\n"
     ]
    }
   ],
   "source": [
    "%%bash\n",
    "python-contract build notify/receiver.codon\n",
    "python-contract build notify/sender.codon"
   ]
  },
  {
   "cell_type": "markdown",
   "id": "8ab9503d",
   "metadata": {},
   "source": [
    "测试："
   ]
  },
  {
   "cell_type": "code",
   "execution_count": 9,
   "id": "16de93fa",
   "metadata": {},
   "outputs": [
    {
     "name": "stdout",
     "output_type": "stream",
     "text": [
      "\u001b[1m============================= test session starts ==============================\u001b[0m\n",
      "platform darwin -- Python 3.10.8, pytest-7.2.0, pluggy-1.0.0\n",
      "benchmark: 4.0.0 (defaults: timer=time.perf_counter disable_gc=False min_rounds=5 min_time=0.000005 max_time=1.0 calibration_precision=10 warmup=False warmup_iterations=100000)\n",
      "rootdir: /Users/newworld/dev/github/pscdk-book/notebook-zh\n",
      "plugins: asyncio-0.20.3, integration-0.2.3, dash-2.9.3, mock-3.10.0, cov-4.0.0, anyio-3.6.2, benchmark-4.0.0\n",
      "asyncio: mode=strict\n",
      "collected 1 item\n",
      "\n"
     ]
    },
    {
     "name": "stderr",
     "output_type": "stream",
     "text": [
      "info  2023-05-12T08:18:58.469 thread-0  chain_manager.cpp:117         operator()           ] Support for builtin protocol feature 'GET_BLOCK_NUM' (with digest of '35c2186cc36f7bb4aeaf4487b36e57039ccf45a9136aa856a5d569ecca55ef2b') is enabled with preactivation required\n",
      "info  2023-05-12T08:18:58.469 thread-0  chain_manager.cpp:227         operator()           ] Saved default specification for builtin protocol feature 'GET_BLOCK_NUM' (with digest of '35c2186cc36f7bb4aeaf4487b36e57039ccf45a9136aa856a5d569ecca55ef2b') to: /var/folders/pv/678xdw3s56xggsvz36r65kzr0000gp/T/tmpqo17h_d2/protocol_features/BUILTIN-GET_BLOCK_NUM.json\n",
      "info  2023-05-12T08:18:58.470 thread-0  chain_manager.cpp:117         operator()           ] Support for builtin protocol feature 'CRYPTO_PRIMITIVES' (with digest of '6bcb40a24e49c26d0a60513b6aeb8551d264e4717f306b81a37a5afb3b47cedc') is enabled with preactivation required\n",
      "info  2023-05-12T08:18:58.470 thread-0  chain_manager.cpp:227         operator()           ] Saved default specification for builtin protocol feature 'CRYPTO_PRIMITIVES' (with digest of '6bcb40a24e49c26d0a60513b6aeb8551d264e4717f306b81a37a5afb3b47cedc') to: /var/folders/pv/678xdw3s56xggsvz36r65kzr0000gp/T/tmpqo17h_d2/protocol_features/BUILTIN-CRYPTO_PRIMITIVES.json\n",
      "info  2023-05-12T08:18:58.470 thread-0  chain_manager.cpp:117         operator()           ] Support for builtin protocol feature 'GET_CODE_HASH' (with digest of 'bcd2a26394b36614fd4894241d3c451ab0f6fd110958c3423073621a70826e99') is enabled with preactivation required\n",
      "info  2023-05-12T08:18:58.470 thread-0  chain_manager.cpp:227         operator()           ] Saved default specification for builtin protocol feature 'GET_CODE_HASH' (with digest of 'bcd2a26394b36614fd4894241d3c451ab0f6fd110958c3423073621a70826e99') to: /var/folders/pv/678xdw3s56xggsvz36r65kzr0000gp/T/tmpqo17h_d2/protocol_features/BUILTIN-GET_CODE_HASH.json\n",
      "info  2023-05-12T08:18:58.470 thread-0  chain_manager.cpp:117         operator()           ] Support for builtin protocol feature 'BLOCKCHAIN_PARAMETERS' (with digest of '5443fcf88330c586bc0e5f3dee10e7f63c76c00249c87fe4fbf7f38c082006b4') is enabled with preactivation required\n",
      "info  2023-05-12T08:18:58.470 thread-0  chain_manager.cpp:227         operator()           ] Saved default specification for builtin protocol feature 'BLOCKCHAIN_PARAMETERS' (with digest of '5443fcf88330c586bc0e5f3dee10e7f63c76c00249c87fe4fbf7f38c082006b4') to: /var/folders/pv/678xdw3s56xggsvz36r65kzr0000gp/T/tmpqo17h_d2/protocol_features/BUILTIN-BLOCKCHAIN_PARAMETERS.json\n",
      "info  2023-05-12T08:18:58.470 thread-0  chain_manager.cpp:117         operator()           ] Support for builtin protocol feature 'CONFIGURABLE_WASM_LIMITS2' (with digest of 'd528b9f6e9693f45ed277af93474fd473ce7d831dae2180cca35d907bd10cb40') is enabled with preactivation required\n",
      "info  2023-05-12T08:18:58.471 thread-0  chain_manager.cpp:227         operator()           ] Saved default specification for builtin protocol feature 'CONFIGURABLE_WASM_LIMITS2' (with digest of 'd528b9f6e9693f45ed277af93474fd473ce7d831dae2180cca35d907bd10cb40') to: /var/folders/pv/678xdw3s56xggsvz36r65kzr0000gp/T/tmpqo17h_d2/protocol_features/BUILTIN-CONFIGURABLE_WASM_LIMITS2.json\n",
      "info  2023-05-12T08:18:58.471 thread-0  chain_manager.cpp:117         operator()           ] Support for builtin protocol feature 'ACTION_RETURN_VALUE' (with digest of 'c3a6138c5061cf291310887c0b5c71fcaffeab90d5deb50d3b9e687cead45071') is enabled with preactivation required\n",
      "info  2023-05-12T08:18:58.471 thread-0  chain_manager.cpp:227         operator()           ] Saved default specification for builtin protocol feature 'ACTION_RETURN_VALUE' (with digest of 'c3a6138c5061cf291310887c0b5c71fcaffeab90d5deb50d3b9e687cead45071') to: /var/folders/pv/678xdw3s56xggsvz36r65kzr0000gp/T/tmpqo17h_d2/protocol_features/BUILTIN-ACTION_RETURN_VALUE.json\n",
      "info  2023-05-12T08:18:58.471 thread-0  chain_manager.cpp:117         operator()           ] Support for builtin protocol feature 'WTMSIG_BLOCK_SIGNATURES' (with digest of '299dcb6af692324b899b39f16d5a530a33062804e41f09dc97e9f156b4476707') is enabled with preactivation required\n",
      "info  2023-05-12T08:18:58.471 thread-0  chain_manager.cpp:227         operator()           ] Saved default specification for builtin protocol feature 'WTMSIG_BLOCK_SIGNATURES' (with digest of '299dcb6af692324b899b39f16d5a530a33062804e41f09dc97e9f156b4476707') to: /var/folders/pv/678xdw3s56xggsvz36r65kzr0000gp/T/tmpqo17h_d2/protocol_features/BUILTIN-WTMSIG_BLOCK_SIGNATURES.json\n",
      "info  2023-05-12T08:18:58.471 thread-0  chain_manager.cpp:117         operator()           ] Support for builtin protocol feature 'WEBAUTHN_KEY' (with digest of '4fca8bd82bbd181e714e283f83e1b45d95ca5af40fb89ad3977b653c448f78c2') is enabled with preactivation required\n",
      "info  2023-05-12T08:18:58.472 thread-0  chain_manager.cpp:227         operator()           ] Saved default specification for builtin protocol feature 'WEBAUTHN_KEY' (with digest of '4fca8bd82bbd181e714e283f83e1b45d95ca5af40fb89ad3977b653c448f78c2') to: /var/folders/pv/678xdw3s56xggsvz36r65kzr0000gp/T/tmpqo17h_d2/protocol_features/BUILTIN-WEBAUTHN_KEY.json\n",
      "info  2023-05-12T08:18:58.472 thread-0  chain_manager.cpp:117         operator()           ] Support for builtin protocol feature 'RAM_RESTRICTIONS' (with digest of '4e7bf348da00a945489b2a681749eb56f5de00b900014e137ddae39f48f69d67') is enabled with preactivation required\n",
      "info  2023-05-12T08:18:58.472 thread-0  chain_manager.cpp:227         operator()           ] Saved default specification for builtin protocol feature 'RAM_RESTRICTIONS' (with digest of '4e7bf348da00a945489b2a681749eb56f5de00b900014e137ddae39f48f69d67') to: /var/folders/pv/678xdw3s56xggsvz36r65kzr0000gp/T/tmpqo17h_d2/protocol_features/BUILTIN-RAM_RESTRICTIONS.json\n",
      "info  2023-05-12T08:18:58.472 thread-0  chain_manager.cpp:117         operator()           ] Support for builtin protocol feature 'GET_SENDER' (with digest of 'f0af56d2c5a48d60a4a5b5c903edfb7db3a736a94ed589d0b797df33ff9d3e1d') is enabled with preactivation required\n",
      "info  2023-05-12T08:18:58.473 thread-0  chain_manager.cpp:227         operator()           ] Saved default specification for builtin protocol feature 'GET_SENDER' (with digest of 'f0af56d2c5a48d60a4a5b5c903edfb7db3a736a94ed589d0b797df33ff9d3e1d') to: /var/folders/pv/678xdw3s56xggsvz36r65kzr0000gp/T/tmpqo17h_d2/protocol_features/BUILTIN-GET_SENDER.json\n",
      "info  2023-05-12T08:18:58.473 thread-0  chain_manager.cpp:117         operator()           ] Support for builtin protocol feature 'FORWARD_SETCODE' (with digest of '2652f5f96006294109b3dd0bbde63693f55324af452b799ee137a81a905eed25') is enabled with preactivation required\n",
      "info  2023-05-12T08:18:58.473 thread-0  chain_manager.cpp:227         operator()           ] Saved default specification for builtin protocol feature 'FORWARD_SETCODE' (with digest of '2652f5f96006294109b3dd0bbde63693f55324af452b799ee137a81a905eed25') to: /var/folders/pv/678xdw3s56xggsvz36r65kzr0000gp/T/tmpqo17h_d2/protocol_features/BUILTIN-FORWARD_SETCODE.json\n",
      "info  2023-05-12T08:18:58.473 thread-0  chain_manager.cpp:117         operator()           ] Support for builtin protocol feature 'ONLY_BILL_FIRST_AUTHORIZER' (with digest of '8ba52fe7a3956c5cd3a656a3174b931d3bb2abb45578befc59f283ecd816a405') is enabled with preactivation required\n",
      "info  2023-05-12T08:18:58.474 thread-0  chain_manager.cpp:227         operator()           ] Saved default specification for builtin protocol feature 'ONLY_BILL_FIRST_AUTHORIZER' (with digest of '8ba52fe7a3956c5cd3a656a3174b931d3bb2abb45578befc59f283ecd816a405') to: /var/folders/pv/678xdw3s56xggsvz36r65kzr0000gp/T/tmpqo17h_d2/protocol_features/BUILTIN-ONLY_BILL_FIRST_AUTHORIZER.json\n",
      "info  2023-05-12T08:18:58.474 thread-0  chain_manager.cpp:117         operator()           ] Support for builtin protocol feature 'RESTRICT_ACTION_TO_SELF' (with digest of 'ad9e3d8f650687709fd68f4b90b41f7d825a365b02c23a636cef88ac2ac00c43') is enabled with preactivation required\n",
      "info  2023-05-12T08:18:58.474 thread-0  chain_manager.cpp:227         operator()           ] Saved default specification for builtin protocol feature 'RESTRICT_ACTION_TO_SELF' (with digest of 'ad9e3d8f650687709fd68f4b90b41f7d825a365b02c23a636cef88ac2ac00c43') to: /var/folders/pv/678xdw3s56xggsvz36r65kzr0000gp/T/tmpqo17h_d2/protocol_features/BUILTIN-RESTRICT_ACTION_TO_SELF.json\n"
     ]
    },
    {
     "name": "stderr",
     "output_type": "stream",
     "text": [
      "info  2023-05-12T08:18:58.474 thread-0  chain_manager.cpp:117         operator()           ] Support for builtin protocol feature 'DISALLOW_EMPTY_PRODUCER_SCHEDULE' (with digest of '68dcaa34c0517d19666e6b33add67351d8c5f69e999ca1e37931bc410a297428') is enabled with preactivation required\n",
      "info  2023-05-12T08:18:58.475 thread-0  chain_manager.cpp:227         operator()           ] Saved default specification for builtin protocol feature 'DISALLOW_EMPTY_PRODUCER_SCHEDULE' (with digest of '68dcaa34c0517d19666e6b33add67351d8c5f69e999ca1e37931bc410a297428') to: /var/folders/pv/678xdw3s56xggsvz36r65kzr0000gp/T/tmpqo17h_d2/protocol_features/BUILTIN-DISALLOW_EMPTY_PRODUCER_SCHEDULE.json\n",
      "info  2023-05-12T08:18:58.475 thread-0  chain_manager.cpp:117         operator()           ] Support for builtin protocol feature 'FIX_LINKAUTH_RESTRICTION' (with digest of 'e0fb64b1085cc5538970158d05a009c24e276fb94e1a0bf6a528b48fbc4ff526') is enabled with preactivation required\n",
      "info  2023-05-12T08:18:58.475 thread-0  chain_manager.cpp:227         operator()           ] Saved default specification for builtin protocol feature 'FIX_LINKAUTH_RESTRICTION' (with digest of 'e0fb64b1085cc5538970158d05a009c24e276fb94e1a0bf6a528b48fbc4ff526') to: /var/folders/pv/678xdw3s56xggsvz36r65kzr0000gp/T/tmpqo17h_d2/protocol_features/BUILTIN-FIX_LINKAUTH_RESTRICTION.json\n",
      "info  2023-05-12T08:18:58.475 thread-0  chain_manager.cpp:117         operator()           ] Support for builtin protocol feature 'REPLACE_DEFERRED' (with digest of 'ef43112c6543b88db2283a2e077278c315ae2c84719a8b25f25cc88565fbea99') is enabled with preactivation required\n",
      "info  2023-05-12T08:18:58.476 thread-0  chain_manager.cpp:227         operator()           ] Saved default specification for builtin protocol feature 'REPLACE_DEFERRED' (with digest of 'ef43112c6543b88db2283a2e077278c315ae2c84719a8b25f25cc88565fbea99') to: /var/folders/pv/678xdw3s56xggsvz36r65kzr0000gp/T/tmpqo17h_d2/protocol_features/BUILTIN-REPLACE_DEFERRED.json\n",
      "info  2023-05-12T08:18:58.476 thread-0  chain_manager.cpp:117         operator()           ] Support for builtin protocol feature 'NO_DUPLICATE_DEFERRED_ID' (with digest of '4a90c00d55454dc5b059055ca213579c6ea856967712a56017487886a4d4cc0f') is enabled with preactivation required\n",
      "info  2023-05-12T08:18:58.476 thread-0  chain_manager.cpp:227         operator()           ] Saved default specification for builtin protocol feature 'NO_DUPLICATE_DEFERRED_ID' (with digest of '4a90c00d55454dc5b059055ca213579c6ea856967712a56017487886a4d4cc0f') to: /var/folders/pv/678xdw3s56xggsvz36r65kzr0000gp/T/tmpqo17h_d2/protocol_features/BUILTIN-NO_DUPLICATE_DEFERRED_ID.json\n",
      "info  2023-05-12T08:18:58.476 thread-0  chain_manager.cpp:117         operator()           ] Support for builtin protocol feature 'ONLY_LINK_TO_EXISTING_PERMISSION' (with digest of '1a99a59d87e06e09ec5b028a9cbb7749b4a5ad8819004365d02dc4379a8b7241') is enabled with preactivation required\n",
      "info  2023-05-12T08:18:58.477 thread-0  chain_manager.cpp:227         operator()           ] Saved default specification for builtin protocol feature 'ONLY_LINK_TO_EXISTING_PERMISSION' (with digest of '1a99a59d87e06e09ec5b028a9cbb7749b4a5ad8819004365d02dc4379a8b7241') to: /var/folders/pv/678xdw3s56xggsvz36r65kzr0000gp/T/tmpqo17h_d2/protocol_features/BUILTIN-ONLY_LINK_TO_EXISTING_PERMISSION.json\n",
      "info  2023-05-12T08:18:58.477 thread-0  chain_manager.cpp:130         operator()           ] Support for builtin protocol feature 'PREACTIVATE_FEATURE' (with digest of '0ec7e080177b2c02b278d5088611686b49d739925a92d9bfcacd7fc6b74053bd') is enabled without activation restrictions\n",
      "info  2023-05-12T08:18:58.477 thread-0  chain_manager.cpp:227         operator()           ] Saved default specification for builtin protocol feature 'PREACTIVATE_FEATURE' (with digest of '0ec7e080177b2c02b278d5088611686b49d739925a92d9bfcacd7fc6b74053bd') to: /var/folders/pv/678xdw3s56xggsvz36r65kzr0000gp/T/tmpqo17h_d2/protocol_features/BUILTIN-PREACTIVATE_FEATURE.json\n",
      "info  2023-05-12T08:18:58.946 thread-0  platform_timer_accurac:62     compute_and_print_ti ] Checktime timer accuracy: min:1us max:7365us mean:1013us stddev:2441us\n",
      "warn  2023-05-12T08:18:58.946 thread-0  platform_timer_accurac:64     compute_and_print_ti ] Checktime timer accuracy on this platform and hardware combination is poor; accuracy of subjective transaction deadline enforcement will suffer\n",
      "warn  2023-05-12T08:18:58.947 thread-0  controller.cpp:605            startup              ] No existing chain state or fork database. Initializing fresh blockchain state and resetting fork database.\n",
      "warn  2023-05-12T08:18:58.947 thread-0  controller.cpp:457            initialize_blockchai ] Initializing new blockchain with genesis state\n",
      "info  2023-05-12T08:18:58.955 thread-0  controller.cpp:530            replay               ] no irreversible blocks need to be replayed\n",
      "info  2023-05-12T08:18:58.955 thread-0  controller.cpp:553            replay               ] replayed 0 blocks in 0 seconds, 0.00000000001071021 ms/block\n",
      "debug 2023-05-12T08:18:58.955 thread-0  controller.cpp:2444           clear_expired_input_ ] removed 0 expired transactions of the 0 input dedup list, pending block time 2018-06-01T12:00:00.500\n",
      "debug 2023-05-12T08:18:59.001 thread-0  controller.cpp:2444           clear_expired_input_ ] removed 0 expired transactions of the 20 input dedup list, pending block time 2018-06-01T12:00:01.000\n",
      "debug 2023-05-12T08:18:59.020 thread-0  controller.cpp:2444           clear_expired_input_ ] removed 0 expired transactions of the 38 input dedup list, pending block time 2018-06-01T12:00:01.500\n",
      "debug 2023-05-12T08:18:59.179 thread-0  controller.cpp:2444           clear_expired_input_ ] removed 0 expired transactions of the 39 input dedup list, pending block time 2018-06-01T12:00:02.000\n",
      "debug 2023-05-12T08:18:59.198 thread-0  controller.cpp:2444           clear_expired_input_ ] removed 0 expired transactions of the 41 input dedup list, pending block time 2018-06-01T12:00:02.500\n",
      "debug 2023-05-12T08:18:59.206 thread-0  controller.cpp:2444           clear_expired_input_ ] removed 0 expired transactions of the 47 input dedup list, pending block time 2018-06-01T12:00:03.000\n",
      "debug 2023-05-12T08:18:59.211 thread-0  controller.cpp:2444           clear_expired_input_ ] removed 0 expired transactions of the 49 input dedup list, pending block time 2018-06-01T12:00:03.500\n",
      "debug 2023-05-12T08:18:59.214 thread-0  controller.cpp:2444           clear_expired_input_ ] removed 0 expired transactions of the 50 input dedup list, pending block time 2018-06-01T12:00:04.000\n",
      "debug 2023-05-12T08:18:59.216 thread-0  apply_context.cpp:30          print_debug          ] \n",
      "[(hello,sayhello)->hello]: CONSOLE OUTPUT BEGIN =====================\n",
      "hello, world\n",
      "\n",
      "[(hello,sayhello)->hello]: CONSOLE OUTPUT END   =====================\n",
      "debug 2023-05-12T08:18:59.216 thread-0  apply_context.cpp:30          print_debug          ] \n",
      "[(hello,sayhello)->alice]: CONSOLE OUTPUT BEGIN =====================\n",
      "hello, world from notify\n",
      "\n",
      "[(hello,sayhello)->alice]: CONSOLE OUTPUT END   =====================\n",
      "debug 2023-05-12T08:18:59.217 thread-0  controller.cpp:2444           clear_expired_input_ ] removed 0 expired transactions of the 51 input dedup list, pending block time 2018-06-01T12:00:04.500\n"
     ]
    },
    {
     "name": "stdout",
     "output_type": "stream",
     "text": [
      "test.py \u001b[32m.\u001b[0m\n",
      "\n",
      "\u001b[32m============================== \u001b[32m\u001b[1m1 passed\u001b[0m\u001b[32m in 0.98s\u001b[0m\u001b[32m ===============================\u001b[0m\n",
      "export CHAIN_API_LIB=/Users/newworld/miniconda3/envs/chat/lib/python3.10/site-packages/ipyeos/release/lib/libchain_api.dylib\n",
      "export VM_API_LIB=/Users/newworld/miniconda3/envs/chat/lib/python3.10/site-packages/ipyeos/release/lib/libvm_api.dylib\n",
      "export PYTHON_SHARED_LIB_PATH=/Users/newworld/miniconda3/envs/chat/lib/libpython3.10.dylib\n",
      "/Users/newworld/miniconda3/envs/chat/lib/python3.10/site-packages/ipyeos/release/bin/ipyeos -m pytest -s -x test.py -k test_notify\n"
     ]
    }
   ],
   "source": [
    "%%bash\n",
    "ipyeos -m pytest -s -x tests/test.py -k test_notify"
   ]
  },
  {
   "cell_type": "markdown",
   "id": "11b8ce29",
   "metadata": {},
   "source": [
    "输出："
   ]
  },
  {
   "cell_type": "markdown",
   "id": "90bfa812",
   "metadata": {},
   "source": [
    "```\n",
    "[(hello,sayhello)->hello]: CONSOLE OUTPUT BEGIN =====================\n",
    "hello, world\n",
    "\n",
    "[(hello,sayhello)->hello]: CONSOLE OUTPUT END   =====================\n",
    "debug 2023-03-28T13:08:01.110 thread-0  apply_context.cpp:30          print_debug          ] \n",
    "[(hello,sayhello)->alice]: CONSOLE OUTPUT BEGIN =====================\n",
    "hello, world from notify\n",
    "\n",
    "[(hello,sayhello)->alice]: CONSOLE OUTPUT END   =====================\n",
    "```"
   ]
  }
 ],
 "metadata": {
  "kernelspec": {
   "display_name": "Python 3 (ipykernel)",
   "language": "python",
   "name": "python3"
  },
  "language_info": {
   "codemirror_mode": {
    "name": "ipython",
    "version": 3
   },
   "file_extension": ".py",
   "mimetype": "text/x-python",
   "name": "python",
   "nbconvert_exporter": "python",
   "pygments_lexer": "ipython3",
   "version": "3.10.8"
  }
 },
 "nbformat": 4,
 "nbformat_minor": 5
}
