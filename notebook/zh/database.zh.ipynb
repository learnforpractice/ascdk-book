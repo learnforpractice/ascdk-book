{
 "cells": [
  {
   "cell_type": "markdown",
   "id": "ef816a76",
   "metadata": {},
   "source": [
    "\n",
    "# 数据库的操作\n",
    "\n",
    "链上数据存储和读取是智能合约的一个重要功能。EOS链实现了一个内存数据库，支持以表的方式来存储数据，其中，每一个表的每一项数据都有唯一的主索引，称之为primary key，类型为u64，表中存储的原始数据为任意长度的二进制数据，在智能合约调用存储数据的功能时，会将类的数据序列化后存进表中，在读取的时候又会通过反序列化的方式将原始数据转成类对象。并且还支持u64, u128, u256, double, long double类型的二级索引表，可以把二级索引表看作数据长度固定的特殊的表。主索引表和二级索引表可以配合起来使用，以实现多重索引的功能。二级索引表可以有多个。二级索引表的值是可以重复的，但是主索引表的主索引必须是唯一的。\n",
    "\n",
    "下面结合示例来讲解下EOS的链上的内存数据库的使用。\n",
    "\n",
    "## store\n",
    "\n",
    "存储功能是数据库最简单的功能了，下面的代码即演示了该功能。"
   ]
  },
  {
   "cell_type": "code",
   "execution_count": null,
   "id": "7580fb85",
   "metadata": {},
   "outputs": [],
   "source": [
    "!mkdir -p tests"
   ]
  },
  {
   "cell_type": "code",
   "execution_count": null,
   "id": "856693c6",
   "metadata": {},
   "outputs": [],
   "source": [
    "%%writefile tests/db_example1.codon\n",
    "\n",
    "from chain.database import primary\n",
    "from chain.contract import Contract\n",
    "\n",
    "@table(\"mytable\")\n",
    "class A(object):\n",
    "    a: primary[u64]\n",
    "    b: str\n",
    "    def __init__(self, a: u64, b: str):\n",
    "        self.a = primary[u64](a)\n",
    "        self.b = b\n",
    "\n",
    "@contract(main=True)\n",
    "class MyContract(Contract):\n",
    "\n",
    "    def __init__(self):\n",
    "        super().__init__()\n",
    "\n",
    "    @action('teststore')\n",
    "    def test_store(self):\n",
    "        print('db_test')\n",
    "        item = A(123u64, 'hello, world')\n",
    "        table = A.new_table(n'hello', n'')\n",
    "        table.store(item, n'hello')"
   ]
  },
  {
   "cell_type": "markdown",
   "id": "702e867a",
   "metadata": {},
   "source": [
    "编译："
   ]
  },
  {
   "cell_type": "code",
   "execution_count": null,
   "id": "3f0c6808",
   "metadata": {},
   "outputs": [],
   "source": [
    "!python-contract build tests/db_example1.codon"
   ]
  },
  {
   "cell_type": "markdown",
   "id": "11447cbd",
   "metadata": {},
   "source": [
    "测试代码如下："
   ]
  },
  {
   "cell_type": "code",
   "execution_count": null,
   "id": "39543aa4",
   "metadata": {},
   "outputs": [],
   "source": [
    "%%writefile tests/test.py\n",
    "\n",
    "from pscdk import tester\n",
    "\n",
    "def test_store():\n",
    "    t = tester.init_test('db_example1')\n",
    "    ret = t.push_action('hello', 'teststore', \"\", {'hello': 'active'})\n",
    "    t.produce_block()\n",
    "    tester.logger.info(\"++++++++++%s\\n\", ret['elapsed'])"
   ]
  },
  {
   "cell_type": "code",
   "execution_count": null,
   "id": "ce7cf24f",
   "metadata": {},
   "outputs": [],
   "source": [
    "!ipyeos -m pytest -s -x tests/test.py -k test_store"
   ]
  },
  {
   "cell_type": "markdown",
   "id": "0739865c",
   "metadata": {},
   "source": [
    "注意在这个示例中，如果表中已经存在以`123u64`为key的数据，那么该函数会抛出异常。\n",
    "\n",
    "如将上面的测试用例修改成下面的代码："
   ]
  },
  {
   "cell_type": "code",
   "execution_count": null,
   "id": "0917bafc",
   "metadata": {},
   "outputs": [],
   "source": [
    "%%writefile tests/test.py\n",
    "\n",
    "from pscdk import tester\n",
    "\n",
    "def test_store():\n",
    "    t = tester.init_test('db_example1')\n",
    "    ret = t.push_action('hello', 'test', \"\", {'hello': 'active'})\n",
    "    t.produce_block()\n",
    "    tester.logger.info(\"++++++++++%s\\n\", ret['elapsed'])\n",
    "\n",
    "    # will raise exception\n",
    "    ret = t.push_action('hello', 'test', \"\", {'hello': 'active'})\n",
    "    t.produce_block()"
   ]
  },
  {
   "cell_type": "markdown",
   "id": "38684110",
   "metadata": {},
   "source": [
    "用同样的命令运行测试:"
   ]
  },
  {
   "cell_type": "code",
   "execution_count": null,
   "id": "e9fd1b8c",
   "metadata": {},
   "outputs": [],
   "source": [
    "!ipyeos -m pytest -s -x tests/test.py -k test_store"
   ]
  },
  {
   "cell_type": "markdown",
   "id": "a95852bc",
   "metadata": {},
   "source": [
    "在第二次调用`push_action`时，该函数就会抛出像下面的异常："
   ]
  },
  {
   "cell_type": "markdown",
   "id": "1cc556b0",
   "metadata": {},
   "source": [
    "could not insert object, most likely a uniqueness constraint was violated"
   ]
  },
  {
   "cell_type": "markdown",
   "id": "f0176604",
   "metadata": {},
   "source": [
    "为了不抛出异常，在要更新表中的数据时，则要用到`update`方法。\n",
    "在调用`store`之前要先对表中是否存在主索引进行判断，如果已经存在，则不能调用`store`方法，而必须调用`update`方法。\n",
    "以下的示例展示了用法：\n",
    "                                                                                                    \n",
    "## find/update\n",
    "\n",
    "这一节演示了数据库的查找和更新功能。"
   ]
  },
  {
   "cell_type": "code",
   "execution_count": null,
   "id": "4ab9c8c9",
   "metadata": {},
   "outputs": [],
   "source": [
    "%%writefile tests/db_example1.codon\n",
    "\n",
    "from chain.database import primary\n",
    "from chain.contract import Contract\n",
    "\n",
    "@table(\"mytable\")\n",
    "class A(object):\n",
    "    a: primary[u64]\n",
    "    b: str\n",
    "    def __init__(self, a: u64, b: str):\n",
    "        self.a = primary[u64](a)\n",
    "        self.b = b\n",
    "\n",
    "@contract(main=True)\n",
    "class MyContract(Contract):\n",
    "\n",
    "    @action('testupdate')\n",
    "    def test_update(self, value: str):\n",
    "        print('db_test')\n",
    "        table = A.new_table(n'hello', n'')\n",
    "        key = 123u64\n",
    "        it = table.find(key)\n",
    "        if it.is_ok():\n",
    "            print('+++++update value:', value)\n",
    "            item = A(key, value)\n",
    "            table.update(it, item, n'hello')\n",
    "        else:\n",
    "            print('+++++store value:', value)\n",
    "            item = A(key, value)\n",
    "            table.store(item, n'hello')"
   ]
  },
  {
   "cell_type": "markdown",
   "id": "0ba2898c",
   "metadata": {},
   "source": [
    "编译："
   ]
  },
  {
   "cell_type": "code",
   "execution_count": null,
   "id": "8d5a7064",
   "metadata": {},
   "outputs": [],
   "source": [
    "!python-contract build tests/db_example1.codon"
   ]
  },
  {
   "cell_type": "markdown",
   "id": "2dc058c6",
   "metadata": {},
   "source": [
    "以下为测试代码："
   ]
  },
  {
   "cell_type": "code",
   "execution_count": null,
   "id": "54c3064b",
   "metadata": {},
   "outputs": [],
   "source": [
    "%%writefile tests/test.py\n",
    "\n",
    "from pscdk import tester\n",
    "\n",
    "def test_update():\n",
    "    t = tester.init_test('db_example1')\n",
    "    ret = t.push_action('hello', 'testupdate', {'value': 'hello, bob'}, {'hello': 'active'})\n",
    "    t.produce_block()\n",
    "    tester.logger.info(\"++++++++++%s\\n\", ret['elapsed'])\n",
    "\n",
    "    ret = t.push_action('hello', 'testupdate', {'value': 'hello, alice'}, {'hello': 'active'})\n",
    "    t.produce_block()"
   ]
  },
  {
   "cell_type": "markdown",
   "id": "4fb4655b",
   "metadata": {},
   "source": [
    "用下面的命令来运行测试代码："
   ]
  },
  {
   "cell_type": "code",
   "execution_count": null,
   "id": "a02c5da2",
   "metadata": {},
   "outputs": [],
   "source": [
    "!ipyeos -m pytest -s -x tests/test.py -k test_update"
   ]
  },
  {
   "cell_type": "markdown",
   "id": "1077e6ce",
   "metadata": {},
   "source": [
    "在调用"
   ]
  },
  {
   "cell_type": "markdown",
   "id": "f11a3c3c",
   "metadata": {},
   "source": [
    "```python\n",
    "t.push_action('hello', 'testupdate', {'value': 'hello, bob'}, {'hello': 'active'})\n",
    "```"
   ]
  },
  {
   "cell_type": "markdown",
   "id": "324a95fd",
   "metadata": {},
   "source": [
    "会输出："
   ]
  },
  {
   "cell_type": "markdown",
   "id": "0ab047a1",
   "metadata": {},
   "source": [
    "+++++store value: hello, bob"
   ]
  },
  {
   "cell_type": "markdown",
   "id": "2cd9c5ca",
   "metadata": {},
   "source": [
    "在调用"
   ]
  },
  {
   "cell_type": "markdown",
   "id": "2d19a1d5",
   "metadata": {},
   "source": [
    "```python\n",
    "t.push_action('hello', 'testupdate', {'value': 'hello, alice'}, {'hello': 'active'})\n",
    "```"
   ]
  },
  {
   "cell_type": "markdown",
   "id": "5d815d94",
   "metadata": {},
   "source": [
    "会输出："
   ]
  },
  {
   "cell_type": "markdown",
   "id": "23dc2076",
   "metadata": {},
   "source": [
    "+++++update value: hello, alice"
   ]
  },
  {
   "cell_type": "markdown",
   "id": "8b6bffc7",
   "metadata": {},
   "source": [
    "可以看出，上面的代码稍微有点复杂，首先要调用`find`判断和主索引对应的值存不存在，再决定是调用`store`还是`update`。需要注意的是，在更新的过程中，**主索引的值是不能变的**，否则会抛出异常。\n",
    "\n",
    "可以试着将update的代码修改成："
   ]
  },
  {
   "cell_type": "markdown",
   "id": "600602bb",
   "metadata": {},
   "source": [
    "```python\n",
    "item = A(key+1u64, value)\n",
    "table.update(it, item, n'hello')\n",
    "```"
   ]
  },
  {
   "cell_type": "markdown",
   "id": "7f65e3f8",
   "metadata": {},
   "source": [
    "你将会看到到智能合约里抛出的异常\n",
    "                                                                                                    \n",
    "## remove\n",
    "\n",
    "下面的代码演示了如何去删除数据库中的一项数据。"
   ]
  },
  {
   "cell_type": "code",
   "execution_count": null,
   "id": "18dde072",
   "metadata": {},
   "outputs": [],
   "source": [
    "%%writefile tests/db_example1.codon\n",
    "\n",
    "from chain.database import primary\n",
    "from chain.contract import Contract\n",
    "\n",
    "@table(\"mytable\")\n",
    "class A(object):\n",
    "    a: primary[u64]\n",
    "    b: str\n",
    "    def __init__(self, a: u64, b: str):\n",
    "        self.a = primary[u64](a)\n",
    "        self.b = b\n",
    "\n",
    "@contract(main=True)\n",
    "class MyContract(Contract):\n",
    "        \n",
    "    @action('testremove')\n",
    "    def test_remove(self):\n",
    "        print('test remove')\n",
    "        item = A(123u64, 'hello, world')\n",
    "        table = A.new_table(n'hello', n'')\n",
    "        table.store(item, n'hello')\n",
    "\n",
    "        it = table.find(123u64)\n",
    "        assert it.is_ok()\n",
    "        table.remove(it)\n",
    "\n",
    "        it = table.find(123u64)\n",
    "        assert not it.is_ok()"
   ]
  },
  {
   "cell_type": "markdown",
   "id": "204b3ac7",
   "metadata": {},
   "source": [
    "测试代码："
   ]
  },
  {
   "cell_type": "code",
   "execution_count": null,
   "id": "44af9ef5",
   "metadata": {},
   "outputs": [],
   "source": [
    "%%writefile tests/test.py\n",
    "\n",
    "from pscdk import tester\n",
    "\n",
    "def test_remove():\n",
    "    t = tester.init_test('db_example1')\n",
    "    ret = t.push_action('hello', 'testremove', \"\", {'hello': 'active'})\n",
    "    t.produce_block()\n",
    "    tester.logger.info(\"++++++++++%s\\n\", ret['elapsed'])"
   ]
  },
  {
   "cell_type": "markdown",
   "id": "e473189b",
   "metadata": {},
   "source": [
    "编译："
   ]
  },
  {
   "cell_type": "code",
   "execution_count": null,
   "id": "866fbd74",
   "metadata": {},
   "outputs": [],
   "source": [
    "!python-contract build tests/db_example1.codon"
   ]
  },
  {
   "cell_type": "markdown",
   "id": "9b3fa5da",
   "metadata": {},
   "source": [
    "测试："
   ]
  },
  {
   "cell_type": "code",
   "execution_count": null,
   "id": "6ee37da2",
   "metadata": {},
   "outputs": [],
   "source": [
    "!ipyeos -m pytest -s -x tests/test.py -k test_remove"
   ]
  },
  {
   "cell_type": "markdown",
   "id": "09cd9d69",
   "metadata": {},
   "source": [
    "上面的代码先调用`store`方法来存储索引为`123u64`的数据，然后再再调用`remove`删除，调用`assert`以检查结果。如果一切正常，程序将不会抛出任何的异常。\n",
    "                                                                                                    \n",
    "## lowerbound/upperbound\n",
    "\n",
    "这两个方法也是用来查找给中的元素的，不同于`find`方法，这两个函数用于模糊查找。其中，`lowerbound`方法返回`>=`指定`id`的`Iterator`，`upperbound`方法返回`>`指定`id`的`Iterator`，下面来看下用法："
   ]
  },
  {
   "cell_type": "code",
   "execution_count": null,
   "id": "68729ecc",
   "metadata": {},
   "outputs": [],
   "source": [
    "%%writefile tests/db_example1.codon\n",
    "\n",
    "from chain.database import primary\n",
    "from chain.contract import Contract\n",
    "\n",
    "@table(\"mytable\")\n",
    "class A(object):\n",
    "    a: primary[u64]\n",
    "    b: str\n",
    "    def __init__(self, a: u64, b: str):\n",
    "        self.a = primary[u64](a)\n",
    "        self.b = b\n",
    "\n",
    "@contract(main=True)\n",
    "class MyContract(Contract):\n",
    "\n",
    "    @action('testbound')\n",
    "    def test_bound(self):\n",
    "        print('db_test')\n",
    "        table = A.new_table(n'hello', n'')\n",
    "        payer = n'hello'\n",
    "\n",
    "        value = A(1u64, \"alice\")\n",
    "        table.store(value, payer)\n",
    "\n",
    "        value = A(3u64, \"bob\")\n",
    "        table.store(value, payer)\n",
    "\n",
    "        value = A(5u64, \"john\")\n",
    "        table.store(value, payer)\n",
    "\n",
    "        it = table.lowerbound(1u64)\n",
    "        value2: A = it.get_value()\n",
    "        print(\"+++++:\", value2.a, value2.b)\n",
    "        assert value2.a.value == 1u64 and value2.b == 'alice'\n",
    "\n",
    "        it = table.upperbound(1u64)\n",
    "        value2: A = it.get_value()\n",
    "        print(\"+++++:\", value2.a, value2.b)\n",
    "        assert value2.a.value == 3u64 and value2.b == 'bob'"
   ]
  },
  {
   "cell_type": "markdown",
   "id": "79031570",
   "metadata": {},
   "source": [
    "测试代码："
   ]
  },
  {
   "cell_type": "code",
   "execution_count": null,
   "id": "8cdf6a54",
   "metadata": {},
   "outputs": [],
   "source": [
    "%%writefile tests/test.py\n",
    "\n",
    "from pscdk import tester\n",
    "\n",
    "def test_bound():\n",
    "    t = tester.init_test('db_example1')\n",
    "    ret = t.push_action('hello', 'testbound', {}, {'hello': 'active'})\n",
    "    t.produce_block()\n",
    "    tester.logger.info(\"++++++++++%s\\n\", ret['elapsed'])"
   ]
  },
  {
   "cell_type": "markdown",
   "id": "9802b41a",
   "metadata": {},
   "source": [
    "编译："
   ]
  },
  {
   "cell_type": "code",
   "execution_count": null,
   "id": "adf896c2",
   "metadata": {},
   "outputs": [],
   "source": [
    "!python-contract build tests/db_example1.codon"
   ]
  },
  {
   "cell_type": "markdown",
   "id": "5ad7aa76",
   "metadata": {},
   "source": [
    "运行测试："
   ]
  },
  {
   "cell_type": "code",
   "execution_count": null,
   "id": "080068ec",
   "metadata": {},
   "outputs": [],
   "source": [
    "!ipyeos -m pytest -s -x tests/test.py -k test_bound"
   ]
  },
  {
   "cell_type": "markdown",
   "id": "13dfcdb5",
   "metadata": {},
   "source": [
    "输出："
   ]
  },
  {
   "cell_type": "markdown",
   "id": "19257280",
   "metadata": {},
   "source": [
    "```\n",
    "+++++: 1 alice\n",
    "+++++: 3 bob\n",
    "```"
   ]
  },
  {
   "cell_type": "markdown",
   "id": "c0fb7c89",
   "metadata": {},
   "source": [
    "## 利用API来对表进行主索引查询\n",
    "\n",
    "上面的例子都是讲的如果通过智能合约来操作链上的数据库的表，实际上，通过EOS提供的链下的`get_table_rows`的API的接口，也同样可以对链上的表进行查询工作。\n",
    "在测试代码中，get_table_rows的定义如下"
   ]
  },
  {
   "cell_type": "markdown",
   "id": "d9a949b5",
   "metadata": {},
   "source": [
    "```python\n",
    "def get_table_rows(self, _json, code, scope, table,\n",
    "                                lower_bound, upper_bound,\n",
    "                                limit,\n",
    "                                key_type='',\n",
    "                                index_position='', \n",
    "                                reverse = False,\n",
    "                                show_payer = False):\n",
    "    \"\"\" Fetch smart contract data from an account. \n",
    "    key_type: \"i64\"|\"i128\"|\"i256\"|\"float64\"|\"float128\"|\"sha256\"|\"ripemd160\"\n",
    "    index_position: \"2\"|\"3\"|\"4\"|\"5\"|\"6\"|\"7\"|\"8\"|\"9\"|\"10\"\n",
    "    \"\"\"\n",
    "```"
   ]
  },
  {
   "cell_type": "markdown",
   "id": "d9a50f05",
   "metadata": {},
   "source": [
    "首先，要通过`get_table_rows`来查询表，表的结构必须在ABI的描述中可见，可以通过下面的代码来让表在生成相应的ABI文件中有描述："
   ]
  },
  {
   "cell_type": "code",
   "execution_count": null,
   "id": "e8803515",
   "metadata": {},
   "outputs": [],
   "source": [
    "%%writefile tests/db_example5.codon\n",
    "\n",
    "from chain.database import primary\n",
    "from chain.contract import Contract\n",
    "\n",
    "@table(\"mytable\")\n",
    "class A(object):\n",
    "    a: primary[u64]\n",
    "    b: str\n",
    "    def __init__(self, a: u64, b: str):\n",
    "        self.a = primary[u64](a)\n",
    "        self.b = b\n",
    "\n",
    "@contract(main=True)\n",
    "class MyContract(Contract):\n",
    "\n",
    "    def __init__(self):\n",
    "        super().__init__()\n",
    "\n",
    "    @action('test')\n",
    "    def test(self):\n",
    "        print('db_test')\n",
    "        table = A.new_table(n'hello', n'')\n",
    "        payer = n'hello'\n",
    "\n",
    "        value = A(1u64, \"alice\")\n",
    "        table.store(value, payer)\n",
    "\n",
    "        value = A(3u64, \"bob\")\n",
    "        table.store(value, payer)\n",
    "\n",
    "        value = A(5u64, \"john\")\n",
    "        table.store(value, payer)\n",
    "\n",
    "        it = table.lowerbound(1u64)\n",
    "        value2: A = it.get_value()\n",
    "        print(\"+++++:\", value2.a, value2.b)\n",
    "        assert value2.a() == 1u64 and value2.b == 'alice'\n",
    "\n",
    "        it = table.upperbound(1u64)\n",
    "        value2: A = it.get_value()\n",
    "        print(\"+++++:\", value2.a, value2.b)\n",
    "        assert value2.a() == 3u64 and value2.b == 'bob'"
   ]
  },
  {
   "cell_type": "markdown",
   "id": "f8373a79",
   "metadata": {},
   "source": [
    "这里，通过`table`这个内置的`decorator`来让编译器在ABI中加入表的结构。\n",
    "给类加了这个`table`，编译器会自动给类添加`get_primary`以及`new_table`函数：\n",
    "\n",
    "同时，类的成员变量也要满足相应的要求：\n",
    "首先，必须声明一个主索引变量，类型必须是`database.primary`, `primary`类的实现如下："
   ]
  },
  {
   "cell_type": "markdown",
   "id": "646f7632",
   "metadata": {},
   "source": [
    "```python\n",
    "class primary[T](object):\n",
    "    value: T\n",
    "    def __init__(self, value: T):\n",
    "        self.value = value\n",
    "\n",
    "    def get_primary(self) -> u64:\n",
    "        if isinstance(self.value, u64):\n",
    "            return self.value\n",
    "        return self.value.get_primary()\n",
    "\n",
    "    def __pack__(self, enc: Encoder):\n",
    "        self.value.__pack__(enc)\n",
    "\n",
    "    def __unpack__(dec: Decoder) -> primary[T]:\n",
    "        return primary[T](T.__unpack__(dec))\n",
    "\n",
    "    def __call__(self) -> T:\n",
    "        return self.value\n",
    "\n",
    "    def __size__(self) -> int:\n",
    "        return self.value.__size__()\n",
    "```"
   ]
  },
  {
   "cell_type": "markdown",
   "id": "568e4aa1",
   "metadata": {},
   "source": [
    "`primary`类是一个模版类，如果`primary`的`value`的类型不为`u64`，则类型必须实现`get_primary`方法，`primary`类还有一个`__call__`方法，以方便获取`value`。在后面会讲到的多重索引中，还会用到二级索引，二级索引的类型必须是`database.secondary`\n",
    "\n",
    "编译："
   ]
  },
  {
   "cell_type": "code",
   "execution_count": null,
   "id": "60186cad",
   "metadata": {},
   "outputs": [],
   "source": [
    "!python-contract build tests/db_example5.codon"
   ]
  },
  {
   "cell_type": "markdown",
   "id": "6d8bbca7",
   "metadata": {},
   "source": [
    "你将在生成的`db_example5.abi`中看到下面的描述："
   ]
  },
  {
   "cell_type": "markdown",
   "id": "b84e1ebc",
   "metadata": {},
   "source": [
    "```\n",
    "\"tables\": [\n",
    "        {\n",
    "            \"name\": \"mytable\",\n",
    "            \"type\": \"A\",\n",
    "            \"index_type\": \"i64\",\n",
    "            \"key_names\": [],\n",
    "            \"key_types\": []\n",
    "        }\n",
    "    ]\n",
    "```"
   ]
  },
  {
   "cell_type": "markdown",
   "id": "16a00c91",
   "metadata": {},
   "source": [
    "再看下测试代码："
   ]
  },
  {
   "cell_type": "code",
   "execution_count": null,
   "id": "1b94c687",
   "metadata": {},
   "outputs": [],
   "source": [
    "%%writefile tests/test.py\n",
    "\n",
    "from pscdk import tester\n",
    "\n",
    "def test_example5():\n",
    "    t = tester.init_test('db_example5')\n",
    "    ret = t.push_action('hello', 'test', {}, {'hello': 'active'})\n",
    "    t.produce_block()\n",
    "    tester.logger.info(\"++++++++++%s\\n\", ret['elapsed'])\n",
    "    rows = t.get_table_rows(True, 'hello', '', 'mytable', 1, '', 10)\n",
    "    tester.logger.info('++++++=rows: %s', rows)"
   ]
  },
  {
   "cell_type": "markdown",
   "id": "69371707",
   "metadata": {},
   "source": [
    "运行测试："
   ]
  },
  {
   "cell_type": "code",
   "execution_count": null,
   "id": "5c896193",
   "metadata": {},
   "outputs": [],
   "source": [
    "!ipyeos -m pytest -s -x tests/test.py -k test_example5"
   ]
  },
  {
   "cell_type": "markdown",
   "id": "747cd6fb",
   "metadata": {},
   "source": [
    "输出："
   ]
  },
  {
   "cell_type": "markdown",
   "id": "18ec0901",
   "metadata": {},
   "source": [
    "```\n",
    "++++++=rows: {'rows': [{'a': 1, 'b': 'alice'}, {'a': 3, 'b': 'bob'}, {'a': 5, 'b': 'john'}], 'more': False, 'next_key': ''}\n",
    "```"
   ]
  },
  {
   "cell_type": "markdown",
   "id": "4ce1efed",
   "metadata": {},
   "source": [
    "## 二级索引的操作\n",
    "\n",
    "请先看下面的例子："
   ]
  },
  {
   "cell_type": "code",
   "execution_count": null,
   "id": "6bfcaf51",
   "metadata": {},
   "outputs": [],
   "source": [
    "%%writefile tests/db_example7.codon\n",
    "\n",
    "from chain.contract import Contract\n",
    "from chain.database import primary, secondary\n",
    "from chain.database import IdxTable64, IdxTable128, Iterator\n",
    "from chain.name import Name\n",
    "\n",
    "@table(\"mytable\")\n",
    "class A(object):\n",
    "    a: database.primary[u64]\n",
    "    b: secondary[u64]\n",
    "    c: secondary[u128]\n",
    "\n",
    "    def __init__(self, a: u64, b: u64, c: u128):\n",
    "        self.a = primary[u64](a)\n",
    "        self.b = secondary[u64](b)\n",
    "        self.c = secondary[u128](c)\n",
    "\n",
    "@contract(main=True)\n",
    "class MyContract(Contract):\n",
    "\n",
    "    def __init__(self):\n",
    "        super().__init__()\n",
    "\n",
    "    @action('test')\n",
    "    def test(self):\n",
    "        payer = n\"hello\"\n",
    "        table = A.new_table(n\"hello\", n\"\")\n",
    "        item = A(1u64, 2u64, 3u128)\n",
    "        table.store(item, payer)\n",
    "\n",
    "        idx_table_b = table.get_idx_table_by_b()\n",
    "        it = idx_table_b.find(2u64)\n",
    "        print(\"++++++it.primary:\", it.primary)\n",
    "        assert it.primary == 1u64\n",
    "\n",
    "        idx_table_c = table.get_idx_table_by_c()\n",
    "        it = idx_table_c.find(3u128)\n",
    "        print(\"++++++it.primary:\", it.primary)\n",
    "        assert it.primary == 1u64"
   ]
  },
  {
   "cell_type": "markdown",
   "id": "e03aaa2d",
   "metadata": {},
   "source": [
    "在这个例子中，定义了两个二级索引："
   ]
  },
  {
   "cell_type": "markdown",
   "id": "6f2a54dd",
   "metadata": {},
   "source": [
    "```python\n",
    "b: secondary[u64]\n",
    "c: secondary[u128]\n",
    "```"
   ]
  },
  {
   "cell_type": "markdown",
   "id": "4d693a0a",
   "metadata": {},
   "source": [
    "在代码里，通过`get_idx_table_by_b`和`get_idx_table_by_c`来获取二级索引的表，返回的对象类型分别为`IdxTable64`和`IdxTable128`。\n",
    "二级索引的表和主索引的表有类似的方法名称，也可以执行二级索引的查找的功能。\n",
    "\n",
    "测试代码："
   ]
  },
  {
   "cell_type": "code",
   "execution_count": null,
   "id": "2e8e9cfc",
   "metadata": {},
   "outputs": [],
   "source": [
    "%%writefile tests/test.py\n",
    "from pscdk import tester\n",
    "\n",
    "def test_example7():\n",
    "    t = tester.init_test('db_example7')\n",
    "    ret = t.push_action('hello', 'test', {}, {'hello': 'active'})\n",
    "    t.produce_block()\n",
    "    tester.logger.info(\"++++++++++%s\\n\", ret['elapsed'])"
   ]
  },
  {
   "cell_type": "markdown",
   "id": "7be60e54",
   "metadata": {},
   "source": [
    "编译："
   ]
  },
  {
   "cell_type": "code",
   "execution_count": null,
   "id": "a908440d",
   "metadata": {},
   "outputs": [],
   "source": [
    "!python-contract build tests/db_example7.codon"
   ]
  },
  {
   "cell_type": "markdown",
   "id": "211d3cd7",
   "metadata": {},
   "source": [
    "运行测试："
   ]
  },
  {
   "cell_type": "code",
   "execution_count": null,
   "id": "56b4c52c",
   "metadata": {},
   "outputs": [],
   "source": [
    "!ipyeos -m pytest -s -x tests/test.py -k test_example7"
   ]
  },
  {
   "cell_type": "markdown",
   "id": "8f33c831",
   "metadata": {},
   "source": [
    "输出："
   ]
  },
  {
   "cell_type": "markdown",
   "id": "f1c62207",
   "metadata": {},
   "source": [
    "```\n",
    "++++++it.primary: 1\n",
    "++++++it.primary: 1\n",
    "```"
   ]
  },
  {
   "cell_type": "markdown",
   "id": "a040d172",
   "metadata": {},
   "source": [
    "## 二级索引的的更新\n",
    "\n",
    "在实际的应用中，有时候需要更新二级索引。请先看下面的代码"
   ]
  },
  {
   "cell_type": "code",
   "execution_count": null,
   "id": "2d3048de",
   "metadata": {},
   "outputs": [],
   "source": [
    "%%writefile tests/db_example8.codon\n",
    "\n",
    "from chain.contract import Contract\n",
    "from chain.database import primary, secondary\n",
    "from chain.database import IdxTable64, IdxTable128, Iterator\n",
    "from chain.name import Name\n",
    "\n",
    "@table(\"mytable\")\n",
    "class A(object):\n",
    "    a: database.primary[u64]\n",
    "    b: secondary[u64]\n",
    "    c: secondary[u128]\n",
    "\n",
    "    def __init__(self, a: u64, b: u64, c: u128):\n",
    "        self.a = primary[u64](a)\n",
    "        self.b = secondary[u64](b)\n",
    "        self.c = secondary[u128](c)\n",
    "\n",
    "@contract(main=True)\n",
    "class MyContract(Contract):\n",
    "\n",
    "    def __init__(self):\n",
    "        super().__init__()\n",
    "\n",
    "    @action('test')\n",
    "    def test(self):\n",
    "        payer = n\"hello\"\n",
    "        table = A.new_table(n\"hello\", n\"\")\n",
    "        item = A(1u64, 2u64, 3u128)\n",
    "        table.store(item, payer)\n",
    "        item = A(111u64, 222u64, 333u128)\n",
    "        table.store(item, payer)\n",
    "\n",
    "        idx_table_b = table.get_idx_table_by_b()\n",
    "        it_sec = idx_table_b.find(2u64)\n",
    "        print(\"++++++it.primary:\", it_sec.primary)\n",
    "        assert it_sec.primary == 1u64\n",
    "        \n",
    "        table.update_b(it_sec, 22u64, payer)\n",
    "\n",
    "        it_sec = idx_table_b.find(22u64)\n",
    "        assert it_sec.is_ok()\n",
    "        print(\"++++++it.primary:\", it_sec.primary)\n",
    "        assert it_sec.primary == 1u64"
   ]
  },
  {
   "cell_type": "markdown",
   "id": "d78150a1",
   "metadata": {},
   "source": [
    "注意上面代码中的这段代码："
   ]
  },
  {
   "cell_type": "markdown",
   "id": "d937bc71",
   "metadata": {},
   "source": [
    "```python\n",
    "idx_table_b = table.get_idx_table_by_b()\n",
    "it_sec = idx_table_b.find(2u64)\n",
    "print(\"++++++it.primary:\", it_sec.primary)\n",
    "assert it_sec.primary == 1u64\n",
    "\n",
    "table.update_b(it_sec, 22u64, payer)\n",
    "\n",
    "it_sec = idx_table_b.find(22u64)\n",
    "assert it_sec.is_ok()\n",
    "print(\"++++++it.primary:\", it_sec.primary)\n",
    "assert it_sec.primary == 1u64\n",
    "```"
   ]
  },
  {
   "cell_type": "markdown",
   "id": "20a828d7",
   "metadata": {},
   "source": [
    "简述下过程：\n",
    "\n",
    "- `it_sec = idx_table_b.find(2u64)`查找二级索引的值`2u64`，返回的`SecondaryIterator`类型的`it_sec`。\n",
    "- **`table.update_b(it_sec, 22u64, payer)`** 这行代码即是实现了更新的功能，更新`b`的值为`22u64`\n",
    "- `it_sec = idx_table_b.find(22u64)`查找新的二级索引\n",
    "- `assert assert it_sec.is_ok()`用于确认二级索引是否更新成功\n",
    "- `assert it_sec.primary == 1u64`用于确认主索引是否正确\n",
    "\n",
    "而`update_b`是由编译器生成的代码，生成的代码如下："
   ]
  },
  {
   "cell_type": "markdown",
   "id": "4e8887a1",
   "metadata": {},
   "source": [
    "```python\n",
    "def update_b(self, it: SecondaryIterator, b: u64, payer: Name) -> None:\n",
    "    # 更新`b`的二级索引\n",
    "    self.idx_b.update(it, b, payer)\n",
    "    # 查找主索引\n",
    "    it_primary = self.table.find(it.primary)\n",
    "    check(it_primary.is_ok(), \"primary iterator not found\")\n",
    "    # 获取主索引对应的值\n",
    "    value: A = it_primary.get_value()\n",
    "    # 更新主索引对应的值\n",
    "    value.b = secondary[u64](b)\n",
    "    self.table.update(it_primary, value, payer)\n",
    "```"
   ]
  },
  {
   "cell_type": "markdown",
   "id": "5bc91bbd",
   "metadata": {},
   "source": [
    "从代码看出，更新二级索引的时候，还会更新主索引的对应的值"
   ]
  },
  {
   "cell_type": "markdown",
   "id": "ff81d1d2",
   "metadata": {},
   "source": [
    "编译："
   ]
  },
  {
   "cell_type": "code",
   "execution_count": null,
   "id": "3dade66f",
   "metadata": {},
   "outputs": [],
   "source": [
    "!python-contract build tests/db_example8.codon"
   ]
  },
  {
   "cell_type": "markdown",
   "id": "ab750ac7",
   "metadata": {},
   "source": [
    "测试代码："
   ]
  },
  {
   "cell_type": "code",
   "execution_count": null,
   "id": "436c4f91",
   "metadata": {},
   "outputs": [],
   "source": [
    "%%writefile tests/test.py\n",
    "\n",
    "from pscdk import tester\n",
    "\n",
    "def test_example8():\n",
    "    t = tester.init_test('db_example8')\n",
    "    ret = t.push_action('hello', 'test', {}, {'hello': 'active'})\n",
    "    t.produce_block()\n",
    "    tester.logger.info(\"++++++++++%s\\n\", ret['elapsed'])\n"
   ]
  },
  {
   "cell_type": "code",
   "execution_count": null,
   "id": "0b1b8da0",
   "metadata": {},
   "outputs": [],
   "source": [
    "!ipyeos -m pytest -s -x tests/test.py -k test_example8"
   ]
  },
  {
   "cell_type": "markdown",
   "id": "042e82ed",
   "metadata": {},
   "source": [
    "## 二级索引的删除"
   ]
  },
  {
   "cell_type": "code",
   "execution_count": null,
   "id": "07b71310",
   "metadata": {},
   "outputs": [],
   "source": [
    "%%writefile tests/db_example8.codon\n",
    "\n",
    "from chain.contract import Contract\n",
    "from chain.database import primary, secondary\n",
    "from chain.database import IdxTable64, IdxTable128, Iterator\n",
    "from chain.name import Name\n",
    "\n",
    "@table(\"mytable\")\n",
    "class A(object):\n",
    "    a: database.primary[u64]\n",
    "    b: secondary[u64]\n",
    "    c: secondary[u128]\n",
    "\n",
    "    def __init__(self, a: u64, b: u64, c: u128):\n",
    "        self.a = primary[u64](a)\n",
    "        self.b = secondary[u64](b)\n",
    "        self.c = secondary[u128](c)\n",
    "\n",
    "@contract(main=True)\n",
    "class MyContract(Contract):\n",
    "\n",
    "    def __init__(self):\n",
    "        super().__init__()\n",
    "\n",
    "    @action('test')\n",
    "    def test(self):\n",
    "        payer = n\"hello\"\n",
    "        table = A.new_table(n\"hello\", n\"\")\n",
    "        item = A(1u64, 2u64, 3u128)\n",
    "        table.store(item, payer)\n",
    "        item = A(111u64, 222u64, 333u128)\n",
    "        table.store(item, payer)\n",
    "\n",
    "        idx_table_b = table.get_idx_table_by_b()\n",
    "        it_sec = idx_table_b.find(2u64)\n",
    "        print(\"++++++it.primary:\", it_sec.primary)\n",
    "        assert it_sec.primary == 1u64\n",
    "        \n",
    "        table.update_b(it_sec, 22u64, payer)\n",
    "\n",
    "        it_sec = idx_table_b.find(22u64)\n",
    "        assert it_sec.is_ok()\n",
    "        print(\"++++++it.primary:\", it_sec.primary)\n",
    "        assert it_sec.primary == 1u64\n",
    "\n",
    "    @action('testremove')\n",
    "    def test_remove(self):\n",
    "        payer = n\"hello\"\n",
    "        table = A.new_table(n\"hello\", n\"\")\n",
    "        item = A(1u64, 2u64, 3u128)\n",
    "        table.store(item, payer)\n",
    "\n",
    "        idx_table_b = table.get_idx_table_by_b()\n",
    "        it_sec = idx_table_b.find(2u64)\n",
    "        assert it_sec.primary == 1u64\n",
    "        it = table.find(it_sec.primary)\n",
    "        table.remove(it)\n",
    "\n",
    "        it_sec = idx_table_b.find(2u64)\n",
    "        assert not it_sec.is_ok()\n",
    "        print('done!')"
   ]
  },
  {
   "cell_type": "markdown",
   "id": "98349f01",
   "metadata": {},
   "source": [
    "`test_remove`函数中，首先调用`store`存储主索引为`1u64`，以及第一个二级索引的值为`2u64`的对象A，然后查询`2u64`，确认`it_sec.primary == 1u64`，然后调用`remove`删除主索引为`1u64`的数据，最后再次查询`2u64`，确认元素已经被删除。"
   ]
  },
  {
   "cell_type": "code",
   "execution_count": null,
   "id": "0292e068",
   "metadata": {},
   "outputs": [],
   "source": [
    "%%writefile tests/test.py\n",
    "\n",
    "from pscdk import tester\n",
    "def test_remove_secondary():\n",
    "    t = tester.init_test('db_example8')\n",
    "    ret = t.push_action('hello', 'testremove', {}, {'hello': 'active'})\n",
    "    t.produce_block()\n",
    "    tester.logger.info(\"++++++++++%s\\n\", ret['elapsed'])"
   ]
  },
  {
   "cell_type": "markdown",
   "id": "6b6211ae",
   "metadata": {},
   "source": [
    "编译："
   ]
  },
  {
   "cell_type": "code",
   "execution_count": null,
   "id": "e169d9e4",
   "metadata": {},
   "outputs": [],
   "source": [
    "!python-contract build tests/db_example8.codon"
   ]
  },
  {
   "cell_type": "markdown",
   "id": "90d88f14",
   "metadata": {},
   "source": [
    "运行测试："
   ]
  },
  {
   "cell_type": "code",
   "execution_count": null,
   "id": "5dbbbea5",
   "metadata": {},
   "outputs": [],
   "source": [
    "!ipyeos -m pytest -s -x tests/test.py -k test_remove_secondary"
   ]
  },
  {
   "cell_type": "markdown",
   "id": "eeb54046",
   "metadata": {},
   "source": [
    "## 利用API来对表进行二重索引查询\n",
    "\n",
    "在例子`db_example8.codon`中，定义了两个二级索引，类型分别为`u64`,`u128`，`get_table_rows`API还支持通过二级索引来查找对应的值"
   ]
  },
  {
   "cell_type": "code",
   "execution_count": null,
   "id": "ee493a2f",
   "metadata": {},
   "outputs": [],
   "source": [
    "%%writefile tests/test.py\n",
    "\n",
    "from pscdk import tester\n",
    "\n",
    "def test_example9():\n",
    "    t = tester.init_test('db_example8')\n",
    "    ret = t.push_action('hello', 'test', {}, {'hello': 'active'})\n",
    "    t.produce_block()\n",
    "    tester.logger.info(\"++++++++++%s\\n\", ret['elapsed'])\n",
    "\n",
    "    # find by secondary u64\n",
    "    rows = t.get_table_rows(True, 'hello', '', 'mytable', 22, '', 10, 'i64', '2')\n",
    "    tester.logger.info(\"++++++++++%s\", rows['rows'])\n",
    "    assert rows['rows'][0]['b'] == 22\n",
    "\n",
    "    # find by secondary u128\n",
    "    rows = t.get_table_rows(True, 'hello', '', 'mytable', '3', '', 10, 'i128', '3')\n",
    "    tester.logger.info(\"++++++++++%s\", rows['rows'])\n",
    "    assert rows['rows'][0]['c'] == '3'"
   ]
  },
  {
   "cell_type": "markdown",
   "id": "9f03de05",
   "metadata": {},
   "source": [
    "下面对代码作下解释\n",
    "\n",
    "通过二级索引`b`来查找表中的值："
   ]
  },
  {
   "cell_type": "markdown",
   "id": "26d54e05",
   "metadata": {},
   "source": [
    "```python\n",
    "rows = t.get_table_rows(True, 'hello', '', 'mytable', 22, '', 10, 'i64', '2')\n",
    "```"
   ]
  },
  {
   "cell_type": "markdown",
   "id": "bad2efde",
   "metadata": {},
   "source": [
    "这里的`i64`即是`b`的索引类型，`2`是索引对应的序号，注意一下这里不是从`1`开始算起的。\n",
    "\n",
    "\n",
    "通过二级索引`c`来查找表中的值："
   ]
  },
  {
   "cell_type": "markdown",
   "id": "5c692d5d",
   "metadata": {},
   "source": [
    "```python\n",
    "rows = t.get_table_rows(True, 'hello', '', 'mytable', '3', '', 10, 'i128', '3')\n",
    "```"
   ]
  },
  {
   "cell_type": "markdown",
   "id": "6c1d73ed",
   "metadata": {},
   "source": [
    "这里的`i128`即是`c`的索引类型，注意这里lowerbound参数的值`3`是二级索引的值，由于u128已经超过了64位整数的表示范围，所以用数字字符串表示，最后一个参数`3`是索引对应的序号。\n",
    "\n",
    "\n",
    "上面的测试代码的运行结果如下："
   ]
  },
  {
   "cell_type": "markdown",
   "id": "87c92823",
   "metadata": {},
   "source": [
    "```\n",
    "++++++++++[{'a': 1, 'b': 22, 'c': '3'}, {'a': 111, 'b': 222, 'c': '333'}]\n",
    "++++++++++[{'a': 1, 'b': 22, 'c': '3'}, {'a': 111, 'b': 222, 'c': '333'}]\n",
    "```"
   ]
  },
  {
   "cell_type": "markdown",
   "id": "6406333b",
   "metadata": {},
   "source": [
    "## 数据库的实现原理\n",
    "\n",
    "上面的代码演示了数据库的基本操作，但是实际上在编译的过程中，有些方法和类是由编译器生成的，下面的代码把这些由编译器生成的代码展示了出来。"
   ]
  },
  {
   "cell_type": "code",
   "execution_count": null,
   "id": "fa736bab",
   "metadata": {},
   "outputs": [],
   "source": [
    "%%writefile tests/db_example6.codon\n",
    "\n",
    "from chain.contract import Contract\n",
    "from chain.database import primary, secondary\n",
    "from chain.database import IdxTable64, IdxTable128, Iterator, SecondaryIterator\n",
    "from chain.mi import MultiIndexBase\n",
    "from chain.name import Name\n",
    "\n",
    "@packer\n",
    "class A(object):\n",
    "    a: database.primary[u64]\n",
    "    b: secondary[u64]\n",
    "    c: secondary[u128]\n",
    "\n",
    "    def __init__(self, a: u64, b: u64, c: u128):\n",
    "        self.a = primary[u64](a)\n",
    "        self.b = secondary[u64](b)\n",
    "        self.c = secondary[u128](c)\n",
    "\n",
    "    def get_primary(self) -> u64:\n",
    "        return self.a()\n",
    "\n",
    "class MultiIndexA(MultiIndexBase[A]):\n",
    "    idx_b: IdxTable64\n",
    "    idx_c: IdxTable128\n",
    "\n",
    "    def __init__(self, code: Name, scope: Name, table: Name):\n",
    "        MultiIndexBase[A].__init__(self, code, scope, table)\n",
    "        idx_table_base = table.value & 0xfffffffffffffff0u64\n",
    "        self.idx_b = IdxTable64(0, code, scope, Name(idx_table_base | u64(0)))\n",
    "        self.idx_c = IdxTable128(1, code, scope, Name(idx_table_base | u64(1)))\n",
    "\n",
    "    def store(self, item: A, payer: Name) -> Iterator[A]:\n",
    "        id: u64 = item.get_primary()\n",
    "        it = self.table.store(item, payer)\n",
    "        self.idx_b.store(id, item.b(), payer)\n",
    "\n",
    "        self.idx_c.store(id, item.c(), payer)\n",
    "\n",
    "        return it\n",
    "\n",
    "    def update(self, it: Iterator[A], item: A, payer: Name):\n",
    "        self.table.update(it, item, payer)\n",
    "\n",
    "        primary = item.get_primary()\n",
    "        secondary = item.b()\n",
    "        it_secondary, old_secondary = self.idx_b.find_by_primary(primary)\n",
    "        if not secondary == old_secondary:\n",
    "            self.idx_b.update(it_secondary, secondary, payer)\n",
    "\n",
    "        secondary = item.c()\n",
    "        it_secondary, old_secondary = self.idx_c.find_by_primary(primary)\n",
    "        if not secondary == old_secondary:\n",
    "            self.idx_c.update(it_secondary, secondary, payer)\n",
    "\n",
    "    def remove(self, it: Iterator[A]):\n",
    "        sec_it, _ = self.idx_b.find_by_primary(it.get_primary())\n",
    "        self.idx_b.remove(sec_it)\n",
    "\n",
    "        sec_it, _ = self.idx_c.find_by_primary(it.get_primary())\n",
    "        self.idx_c.remove(sec_it)\n",
    "\n",
    "        self.table.remove(it)\n",
    "\n",
    "    def remove(self, primary: u64):\n",
    "        it = self.table.find(primary)\n",
    "        if it.is_ok():\n",
    "            self.remove(it)\n",
    "\n",
    "    def get_idx_table_by_b(self) -> IdxTable64:\n",
    "        return self.idx_b\n",
    "\n",
    "    def get_idx_table_by_c(self) -> IdxTable128:\n",
    "        return self.idx_c\n",
    "\n",
    "    def update_b(self, it: SecondaryIterator, b: u64, payer: Name) -> None:\n",
    "        self.idx_b.update(it, b, payer)\n",
    "        it_primary = self.table.find(it.primary)\n",
    "        check(it_primary.is_ok(), \"primary iterator not found\")\n",
    "        value: A = it_primary.get_value()\n",
    "        value.b = secondary[u64](b)\n",
    "        self.table.update(it_primary, value, payer)\n",
    "\n",
    "    def update_c(self, it: SecondaryIterator, c: u128, payer: Name) -> None:\n",
    "        self.idx_c.update(it, c, payer)\n",
    "        it_primary = self.table.find(it.primary)\n",
    "        check(it_primary.is_ok(), \"primary iterator not found\")\n",
    "        value: A = it_primary.get_value()\n",
    "        value.c = secondary[u128](c)\n",
    "        self.table.update(it_primary, value, payer)\n",
    "\n",
    "@extend\n",
    "class A:\n",
    "    def new_table(code: Name, scope: Name):\n",
    "        return MultiIndexA(code, scope, n\"mytable\")\n",
    "\n",
    "@contract(main=True)\n",
    "class MyContract(Contract):\n",
    "\n",
    "    def __init__(self):\n",
    "        super().__init__()\n",
    "\n",
    "    @action('test')\n",
    "    def test(self):\n",
    "        print('+++++++=test')\n",
    "        payer = n\"hello\"\n",
    "        table = A.new_table(n\"hello\", n\"\")\n",
    "        item = A(1u64, 2u64, 3u128)\n",
    "        table.store(item, payer)\n",
    "\n",
    "        idx_table_b = table.get_idx_table_by_b()\n",
    "        it = idx_table_b.find(2u64)\n",
    "        print(\"++++++it.primary:\", it.primary)\n",
    "        assert it.primary == 1u64\n",
    "\n",
    "        idx_table_c = table.get_idx_table_by_c()\n",
    "        it = idx_table_c.find(3u128)\n",
    "        print(\"++++++it.primary:\", it.primary)\n",
    "        assert it.primary == 1u64"
   ]
  },
  {
   "cell_type": "markdown",
   "id": "7d3ec1f3",
   "metadata": {},
   "source": [
    "这个例子展示了有二个二级索引的例子，只是把`table`改成了`packer`，编译器即不再会生成数据库相关的代码。\n",
    "对比可知，编译器在编译的时候会生成`MultiIndexA`这个继承自`mi.codon`中定义的`MultiIndexBase`类，\n",
    "\n",
    "这个类有以下几个方法：\n",
    "\n",
    "- def store(self, item: A, payer: Name) -> Iterator[A]\n",
    "- def update(self, it: Iterator[A], item: A, payer: Name)\n",
    "- def remove(self, it: Iterator[A])\n",
    "- def get_idx_table_by_b(self) -> IdxTable64:\n",
    "- def get_idx_table_by_c(self) -> IdxTable128:\n",
    "- def update_b(self, it: SecondaryIterator, b: u64, payer: Name) -> None:\n",
    "- def update_c(self, it: SecondaryIterator, c: u128, payer: Name) -> None:\n",
    "\n",
    "\n",
    "同时会为类`A`生成额外的方法：\n",
    "\n",
    "- `get_primary` 获取主索引\n",
    "- `get_idx_table_by_b`, 用于获取二级索引`b`的表，返回的类是`IdxTable64`\n",
    "- `get_idx_table_by_c`，用于获取二级索引`c`的表，返回的类为`IdxTable128`。\n",
    "- `new_table`\n",
    "\n",
    "测试代码："
   ]
  },
  {
   "cell_type": "code",
   "execution_count": null,
   "id": "28b06ed0",
   "metadata": {},
   "outputs": [],
   "source": [
    "%%writefile tests/test.py\n",
    "\n",
    "from pscdk import tester\n",
    "\n",
    "def test_example6():\n",
    "    t = tester.init_test('db_example6')\n",
    "    ret = t.push_action('hello', 'test', {}, {'hello': 'active'})\n",
    "    t.produce_block()\n",
    "    tester.logger.info(\"++++++++++%s\\n\", ret['elapsed'])"
   ]
  },
  {
   "cell_type": "markdown",
   "id": "2b3e1ab0",
   "metadata": {},
   "source": [
    "编译："
   ]
  },
  {
   "cell_type": "code",
   "execution_count": null,
   "id": "70fa3453",
   "metadata": {},
   "outputs": [],
   "source": [
    "!python-contract build tests/db_example6.codon"
   ]
  },
  {
   "cell_type": "markdown",
   "id": "da39f043",
   "metadata": {},
   "source": [
    "运行测试："
   ]
  },
  {
   "cell_type": "code",
   "execution_count": null,
   "id": "1ccf61f9",
   "metadata": {},
   "outputs": [],
   "source": [
    "!ipyeos -m pytest -s -x tests/test.py -k test_example6"
   ]
  },
  {
   "cell_type": "markdown",
   "id": "7de3428b",
   "metadata": {},
   "source": [
    "输出："
   ]
  },
  {
   "cell_type": "markdown",
   "id": "0f209e20",
   "metadata": {},
   "source": [
    "```\n",
    "++++++it.primary: 1\n",
    "++++++it.primary: 1\n",
    "```"
   ]
  },
  {
   "cell_type": "markdown",
   "id": "5b75c509",
   "metadata": {},
   "source": [
    "## 总结"
   ]
  },
  {
   "cell_type": "markdown",
   "id": "b8590a5d",
   "metadata": {},
   "source": [
    "EOS中的数据存储功能是比较完善的，并且有二级索引表的功能，使数据的查找变得非常的灵活。本章详细讲解了数据库表的增，删，改，查的代码。本章的内容较多，需要花点时间好好消化。可以在示例的基础上作些发动，并且尝试运行以增加对这章知识点的理解。"
   ]
  }
 ],
 "metadata": {
  "kernelspec": {
   "display_name": "Python 3 (ipykernel)",
   "language": "python",
   "name": "python3"
  },
  "language_info": {
   "codemirror_mode": {
    "name": "ipython",
    "version": 3
   },
   "file_extension": ".py",
   "mimetype": "text/x-python",
   "name": "python",
   "nbconvert_exporter": "python",
   "pygments_lexer": "ipython3",
   "version": "3.10.8"
  }
 },
 "nbformat": 4,
 "nbformat_minor": 5
}
