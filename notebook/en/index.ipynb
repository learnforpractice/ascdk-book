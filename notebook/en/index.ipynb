{
 "cells": [
  {
   "cell_type": "markdown",
   "id": "4ca40872",
   "metadata": {},
   "source": [

    "\n",

    "\n",
    "# Table of Contents\n",
    "\n",
    "* [Prerequisite Knowledge](prelude.md)\n",
    "* [Development Environment](env.md)\n",
    "* [HelloWorld](helloworld.md)\n",
    "* [Deploy](deploy.md)\n",
    "* [UI](ui.md)\n",
    "* [Inline Action](action.md)\n",
    "* [The require_recipient Function](notify.md)\n",
    "* [Database](database.md)\n",
    "* [Crypto Functions](crypto.md)\n",
    "* [Commonly Functions](common.md)\n",
    "* [Call C/C++ Code](callc.md)\n",
    "* [Codon](codon.md)"
   ]
  }
 ],
 "metadata": {},
 "nbformat": 4,
 "nbformat_minor": 5
}
