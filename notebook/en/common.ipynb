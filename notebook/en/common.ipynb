{
 "cells": [
  {
   "cell_type": "markdown",
   "id": "5796f46e",
   "metadata": {},
   "source": [
    "\n",
    "# Common Smart Contract Functions\n",
    "\n",
    "## is_account\n",
    "\n",
    "Declaration:"
   ]
  },
  {
   "cell_type": "markdown",
   "id": "54c06cfd",
   "metadata": {},
   "source": [
    "```python\n",
    "def is_account(account: Name ) -> bool:\n",
    "    ...\n",
    "```"
   ]
  },
  {
   "cell_type": "markdown",
   "id": "6d260432",
   "metadata": {},
   "source": [
    "Explanation:\n",
    "\n",
    "Used to determine if an account exists.\n",
    "\n",
    "## has_auth\n",
    "\n",
    "Declaration:"
   ]
  },
  {
   "cell_type": "markdown",
   "id": "66afe9b0",
   "metadata": {},
   "source": [
    "```python\n",
    "def has_auth(account: Name) -> bool:\n",
    "    ...\n",
    "```"
   ]
  },
  {
   "cell_type": "markdown",
   "id": "f941b551",
   "metadata": {},
   "source": [
    "Explanation:\n",
    "\n",
    "Used to determine if the 'active' permission of the specified account is present, i.e. whether the Transaction is signed with the private key corresponding to the 'active' permission of the specified account. There is at least one corresponding private key, and possibly multiple.\n",
    "\n",
    "## require_auth/require_auth2\n",
    "\n",
    "Declaration:"
   ]
  },
  {
   "cell_type": "markdown",
   "id": "3b9bef4c",
   "metadata": {},
   "source": [
    "```python\n",
    "def require_auth(account: Name):\n",
    "    ...\n",
    "\n",
    "def require_auth2(account: Name, permission: Name):\n",
    "    ...\n",
    "```"
   ]
  },
  {
   "cell_type": "markdown",
   "id": "928a9f29",
   "metadata": {},
   "source": [
    "Explanation:\n",
    "\n",
    "Both of these functions throw an exception when the account does not exist or the specified account's permission is not detected. The difference is that `require_auth` checks for the existence of the 'active' permission, while `require_auth2` can check for a specified permission.\n",
    "\n",
    "## publication_time/current_time\n",
    "\n",
    "## check\n",
    "\n",
    "Declaration:"
   ]
  },
  {
   "cell_type": "markdown",
   "id": "e0d14432",
   "metadata": {},
   "source": [
    "```python\n",
    "def check(test: bool, msg: str) -> None:\n",
    "```"
   ]
  },
  {
   "cell_type": "markdown",
   "id": "28aa3ea0",
   "metadata": {},
   "source": [
    "Explanation:\n",
    "\n",
    "If test is False, an exception will be thrown. This function is frequently used in smart contracts, and can be referenced in the code of `token.codon`.\n",
    "\n",
    "## Example Code:"
   ]
  },
  {
   "cell_type": "code",
   "execution_count": null,
   "id": "30fdab08",
   "metadata": {},
   "outputs": [],
   "source": [
    "!mkdir -p tests"
   ]
  },
  {
   "cell_type": "code",
   "execution_count": null,
   "id": "450c2ea0",
   "metadata": {},
   "outputs": [],
   "source": [
    "%%writefile tests/test.codon\n",
    "\n",
    "from chain.action import has_auth, require_auth, require_auth2, is_account\n",
    "from chain.contract import Contract\n",
    "\n",
    "@contract(main=True)\n",
    "class MyContract(Contract):\n",
    "\n",
    "    def __init__(self):\n",
    "        super().__init__()\n",
    "\n",
    "    @action('test')\n",
    "    def test(self):\n",
    "        has_auth(n\"hello\")\n",
    "\n",
    "        require_auth(n\"hello\")\n",
    "        require_auth2(n\"hello\", n\"active\")\n",
    "\n",
    "        print(is_account(n\"hello\"))\n",
    "        print(is_account(n\"hello\"))\n",
    "        return"
   ]
  },
  {
   "cell_type": "markdown",
   "id": "7e95bdf0",
   "metadata": {},
   "source": [
    "Compilation:"
   ]
  },
  {
   "cell_type": "code",
   "execution_count": null,
   "id": "ba2fde38",
   "metadata": {},
   "outputs": [],
   "source": [
    "%%bash\n",
    "python-contract build common_example.codon"
   ]
  },
  {
   "cell_type": "markdown",
   "id": "5d486840",
   "metadata": {},
   "source": [
    "Test code:"
   ]
  },
  {
   "cell_type": "code",
   "execution_count": null,
   "id": "4a6ec829",
   "metadata": {},
   "outputs": [],
   "source": [
    "%%writefile tests/test.py\n",
    "\n",
    "from pscdk import tester\n",
    "def test_common():\n",
    "    t = tester.init_test('common_example')\n",
    "    ret = t.push_action('hello', 'test', {}, {'hello': 'active'})\n",
    "    t.produce_block()\n",
    "    tester.logger.info(\"++++++++++%s\\n\", ret['elapsed'])"
   ]
  },
  {
   "cell_type": "markdown",
   "id": "df0dc4b6",
   "metadata": {},
   "source": [
    "Test:"
   ]
  },
  {
   "cell_type": "code",
   "execution_count": null,
   "id": "f02749e4",
   "metadata": {},
   "outputs": [],
   "source": [
    "!ipyeos -m pytest -s -x tests/test.py -k test_common"
   ]
  },
  {
   "cell_type": "markdown",
   "id": "bc044903",
   "metadata": {},
   "source": [
    "Output:\n",
    "```\n",
    "[(hello,test)->hello]: CONSOLE OUTPUT BEGIN =====================\n",
    "True\n",
    "True\n",
    "\n",
    "[(hello,test)->hello]: CONSOLE OUTPUT END   =====================\n",
    "```"
   ]
  }
 ],
 "metadata": {
  "kernelspec": {
   "display_name": "Python 3 (ipykernel)",
   "language": "python",
   "name": "python3"
  },
  "language_info": {
   "codemirror_mode": {
    "name": "ipython",
    "version": 3
   },
   "file_extension": ".py",
   "mimetype": "text/x-python",
   "name": "python",
   "nbconvert_exporter": "python",
   "pygments_lexer": "ipython3",
   "version": "3.10.8"
  }
 },
 "nbformat": 4,
 "nbformat_minor": 5
}
