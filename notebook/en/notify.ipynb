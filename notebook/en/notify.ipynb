{
 "cells": [
  {
   "cell_type": "markdown",
   "id": "b296fd79",
   "metadata": {},
   "source": [
    "\n",
    "# The `require_recipient` function\n",
    "\n",
    "The function is declared in `action.codon` as follows:"
   ]
  },
  {
   "cell_type": "markdown",
   "id": "6d68d7e3",
   "metadata": {},
   "source": [
    "```python\n",
    "def require_recipient(account: Name)\n",
    "```"
   ]
  },
  {
   "cell_type": "markdown",
   "id": "fb6701c2",
   "metadata": {},
   "source": [
    "The `require_recipient` function is utilized to notify other contracts. If the `account` contract has the same action, this action will be called.\n",
    "\n",
    "The following code in `sender.codon` and `receiver.codon` demonstrates how to send a notification from one contract to another."
   ]
  },
  {
   "cell_type": "code",
   "execution_count": 6,
   "id": "cdfb7d76",
   "metadata": {},
   "outputs": [],
   "source": [
    "!mkdir -p tests/notify"
   ]
  },
  {
   "cell_type": "code",
   "execution_count": 7,
   "id": "79c7ed5e",
   "metadata": {},
   "outputs": [
    {
     "name": "stdout",
     "output_type": "stream",
     "text": [
      "Writing notify/sender.codon\n"
     ]
    }
   ],
   "source": [
    "%%writefile tests/notify/sender.codon\n",
    "\n",
    "from chain.name import Name\n",
    "from chain.contract import Contract\n",
    "from chain.action import require_recipient\n",
    "\n",
    "@contract(main=True)\n",
    "class MyContract(Contract):\n",
    "\n",
    "    @action('sayhello')\n",
    "    def sayhello(self, receiver: Name):\n",
    "        print('hello, world')\n",
    "        require_recipient(receiver)"
   ]
  },
  {
   "cell_type": "code",
   "execution_count": 8,
   "id": "e32e3a2f",
   "metadata": {},
   "outputs": [
    {
     "name": "stdout",
     "output_type": "stream",
     "text": [
      "Writing notify/receiver.codon\n"
     ]
    }
   ],
   "source": [
    "%%writefile tests/notify/receiver.codon\n",
    "\n",
    "from chain.name import Name\n",
    "from chain.contract import Contract\n",
    "\n",
    "@contract(main=True)\n",
    "class MyContract(Contract):\n",
    "\n",
    "    @action('sayhello', notify=True)\n",
    "    def sayhello(self, receiver: Name):\n",
    "        assert not self.receiver == self.first_receiver\n",
    "        assert receiver == self.receiver\n",
    "        print('hello, world from notify')"
   ]
  },
  {
   "cell_type": "markdown",
   "id": "26408af6",
   "metadata": {},
   "source": [
    "Note that the definition of the `sayhello` function in `receiver.codon` is slightly different from that in `sender.codon`. The `notify=True` in the `action` decorator of the `sayhello` function in `receiver.codon` is used to specify that this action is used to receive notifications and can only be triggered by calling `require_recipient`.\n",
    "\n",
    "The following is the test code:"
   ]
  },
  {
   "cell_type": "code",
   "execution_count": 18,
   "id": "350a3b88",
   "metadata": {},
   "outputs": [
    {
     "name": "stdout",
     "output_type": "stream",
     "text": [
      "Overwriting test.py\n"
     ]
    }
   ],
   "source": [
    "%%writefile tests/test.py\n",
    "\n",
    "import os\n",
    "from ipyeos.chaintester import ChainTester\n",
    "\n",
    "from pscdk.tester import update_auth, logger\n",
    "\n",
    "def init_notify(dir_name=''):\n",
    "    t = ChainTester(True)\n",
    "    update_auth(t, 'hello')\n",
    "\n",
    "    wasm_file = os.path.join(dir_name, 'notify/sender.wasm')\n",
    "    with open(wasm_file, 'rb') as f:\n",
    "        code = f.read()\n",
    "    abi_file = os.path.join(dir_name, 'notify/sender.abi')\n",
    "    with open(abi_file, 'r') as f:\n",
    "        abi = f.read()\n",
    "    t.deploy_contract('hello', code, abi)\n",
    "    t.produce_block()\n",
    "\n",
    "    wasm_file = os.path.join(dir_name, 'notify/receiver.wasm')\n",
    "    with open(wasm_file, 'rb') as f:\n",
    "        code = f.read()\n",
    "    abi_file = os.path.join(dir_name, 'notify/receiver.abi')\n",
    "    with open(abi_file, 'r') as f:\n",
    "        abi = f.read()\n",
    "    t.deploy_contract('alice', code, abi)\n",
    "    t.produce_block()\n",
    "    return t\n",
    "\n",
    "def test_notify():\n",
    "    t = init_notify()\n",
    "    args = {'receiver': 'alice'}\n",
    "    ret = t.push_action('hello', 'sayhello', args, {'hello': 'active'})\n",
    "    t.produce_block()\n",
    "    logger.info(\"++++++++++%s\\n\", ret['elapsed'])"
   ]
  },
  {
   "cell_type": "markdown",
   "id": "7748add8",
   "metadata": {},
   "source": [
    "Compile:"
   ]
  },
  {
   "cell_type": "code",
   "execution_count": 10,
   "id": "59cf083c",
   "metadata": {},
   "outputs": [
    {
     "name": "stderr",
     "output_type": "stream",
     "text": [
      " class.cpp 249 +++++++class name: MyContract\n",
      " class.cpp 26 generating apply method for class MyContract\n",
      " class.cpp 53 +++++++fn.name: sayhello\n",
      " typecheck.cpp 76 +++++++ctx->cache->classRealizationCnt: 527\n",
      " compiler.cpp 149 Generating abi file: notify/receiver.abi\n",
      " llvisitor.cpp 495 ++++++++++executable dir:/Users/newworld/dev/github/codon/build\n"
     ]
    },
    {
     "name": "stdout",
     "output_type": "stream",
     "text": [
      "/Users/newworld/miniconda3/envs/chat/lib/python3.10/site-packages/pscdk/codon/bin/codon build --release  --march=wasm32 --linker-flags=\" -L/Users/newworld/miniconda3/envs/chat/lib/python3.10/site-packages/pscdk/codon/lib/codon -lcodonrt-wasm32 -L/Users/newworld/miniconda3/envs/chat/lib/python3.10/site-packages/pscdk/codon/lib -lc++ -lc\" notify/receiver.codon\n"
     ]
    },
    {
     "name": "stderr",
     "output_type": "stream",
     "text": [
      " class.cpp 249 +++++++class name: MyContract\n",
      " class.cpp 26 generating apply method for class MyContract\n",
      " class.cpp 53 +++++++fn.name: sayhello\n",
      " typecheck.cpp 76 +++++++ctx->cache->classRealizationCnt: 511\n",
      " compiler.cpp 149 Generating abi file: notify/sender.abi\n",
      " llvisitor.cpp 495 ++++++++++executable dir:/Users/newworld/dev/github/codon/build\n"
     ]
    },
    {
     "name": "stdout",
     "output_type": "stream",
     "text": [
      "/Users/newworld/miniconda3/envs/chat/lib/python3.10/site-packages/pscdk/codon/bin/codon build --release  --march=wasm32 --linker-flags=\" -L/Users/newworld/miniconda3/envs/chat/lib/python3.10/site-packages/pscdk/codon/lib/codon -lcodonrt-wasm32 -L/Users/newworld/miniconda3/envs/chat/lib/python3.10/site-packages/pscdk/codon/lib -lc++ -lc\" notify/sender.codon\n"
     ]
    }
   ],
   "source": [
    "%%bash\n",
    "python-contract build notify/receiver.codon\n",
    "python-contract build notify/sender.codon"
   ]
  },
  {
   "cell_type": "markdown",
   "id": "b096b847",
   "metadata": {},
   "source": [
    "Test:"
   ]
  },
  {
   "cell_type": "code",
   "execution_count": 19,
   "id": "75827b83",
   "metadata": {},
   "outputs": [
    {
     "name": "stdout",
     "output_type": "stream",
     "text": [
      "export CHAIN_API_LIB=/Users/newworld/miniconda3/envs/chat/lib/python3.10/site-packages/ipyeos/release/lib/libchain_api.dylib\n",
      "export VM_API_LIB=/Users/newworld/miniconda3/envs/chat/lib/python3.10/site-packages/ipyeos/release/lib/libvm_api.dylib\n",
      "export PYTHON_SHARED_LIB_PATH=/Users/newworld/miniconda3/envs/chat/lib/libpython3.10.dylib\n",
      "/Users/newworld/miniconda3/envs/chat/lib/python3.10/site-packages/ipyeos/release/bin/ipyeos -m pytest -s -x test.py -k test_notify\n",
      "\u001b[1m============================= test session starts ==============================\u001b[0m\n",
      "platform darwin -- Python 3.10.8, pytest-7.2.0, pluggy-1.0.0\n",
      "benchmark: 4.0.0 (defaults: timer=time.perf_counter disable_gc=False min_rounds=5 min_time=0.000005 max_time=1.0 calibration_precision=10 warmup=False warmup_iterations=100000)\n",
      "rootdir: /Users/newworld/dev/github/pscdk-book/notebook\n",
      "plugins: asyncio-0.20.3, integration-0.2.3, dash-2.9.3, mock-3.10.0, cov-4.0.0, anyio-3.6.2, benchmark-4.0.0\n",
      "asyncio: mode=strict\n",
      "collected 1 item                                                               \u001b[0m\n",
      "\n",
      "test.py \u001b[0minfo  2023-05-12T08:17:17.822 thread-0  chain_manager.cpp:117         operator()           ] Support for builtin protocol feature 'GET_BLOCK_NUM' (with digest of '35c2186cc36f7bb4aeaf4487b36e57039ccf45a9136aa856a5d569ecca55ef2b') is enabled with preactivation required\u001b[0m\n",
      "\u001b[0minfo  2023-05-12T08:17:17.823 thread-0  chain_manager.cpp:227         operator()           ] Saved default specification for builtin protocol feature 'GET_BLOCK_NUM' (with digest of '35c2186cc36f7bb4aeaf4487b36e57039ccf45a9136aa856a5d569ecca55ef2b') to: /var/folders/pv/678xdw3s56xggsvz36r65kzr0000gp/T/tmpfzs16uzw/protocol_features/BUILTIN-GET_BLOCK_NUM.json\u001b[0m\n",
      "\u001b[0minfo  2023-05-12T08:17:17.823 thread-0  chain_manager.cpp:117         operator()           ] Support for builtin protocol feature 'CRYPTO_PRIMITIVES' (with digest of '6bcb40a24e49c26d0a60513b6aeb8551d264e4717f306b81a37a5afb3b47cedc') is enabled with preactivation required\u001b[0m\n",
      "\u001b[0minfo  2023-05-12T08:17:17.823 thread-0  chain_manager.cpp:227         operator()           ] Saved default specification for builtin protocol feature 'CRYPTO_PRIMITIVES' (with digest of '6bcb40a24e49c26d0a60513b6aeb8551d264e4717f306b81a37a5afb3b47cedc') to: /var/folders/pv/678xdw3s56xggsvz36r65kzr0000gp/T/tmpfzs16uzw/protocol_features/BUILTIN-CRYPTO_PRIMITIVES.json\u001b[0m\n",
      "\u001b[0minfo  2023-05-12T08:17:17.823 thread-0  chain_manager.cpp:117         operator()           ] Support for builtin protocol feature 'GET_CODE_HASH' (with digest of 'bcd2a26394b36614fd4894241d3c451ab0f6fd110958c3423073621a70826e99') is enabled with preactivation required\u001b[0m\n",
      "\u001b[0minfo  2023-05-12T08:17:17.824 thread-0  chain_manager.cpp:227         operator()           ] Saved default specification for builtin protocol feature 'GET_CODE_HASH' (with digest of 'bcd2a26394b36614fd4894241d3c451ab0f6fd110958c3423073621a70826e99') to: /var/folders/pv/678xdw3s56xggsvz36r65kzr0000gp/T/tmpfzs16uzw/protocol_features/BUILTIN-GET_CODE_HASH.json\u001b[0m\n",
      "\u001b[0minfo  2023-05-12T08:17:17.824 thread-0  chain_manager.cpp:117         operator()           ] Support for builtin protocol feature 'BLOCKCHAIN_PARAMETERS' (with digest of '5443fcf88330c586bc0e5f3dee10e7f63c76c00249c87fe4fbf7f38c082006b4') is enabled with preactivation required\u001b[0m\n",
      "\u001b[0minfo  2023-05-12T08:17:17.824 thread-0  chain_manager.cpp:227         operator()           ] Saved default specification for builtin protocol feature 'BLOCKCHAIN_PARAMETERS' (with digest of '5443fcf88330c586bc0e5f3dee10e7f63c76c00249c87fe4fbf7f38c082006b4') to: /var/folders/pv/678xdw3s56xggsvz36r65kzr0000gp/T/tmpfzs16uzw/protocol_features/BUILTIN-BLOCKCHAIN_PARAMETERS.json\u001b[0m\n",
      "\u001b[0minfo  2023-05-12T08:17:17.824 thread-0  chain_manager.cpp:117         operator()           ] Support for builtin protocol feature 'CONFIGURABLE_WASM_LIMITS2' (with digest of 'd528b9f6e9693f45ed277af93474fd473ce7d831dae2180cca35d907bd10cb40') is enabled with preactivation required\u001b[0m\n",
      "\u001b[0minfo  2023-05-12T08:17:17.825 thread-0  chain_manager.cpp:227         operator()           ] Saved default specification for builtin protocol feature 'CONFIGURABLE_WASM_LIMITS2' (with digest of 'd528b9f6e9693f45ed277af93474fd473ce7d831dae2180cca35d907bd10cb40') to: /var/folders/pv/678xdw3s56xggsvz36r65kzr0000gp/T/tmpfzs16uzw/protocol_features/BUILTIN-CONFIGURABLE_WASM_LIMITS2.json\u001b[0m\n",
      "\u001b[0minfo  2023-05-12T08:17:17.825 thread-0  chain_manager.cpp:117         operator()           ] Support for builtin protocol feature 'ACTION_RETURN_VALUE' (with digest of 'c3a6138c5061cf291310887c0b5c71fcaffeab90d5deb50d3b9e687cead45071') is enabled with preactivation required\u001b[0m\n",
      "\u001b[0minfo  2023-05-12T08:17:17.825 thread-0  chain_manager.cpp:227         operator()           ] Saved default specification for builtin protocol feature 'ACTION_RETURN_VALUE' (with digest of 'c3a6138c5061cf291310887c0b5c71fcaffeab90d5deb50d3b9e687cead45071') to: /var/folders/pv/678xdw3s56xggsvz36r65kzr0000gp/T/tmpfzs16uzw/protocol_features/BUILTIN-ACTION_RETURN_VALUE.json\u001b[0m\n",
      "\u001b[0minfo  2023-05-12T08:17:17.825 thread-0  chain_manager.cpp:117         operator()           ] Support for builtin protocol feature 'WTMSIG_BLOCK_SIGNATURES' (with digest of '299dcb6af692324b899b39f16d5a530a33062804e41f09dc97e9f156b4476707') is enabled with preactivation required\u001b[0m\n",
      "\u001b[0minfo  2023-05-12T08:17:17.826 thread-0  chain_manager.cpp:227         operator()           ] Saved default specification for builtin protocol feature 'WTMSIG_BLOCK_SIGNATURES' (with digest of '299dcb6af692324b899b39f16d5a530a33062804e41f09dc97e9f156b4476707') to: /var/folders/pv/678xdw3s56xggsvz36r65kzr0000gp/T/tmpfzs16uzw/protocol_features/BUILTIN-WTMSIG_BLOCK_SIGNATURES.json\u001b[0m\n",
      "\u001b[0minfo  2023-05-12T08:17:17.826 thread-0  chain_manager.cpp:117         operator()           ] Support for builtin protocol feature 'WEBAUTHN_KEY' (with digest of '4fca8bd82bbd181e714e283f83e1b45d95ca5af40fb89ad3977b653c448f78c2') is enabled with preactivation required\u001b[0m\n",
      "\u001b[0minfo  2023-05-12T08:17:17.827 thread-0  chain_manager.cpp:227         operator()           ] Saved default specification for builtin protocol feature 'WEBAUTHN_KEY' (with digest of '4fca8bd82bbd181e714e283f83e1b45d95ca5af40fb89ad3977b653c448f78c2') to: /var/folders/pv/678xdw3s56xggsvz36r65kzr0000gp/T/tmpfzs16uzw/protocol_features/BUILTIN-WEBAUTHN_KEY.json\u001b[0m\n",
      "\u001b[0minfo  2023-05-12T08:17:17.827 thread-0  chain_manager.cpp:117         operator()           ] Support for builtin protocol feature 'RAM_RESTRICTIONS' (with digest of '4e7bf348da00a945489b2a681749eb56f5de00b900014e137ddae39f48f69d67') is enabled with preactivation required\u001b[0m\n",
      "\u001b[0minfo  2023-05-12T08:17:17.831 thread-0  chain_manager.cpp:227         operator()           ] Saved default specification for builtin protocol feature 'RAM_RESTRICTIONS' (with digest of '4e7bf348da00a945489b2a681749eb56f5de00b900014e137ddae39f48f69d67') to: /var/folders/pv/678xdw3s56xggsvz36r65kzr0000gp/T/tmpfzs16uzw/protocol_features/BUILTIN-RAM_RESTRICTIONS.json\u001b[0m\n",
      "\u001b[0minfo  2023-05-12T08:17:17.831 thread-0  chain_manager.cpp:117         operator()           ] Support for builtin protocol feature 'GET_SENDER' (with digest of 'f0af56d2c5a48d60a4a5b5c903edfb7db3a736a94ed589d0b797df33ff9d3e1d') is enabled with preactivation required\u001b[0m\n",
      "\u001b[0minfo  2023-05-12T08:17:17.832 thread-0  chain_manager.cpp:227         operator()           ] Saved default specification for builtin protocol feature 'GET_SENDER' (with digest of 'f0af56d2c5a48d60a4a5b5c903edfb7db3a736a94ed589d0b797df33ff9d3e1d') to: /var/folders/pv/678xdw3s56xggsvz36r65kzr0000gp/T/tmpfzs16uzw/protocol_features/BUILTIN-GET_SENDER.json\u001b[0m\n",
      "\u001b[0minfo  2023-05-12T08:17:17.832 thread-0  chain_manager.cpp:117         operator()           ] Support for builtin protocol feature 'FORWARD_SETCODE' (with digest of '2652f5f96006294109b3dd0bbde63693f55324af452b799ee137a81a905eed25') is enabled with preactivation required\u001b[0m\n",
      "\u001b[0minfo  2023-05-12T08:17:17.833 thread-0  chain_manager.cpp:227         operator()           ] Saved default specification for builtin protocol feature 'FORWARD_SETCODE' (with digest of '2652f5f96006294109b3dd0bbde63693f55324af452b799ee137a81a905eed25') to: /var/folders/pv/678xdw3s56xggsvz36r65kzr0000gp/T/tmpfzs16uzw/protocol_features/BUILTIN-FORWARD_SETCODE.json\u001b[0m\n",
      "\u001b[0minfo  2023-05-12T08:17:17.833 thread-0  chain_manager.cpp:117         operator()           ] Support for builtin protocol feature 'ONLY_BILL_FIRST_AUTHORIZER' (with digest of '8ba52fe7a3956c5cd3a656a3174b931d3bb2abb45578befc59f283ecd816a405') is enabled with preactivation required\u001b[0m\n",
      "\u001b[0minfo  2023-05-12T08:17:17.833 thread-0  chain_manager.cpp:227         operator()           ] Saved default specification for builtin protocol feature 'ONLY_BILL_FIRST_AUTHORIZER' (with digest of '8ba52fe7a3956c5cd3a656a3174b931d3bb2abb45578befc59f283ecd816a405') to: /var/folders/pv/678xdw3s56xggsvz36r65kzr0000gp/T/tmpfzs16uzw/protocol_features/BUILTIN-ONLY_BILL_FIRST_AUTHORIZER.json\u001b[0m\n",
      "\u001b[0minfo  2023-05-12T08:17:17.833 thread-0  chain_manager.cpp:117         operator()           ] Support for builtin protocol feature 'RESTRICT_ACTION_TO_SELF' (with digest of 'ad9e3d8f650687709fd68f4b90b41f7d825a365b02c23a636cef88ac2ac00c43') is enabled with preactivation required\u001b[0m\n",
      "\u001b[0minfo  2023-05-12T08:17:17.834 thread-0  chain_manager.cpp:227         operator()           ] Saved default specification for builtin protocol feature 'RESTRICT_ACTION_TO_SELF' (with digest of 'ad9e3d8f650687709fd68f4b90b41f7d825a365b02c23a636cef88ac2ac00c43') to: /var/folders/pv/678xdw3s56xggsvz36r65kzr0000gp/T/tmpfzs16uzw/protocol_features/BUILTIN-RESTRICT_ACTION_TO_SELF.json\u001b[0m\n",
      "\u001b[0minfo  2023-05-12T08:17:17.834 thread-0  chain_manager.cpp:117         operator()           ] Support for builtin protocol feature 'DISALLOW_EMPTY_PRODUCER_SCHEDULE' (with digest of '68dcaa34c0517d19666e6b33add67351d8c5f69e999ca1e37931bc410a297428') is enabled with preactivation required\u001b[0m\n",
      "\u001b[0minfo  2023-05-12T08:17:17.834 thread-0  chain_manager.cpp:227         operator()           ] Saved default specification for builtin protocol feature 'DISALLOW_EMPTY_PRODUCER_SCHEDULE' (with digest of '68dcaa34c0517d19666e6b33add67351d8c5f69e999ca1e37931bc410a297428') to: /var/folders/pv/678xdw3s56xggsvz36r65kzr0000gp/T/tmpfzs16uzw/protocol_features/BUILTIN-DISALLOW_EMPTY_PRODUCER_SCHEDULE.json\u001b[0m\n",
      "\u001b[0minfo  2023-05-12T08:17:17.835 thread-0  chain_manager.cpp:117         operator()           ] Support for builtin protocol feature 'FIX_LINKAUTH_RESTRICTION' (with digest of 'e0fb64b1085cc5538970158d05a009c24e276fb94e1a0bf6a528b48fbc4ff526') is enabled with preactivation required\u001b[0m\n",
      "\u001b[0minfo  2023-05-12T08:17:17.835 thread-0  chain_manager.cpp:227         operator()           ] Saved default specification for builtin protocol feature 'FIX_LINKAUTH_RESTRICTION' (with digest of 'e0fb64b1085cc5538970158d05a009c24e276fb94e1a0bf6a528b48fbc4ff526') to: /var/folders/pv/678xdw3s56xggsvz36r65kzr0000gp/T/tmpfzs16uzw/protocol_features/BUILTIN-FIX_LINKAUTH_RESTRICTION.json\u001b[0m\n",
      "\u001b[0minfo  2023-05-12T08:17:17.835 thread-0  chain_manager.cpp:117         operator()           ] Support for builtin protocol feature 'REPLACE_DEFERRED' (with digest of 'ef43112c6543b88db2283a2e077278c315ae2c84719a8b25f25cc88565fbea99') is enabled with preactivation required\u001b[0m\n",
      "\u001b[0minfo  2023-05-12T08:17:17.835 thread-0  chain_manager.cpp:227         operator()           ] Saved default specification for builtin protocol feature 'REPLACE_DEFERRED' (with digest of 'ef43112c6543b88db2283a2e077278c315ae2c84719a8b25f25cc88565fbea99') to: /var/folders/pv/678xdw3s56xggsvz36r65kzr0000gp/T/tmpfzs16uzw/protocol_features/BUILTIN-REPLACE_DEFERRED.json\u001b[0m\n",
      "\u001b[0minfo  2023-05-12T08:17:17.835 thread-0  chain_manager.cpp:117         operator()           ] Support for builtin protocol feature 'NO_DUPLICATE_DEFERRED_ID' (with digest of '4a90c00d55454dc5b059055ca213579c6ea856967712a56017487886a4d4cc0f') is enabled with preactivation required\u001b[0m\n",
      "\u001b[0minfo  2023-05-12T08:17:17.836 thread-0  chain_manager.cpp:227         operator()           ] Saved default specification for builtin protocol feature 'NO_DUPLICATE_DEFERRED_ID' (with digest of '4a90c00d55454dc5b059055ca213579c6ea856967712a56017487886a4d4cc0f') to: /var/folders/pv/678xdw3s56xggsvz36r65kzr0000gp/T/tmpfzs16uzw/protocol_features/BUILTIN-NO_DUPLICATE_DEFERRED_ID.json\u001b[0m\n",
      "\u001b[0minfo  2023-05-12T08:17:17.836 thread-0  chain_manager.cpp:117         operator()           ] Support for builtin protocol feature 'ONLY_LINK_TO_EXISTING_PERMISSION' (with digest of '1a99a59d87e06e09ec5b028a9cbb7749b4a5ad8819004365d02dc4379a8b7241') is enabled with preactivation required\u001b[0m\n",
      "\u001b[0minfo  2023-05-12T08:17:17.836 thread-0  chain_manager.cpp:227         operator()           ] Saved default specification for builtin protocol feature 'ONLY_LINK_TO_EXISTING_PERMISSION' (with digest of '1a99a59d87e06e09ec5b028a9cbb7749b4a5ad8819004365d02dc4379a8b7241') to: /var/folders/pv/678xdw3s56xggsvz36r65kzr0000gp/T/tmpfzs16uzw/protocol_features/BUILTIN-ONLY_LINK_TO_EXISTING_PERMISSION.json\u001b[0m\n",
      "\u001b[0minfo  2023-05-12T08:17:17.836 thread-0  chain_manager.cpp:130         operator()           ] Support for builtin protocol feature 'PREACTIVATE_FEATURE' (with digest of '0ec7e080177b2c02b278d5088611686b49d739925a92d9bfcacd7fc6b74053bd') is enabled without activation restrictions\u001b[0m\n",
      "\u001b[0minfo  2023-05-12T08:17:17.836 thread-0  chain_manager.cpp:227         operator()           ] Saved default specification for builtin protocol feature 'PREACTIVATE_FEATURE' (with digest of '0ec7e080177b2c02b278d5088611686b49d739925a92d9bfcacd7fc6b74053bd') to: /var/folders/pv/678xdw3s56xggsvz36r65kzr0000gp/T/tmpfzs16uzw/protocol_features/BUILTIN-PREACTIVATE_FEATURE.json\u001b[0m\n"
     ]
    },
    {
     "name": "stdout",
     "output_type": "stream",
     "text": [
      "\u001b[0minfo  2023-05-12T08:17:18.323 thread-0  platform_timer_accurac:62     compute_and_print_ti ] Checktime timer accuracy: min:4us max:366us mean:22us stddev:13us\u001b[0m\n",
      "\u001b[33mwarn  2023-05-12T08:17:18.329 thread-0  controller.cpp:605            startup              ] No existing chain state or fork database. Initializing fresh blockchain state and resetting fork database.\u001b[0m\n",
      "\u001b[33mwarn  2023-05-12T08:17:18.329 thread-0  controller.cpp:457            initialize_blockchai ] Initializing new blockchain with genesis state\u001b[0m\n",
      "\u001b[0minfo  2023-05-12T08:17:18.338 thread-0  controller.cpp:530            replay               ] no irreversible blocks need to be replayed\u001b[0m\n",
      "\u001b[0minfo  2023-05-12T08:17:18.338 thread-0  controller.cpp:553            replay               ] replayed 0 blocks in 0 seconds, 0.00000000000954606 ms/block\u001b[0m\n",
      "\u001b[32mdebug 2023-05-12T08:17:18.339 thread-0  controller.cpp:2444           clear_expired_input_ ] removed 0 expired transactions of the 0 input dedup list, pending block time 2018-06-01T12:00:00.500\u001b[0m\n",
      "\u001b[32mdebug 2023-05-12T08:17:18.395 thread-0  controller.cpp:2444           clear_expired_input_ ] removed 0 expired transactions of the 20 input dedup list, pending block time 2018-06-01T12:00:01.000\u001b[0m\n",
      "\u001b[32mdebug 2023-05-12T08:17:18.425 thread-0  controller.cpp:2444           clear_expired_input_ ] removed 0 expired transactions of the 38 input dedup list, pending block time 2018-06-01T12:00:01.500\u001b[0m\n",
      "\u001b[32mdebug 2023-05-12T08:17:18.599 thread-0  controller.cpp:2444           clear_expired_input_ ] removed 0 expired transactions of the 39 input dedup list, pending block time 2018-06-01T12:00:02.000\u001b[0m\n",
      "\u001b[32mdebug 2023-05-12T08:17:18.619 thread-0  controller.cpp:2444           clear_expired_input_ ] removed 0 expired transactions of the 41 input dedup list, pending block time 2018-06-01T12:00:02.500\u001b[0m\n",
      "\u001b[32mdebug 2023-05-12T08:17:18.632 thread-0  controller.cpp:2444           clear_expired_input_ ] removed 0 expired transactions of the 47 input dedup list, pending block time 2018-06-01T12:00:03.000\u001b[0m\n",
      "\u001b[32mdebug 2023-05-12T08:17:18.639 thread-0  controller.cpp:2444           clear_expired_input_ ] removed 0 expired transactions of the 49 input dedup list, pending block time 2018-06-01T12:00:03.500\u001b[0m\n",
      "\u001b[32mdebug 2023-05-12T08:17:18.644 thread-0  controller.cpp:2444           clear_expired_input_ ] removed 0 expired transactions of the 50 input dedup list, pending block time 2018-06-01T12:00:04.000\u001b[0m\n",
      "\u001b[32mdebug 2023-05-12T08:17:18.645 thread-0  apply_context.cpp:30          print_debug          ] \n",
      "[(hello,sayhello)->hello]: CONSOLE OUTPUT BEGIN =====================\n",
      "hello, world\n",
      "\n",
      "[(hello,sayhello)->hello]: CONSOLE OUTPUT END   =====================\u001b[0m\n",
      "\u001b[32mdebug 2023-05-12T08:17:18.646 thread-0  apply_context.cpp:30          print_debug          ] \n",
      "[(hello,sayhello)->alice]: CONSOLE OUTPUT BEGIN =====================\n",
      "hello, world from notify\n",
      "\n",
      "[(hello,sayhello)->alice]: CONSOLE OUTPUT END   =====================\u001b[0m\n",
      "\u001b[32mdebug 2023-05-12T08:17:18.646 thread-0  controller.cpp:2444           clear_expired_input_ ] removed 0 expired transactions of the 51 input dedup list, pending block time 2018-06-01T12:00:04.500\u001b[0m\n",
      "\u001b[32m.\u001b[0m\n",
      "\n",
      "\u001b[32m============================== \u001b[32m\u001b[1m1 passed\u001b[0m\u001b[32m in 1.13s\u001b[0m\u001b[32m ===============================\u001b[0m\n"
     ]
    }
   ],
   "source": [
    "!ipyeos -m pytest -s -x tests/test.py -k test_notify"
   ]
  },
  {
   "cell_type": "markdown",
   "id": "f323677a",
   "metadata": {},
   "source": [
    "Output:\n",
    "\n",
    "```\n",
    "[(hello,sayhello)->hello]: CONSOLE OUTPUT BEGIN =====================\n",
    "hello, world\n",
    "\n",
    "[(hello,sayhello)->hello]: CONSOLE OUTPUT END   =====================\n",
    "debug 2023-03-28T13:08:01.110 thread-0  apply_context.cpp:30          print_debug          ] \n",
    "[(hello,sayhello)->alice]: CONSOLE OUTPUT BEGIN =====================\n",
    "hello, world from notify\n",
    "\n",
    "[(hello,sayhello)->alice]: CONSOLE OUTPUT END   =====================\n",
    "```"
   ]
  }
 ],
 "metadata": {
  "kernelspec": {
   "display_name": "Python 3 (ipykernel)",
   "language": "python",
   "name": "python3"
  },
  "language_info": {
   "codemirror_mode": {
    "name": "ipython",
    "version": 3
   },
   "file_extension": ".py",
   "mimetype": "text/x-python",
   "name": "python",
   "nbconvert_exporter": "python",
   "pygments_lexer": "ipython3",
   "version": "3.10.8"
  }
 },
 "nbformat": 4,
 "nbformat_minor": 5
}
