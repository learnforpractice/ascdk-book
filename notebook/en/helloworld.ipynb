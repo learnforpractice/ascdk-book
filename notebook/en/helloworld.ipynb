{
 "cells": [
  {
   "cell_type": "markdown",
   "id": "70096b27",
   "metadata": {},
   "source": [
    "\n",
    "# HelloWorld\n",
    "\n",
    "## The First Smart Contract\n",
    "\n",
    "The following code shows the simplest smart contract and its testing code:"
   ]
  },
  {
   "cell_type": "code",
   "execution_count": null,
   "id": "1ee6041c",
   "metadata": {},
   "outputs": [],
   "source": [
    "!mkdir -p tests"
   ]
  },
  {
   "cell_type": "code",
   "execution_count": null,
   "id": "9f34d91c",
   "metadata": {},
   "outputs": [],
   "source": [
    "%%writefile tests/helloworld.codon\n",
    "\n",
    "from chain.contract import Contract\n",
    "\n",
    "@contract(main=True)\n",
    "class MyContract(Contract):\n",
    "\n",
    "    def __init__(self):\n",
    "        super().__init__()\n",
    "\n",
    "    @action('sayhello')\n",
    "    def say_hello(self):\n",
    "        print(\"Hello, World!\")\n",
    "print('abc')"
   ]
  },
  {
   "cell_type": "markdown",
   "id": "ec7fa629",
   "metadata": {},
   "source": [
    "Testing code:"
   ]
  },
  {
   "cell_type": "code",
   "execution_count": null,
   "id": "b4a25358",
   "metadata": {},
   "outputs": [],
   "source": [
    "%%writefile tests/testhelloworld.py\n",
    "\n",
    "import os\n",
    "from ipyeos import chaintester\n",
    "from ipyeos.chaintester import ChainTester\n",
    "from ipyeos import log\n",
    "\n",
    "chaintester.chain_config['contracts_console'] = True\n",
    "\n",
    "logger = log.get_logger(__name__)\n",
    "\n",
    "dir_name = os.path.dirname(os.path.abspath(__file__))\n",
    "\n",
    "def init_test(contract_name):\n",
    "    t = ChainTester(True)\n",
    "    wasm_file = os.path.join(dir_name, f'{contract_name}.wasm')\n",
    "    with open(wasm_file, 'rb') as f:\n",
    "        code = f.read()\n",
    "\n",
    "    abi_file = os.path.join(dir_name, f'{contract_name}.abi')\n",
    "    with open(abi_file, 'r') as f:\n",
    "        abi = f.read()\n",
    "\n",
    "    t.deploy_contract('hello', code, abi)\n",
    "    t.produce_block()\n",
    "    return t\n",
    "\n",
    "def test():\n",
    "    t = init_test('helloworld')\n",
    "    ret = t.push_action('hello', 'sayhello', \"\", {'hello': 'active'})\n",
    "    t.produce_block()\n",
    "    logger.info(\"++++++++++%s\\n\", ret['elapsed'])"
   ]
  },
  {
   "cell_type": "markdown",
   "id": "e9831ded",
   "metadata": {},
   "source": [
    "Compile:"
   ]
  },
  {
   "cell_type": "code",
   "execution_count": null,
   "id": "dc2ffcfd",
   "metadata": {},
   "outputs": [],
   "source": [
    "!python-contract build tests/helloworld.codon"
   ]
  },
  {
   "cell_type": "markdown",
   "id": "43d4b25a",
   "metadata": {},
   "source": [
    "To run the test code:"
   ]
  },
  {
   "cell_type": "code",
   "execution_count": null,
   "id": "b5fc6206",
   "metadata": {},
   "outputs": [],
   "source": [
    "!ipyeos -m pytest -s -x tests/testhelloworld.py -k test"
   ]
  },
  {
   "cell_type": "markdown",
   "id": "2d0acd91",
   "metadata": {},
   "source": [
    "Output:"
   ]
  },
  {
   "cell_type": "code",
   "execution_count": null,
   "id": "e708474f",
   "metadata": {},
   "outputs": [],
   "source": [
    "Hello, World!"
   ]
  },
  {
   "cell_type": "markdown",
   "id": "9762b0fa",
   "metadata": {},
   "source": [
    "## Create an Initial Project\n",
    "\n",
    "You can create an initial project using the `python-contract init` command. For example, the following code creates an initial project named `mycontract`:"
   ]
  },
  {
   "cell_type": "code",
   "execution_count": null,
   "id": "a30b4389",
   "metadata": {},
   "outputs": [],
   "source": [
    "!python-contract init mycontract"
   ]
  },
  {
   "cell_type": "markdown",
   "id": "4e9a7d8d",
   "metadata": {},
   "source": [
    "After creating the project, you can compile the contract using the following command:"
   ]
  },
  {
   "cell_type": "code",
   "execution_count": null,
   "id": "56bedc2f",
   "metadata": {},
   "outputs": [],
   "source": [
    "%cd mycontract\n",
    "!./build.sh"
   ]
  },
  {
   "cell_type": "markdown",
   "id": "d4bf8a39",
   "metadata": {},
   "source": [
    "After a successful execution, `mycontract.wasm` and `mycontract.abi` files will be generated.\n",
    "\n",
    "You can run the following command for testing:"
   ]
  },
  {
   "cell_type": "code",
   "execution_count": null,
   "id": "5da538b7",
   "metadata": {},
   "outputs": [],
   "source": [
    "!./test.sh"
   ]
  },
  {
   "cell_type": "markdown",
   "id": "7ef2852e",
   "metadata": {},
   "source": [
    "The following information will be output:"
   ]
  },
  {
   "cell_type": "markdown",
   "id": "ba6fa4cb",
   "metadata": {},
   "source": [
    "[(hello,sayhello)->hello]: CONSOLE OUTPUT BEGIN =====================\n",
    "hello  alice\n",
    "\n",
    "[(hello,sayhello)->hello]: CONSOLE OUTPUT END   ====================="
   ]
  },
  {
   "cell_type": "markdown",
   "id": "b7f74839",
   "metadata": {},
   "source": [
    "After confirming that the test was successful, you can proceed with smart contract development based on this existing project."
   ]
  }
 ],
 "metadata": {
  "kernelspec": {
   "display_name": "Python 3 (ipykernel)",
   "language": "python",
   "name": "python3"
  },
  "language_info": {
   "codemirror_mode": {
    "name": "ipython",
    "version": 3
   },
   "file_extension": ".py",
   "mimetype": "text/x-python",
   "name": "python",
   "nbconvert_exporter": "python",
   "pygments_lexer": "ipython3",
   "version": "3.10.8"
  }
 },
 "nbformat": 4,
 "nbformat_minor": 5
}
