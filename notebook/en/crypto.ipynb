{
 "cells": [
  {
   "cell_type": "markdown",
   "id": "18fcfd96",
   "metadata": {},
   "source": [
    "\n",
    "# Cryptographic functions\n",
    "\n",
    "Cryptographic functions are defined in `crypto.codon`. They can be imported like the following code:"
   ]
  },
  {
   "cell_type": "markdown",
   "id": "45ea65ef",
   "metadata": {},
   "source": [
    "```python\n",
    "from chain.crypto import sha256\n",
    "```"
   ]
  },
  {
   "cell_type": "markdown",
   "id": "5713b765",
   "metadata": {},
   "source": [
    "Or just import the `crypto` module:"
   ]
  },
  {
   "cell_type": "code",
   "execution_count": null,
   "id": "fedb5ff1",
   "metadata": {},
   "outputs": [],
   "source": [
    "```python\n",
    "from chain import crypto"
   ]
  },
  {
   "cell_type": "markdown",
   "id": "ead67e23",
   "metadata": {},
   "source": [
    "Then, call internal functions such as `crypto.sha256` using the appropriate format.\n",
    "\n",
    "## sha256\n",
    "\n",
    "Hash function using the sha256 algorithm:"
   ]
  },
  {
   "cell_type": "code",
   "execution_count": null,
   "id": "99727ab5",
   "metadata": {},
   "outputs": [],
   "source": [
    "```python\n",
    "def sha256(data: bytes) -> Checksum256:"
   ]
  },
  {
   "cell_type": "markdown",
   "id": "6f8d7806",
   "metadata": {},
   "source": [
    "Used for checking if the hash256 value is correct. If not, an exception will be raised:"
   ]
  },
  {
   "cell_type": "code",
   "execution_count": null,
   "id": "df73e546",
   "metadata": {},
   "outputs": [],
   "source": [
    "```python\n",
    "def assert_sha256(data: bytes, hash: Checksum256):"
   ]
  },
  {
   "cell_type": "markdown",
   "id": "61025b53",
   "metadata": {},
   "source": [
    "## sha1\n",
    "\n",
    "Hash function using the sha1 algorithm:"
   ]
  },
  {
   "cell_type": "code",
   "execution_count": null,
   "id": "71a67c8d",
   "metadata": {},
   "outputs": [],
   "source": [
    "```python\n",
    "def sha1(data: bytes) -> Checksum160:"
   ]
  },
  {
   "cell_type": "markdown",
   "id": "3d7046c9",
   "metadata": {},
   "source": [
    "Used for checking if the sha1 hash value is correct. If not, an exception will be raised:"
   ]
  },
  {
   "cell_type": "code",
   "execution_count": null,
   "id": "96284709",
   "metadata": {},
   "outputs": [],
   "source": [
    "```python\n",
    "def assert_sha1(data: bytes, hash: Checksum160):"
   ]
  },
  {
   "cell_type": "markdown",
   "id": "2d2680d6",
   "metadata": {},
   "source": [
    "## sha512\n",
    "\n",
    "Hash function using the sha512 algorithm:"
   ]
  },
  {
   "cell_type": "code",
   "execution_count": null,
   "id": "1781de21",
   "metadata": {},
   "outputs": [],
   "source": [
    "```python\n",
    "def sha512(data: bytes) -> Checksum512:"
   ]
  },
  {
   "cell_type": "markdown",
   "id": "f82162e7",
   "metadata": {},
   "source": [
    "Used for checking if the hash512 value is correct. If not, an exception will be raised:"
   ]
  },
  {
   "cell_type": "code",
   "execution_count": null,
   "id": "8a0e7b20",
   "metadata": {},
   "outputs": [],
   "source": [
    "```python\n",
    "def assert_sha512(data: bytes, hash: Checksum512):"
   ]
  },
  {
   "cell_type": "markdown",
   "id": "23ee79e5",
   "metadata": {},
   "source": [
    "## ripemd160\n",
    "\n",
    "Hash function using the ripemd160 algorithm:"
   ]
  },
  {
   "cell_type": "code",
   "execution_count": null,
   "id": "13bfde77",
   "metadata": {},
   "outputs": [],
   "source": [
    "```python\n",
    "def ripemd160(data: bytes) -> Checksum160:"
   ]
  },
  {
   "cell_type": "markdown",
   "id": "ff0a2232",
   "metadata": {},
   "source": [
    "Used for checking if the ripemd160 algorithm hash value is correct. If not, an exception will be raised:"
   ]
  },
  {
   "cell_type": "code",
   "execution_count": null,
   "id": "38f6e406",
   "metadata": {},
   "outputs": [],
   "source": [
    "```python\n",
    "def assert_ripemd160(data: bytes, hash: Checksum160):"
   ]
  },
  {
   "cell_type": "markdown",
   "id": "1cb50da2",
   "metadata": {},
   "source": [
    "## recover_key\n",
    "\n",
    "Used to recover the public key from digest and signature:"
   ]
  },
  {
   "cell_type": "code",
   "execution_count": null,
   "id": "09e3ebbe",
   "metadata": {},
   "outputs": [],
   "source": [
    "```python\n",
    "def recover_key(digest: Checksum256, sig: Signature) -> PublicKey:"
   ]
  },
  {
   "cell_type": "markdown",
   "id": "2a1ed389",
   "metadata": {},
   "source": [
    "Checks if the signature is correct. If not, an exception will be raised:"
   ]
  },
  {
   "cell_type": "code",
   "execution_count": null,
   "id": "c8eb6456",
   "metadata": {},
   "outputs": [],
   "source": [
    "```python\n",
    "def assert_recover_key(digest: Checksum256, sig: Signature, pub: PublicKey):"
   ]
  },
  {
   "cell_type": "markdown",
   "id": "a6c7abf1",
   "metadata": {},
   "source": [
    "## Example:"
   ]
  },
  {
   "cell_type": "code",
   "execution_count": null,
   "id": "e6010659",
   "metadata": {},
   "outputs": [],
   "source": [
    "!mkdir -p tests"
   ]
  },
  {
   "cell_type": "code",
   "execution_count": null,
   "id": "46388c1b",
   "metadata": {},
   "outputs": [],
   "source": [
    "%%writefile tests/crypto_example.codon\n",
    "from chain.contract import Contract\n",
    "from chain.crypto import sha256, assert_sha256, sha512, assert_sha512, sha1, assert_sha1, ripemd160, assert_ripemd160\n",
    "from chain.crypto import recover_key, assert_recover_key\n",
    "from chain.crypto import Signature, Checksum256, PublicKey\n",
    "\n",
    "@contract(main=True)\n",
    "class MyContract(Contract):\n",
    "\n",
    "    def __init__(self):\n",
    "        super().__init__()\n",
    "\n",
    "    @action('testcrypto')\n",
    "    def test_crypto(self):\n",
    "        assert_sha256(b\"hello\", sha256(b\"hello\"))\n",
    "        assert_sha1(b\"hello\", sha1(b\"hello\"))\n",
    "        assert_sha512(b\"hello\", sha512(b\"hello\"))\n",
    "        assert_ripemd160(b\"hello\", ripemd160(b\"hello\"))\n",
    "\n",
    "    @action('testrecover')\n",
    "    def test_recover(self, msg: bytes, digest: Checksum256, sig: Signature, k1: PublicKey):\n",
    "        _digest = sha256(msg)\n",
    "        assert _digest == digest\n",
    "        _pubkey = recover_key(digest, sig)\n",
    "        assert _pubkey == k1, \"_pubkey == k1\"\n",
    "        assert_recover_key(digest, sig, k1)\n",
    "        print('done!')"
   ]
  },
  {
   "cell_type": "markdown",
   "id": "966393ac",
   "metadata": {},
   "source": [
    "Testing code:"
   ]
  },
  {
   "cell_type": "code",
   "execution_count": null,
   "id": "dbeff457",
   "metadata": {},
   "outputs": [],
   "source": [
    "%%writefile tests/test.py\n",
    "\n",
    "import hashlib\n",
    "from pyeoskit import eosapi\n",
    "from pscdk import tester\n",
    "\n",
    "def test_crypto():\n",
    "    t = tester.init_test('crypto_example')\n",
    "    args = {}\n",
    "    ret = t.push_action('hello', 'testcrypto', args, {'hello': 'active'})\n",
    "    t.produce_block()\n",
    "    tester.logger.info(\"++++++++++%s\\n\", ret['elapsed'])\n",
    "\n",
    "def test_recover():\n",
    "    t = tester.init_test('crypto_example')\n",
    "\n",
    "    msg = b'hello,world'\n",
    "    # key pair\n",
    "    public_key = 'EOS6MRyAjQq8ud7hVNYcfnVPJqcVpscN5So8BhtHuGYqET5GDW5CV'\n",
    "    private_key = '5KQwrPbwdL6PhXujxW37FSSQZ1JiwsST4cqQzDeyXtP79zkvFD3'\n",
    "\n",
    "    h = hashlib.sha256()\n",
    "    h.update(msg)\n",
    "    digest = h.hexdigest()\n",
    "    tester.logger.info('++++digest: %s', digest)\n",
    "\n",
    "    #sign with private key\n",
    "    sig = eosapi.sign_digest(digest, private_key)\n",
    "    tester.logger.info('++++signature: %s', sig)\n",
    "    args = {\n",
    "        \"msg\": msg.hex(),\n",
    "        \"digest\": digest,\n",
    "        \"sig\": sig,\n",
    "        \"k1\": public_key,\n",
    "    }\n",
    "    ret = t.push_action('hello', 'testrecover', args, {'hello': 'active'})\n",
    "    t.produce_block()\n",
    "    tester.logger.info(\"++++++++++%s\\n\", ret['elapsed'])"
   ]
  },
  {
   "cell_type": "markdown",
   "id": "6a269ad7",
   "metadata": {},
   "source": [
    "Compilation:"
   ]
  },
  {
   "cell_type": "code",
   "execution_count": null,
   "id": "24861637",
   "metadata": {},
   "outputs": [],
   "source": [
    "!python-contract build tests/crypto_example.codon"
   ]
  },
  {
   "cell_type": "markdown",
   "id": "bd96aceb",
   "metadata": {},
   "source": [
    "Testing:"
   ]
  },
  {
   "cell_type": "code",
   "execution_count": null,
   "id": "866a5c0c",
   "metadata": {},
   "outputs": [],
   "source": [
    "!ipyeos -m pytest -s -x tests/test.py -k test_crypto"
   ]
  },
  {
   "cell_type": "code",
   "execution_count": null,
   "id": "be4dca3a",
   "metadata": {},
   "outputs": [],
   "source": [
    "!ipyeos -m pytest -s -x tests/test.py -k test_recover"
   ]
  },
  {
   "cell_type": "markdown",
   "id": "c25e90ff",
   "metadata": {},
   "source": [
    "In this example code, the usage of commonly used hash functions as well as the usage of `recover_key` and `assert_recover_key` are demonstrated separately. The usage of hash functions is relatively simple; here is an explanation of the test code for `recover_key`:\n",
    "`recover_key` takes two parameters, namely `digest` and `signature`. The `digest` is the result of running the sha256 algorithm on a binary data. In the above code, the hash calculation was performed on `hello,world` using the sha256 algorithm."
   ]
  },
  {
   "cell_type": "markdown",
   "id": "c381b7f8",
   "metadata": {},
   "source": [
    "```python\n",
    "h = hashlib.sha256()\n",
    "h.update(b'hello,world')\n",
    "digest = h.hexdigest()\n",
    "```"
   ]
  },
  {
   "cell_type": "markdown",
   "id": "e4ad50ad",
   "metadata": {},
   "source": [
    "The computed result is passed as a parameter to the action.\n",
    "\n",
    "Here is an explanation of `testrecover`:"
   ]
  },
  {
   "cell_type": "markdown",
   "id": "68515749",
   "metadata": {},
   "source": [
    "```python\n",
    "@action('testrecover')\n",
    "def test_recover(self, msg: bytes, digest: Checksum256, sig: Signature, k1: PublicKey):\n",
    "    _digest = sha256(msg)\n",
    "    assert _digest == digest #判断digest是否对msg进行hash256算法的hash结果\n",
    "    _pubkey = recover_key(digest, sig)\n",
    "    assert _pubkey == k1, \"_pubkey == k1\" #判断public key是否正确\n",
    "\n",
    "    assert_recover_key(digest, sig, k1) #作用相当于上面两行代码\n",
    "    print('done!')\n",
    "```"
   ]
  },
  {
   "cell_type": "markdown",
   "id": "071e3ef1",
   "metadata": {},
   "source": [
    "In the sent transaction, the user's signature on the transaction is also required to indicate that the user has authorized the transaction. Then, in the smart contract, the `require_auth` function can be called to determine whether the transaction has been authorized by a specific user.\n",
    "\n",
    "In actual smart contract applications, the above method can also be used to determine whether a certain section of binary data in the smart contract is signed using a specific private key. The process is as follows:\n",
    "\n",
    "- Firstly, the user signs the data using his own private key\n",
    "- The user passes the data, signature, and public key (note that this is not a private key) to the smart contract\n",
    "- The smart contract can then determine whether the data is signed using a particular private key and perform corresponding operations."
   ]
  }
 ],
 "metadata": {
  "kernelspec": {
   "display_name": "Python 3 (ipykernel)",
   "language": "python",
   "name": "python3"
  },
  "language_info": {
   "codemirror_mode": {
    "name": "ipython",
    "version": 3
   },
   "file_extension": ".py",
   "mimetype": "text/x-python",
   "name": "python",
   "nbconvert_exporter": "python",
   "pygments_lexer": "ipython3",
   "version": "3.10.8"
  }
 },
 "nbformat": 4,
 "nbformat_minor": 5
}
