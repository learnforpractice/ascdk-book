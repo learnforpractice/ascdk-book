{
 "cells": [
  {
   "cell_type": "markdown",
   "id": "ef816a76",
   "metadata": {},
   "source": [
    "\n",
    "# Database Operations\n",
    "\n",
    "On-chain data storage and retrieval is a critical feature of smart contracts. EOS implements an in-memory database that allows data to be stored in a table format. Each item in a table has a unique primary index, called a primary key, which is of type `u64`. The raw data stored in the table can be binary data of any length. When the storage function of a smart contract is called, the data is serialized and stored in the table. When reading, the stored data is deserialized back as a class object. Additionally, EOS supports secondary index tables of types `u64`, `u128`, `u256`, `double`, and `long double`, which can be considered special tables with a fixed data length. Primary and secondary index tables can be used together to implement multiple indexes. There can be multiple secondary index tables, and the values in these tables can be repeated, but the primary index in the primary index table must be unique.\n",
    "\n",
    "The following example demonstrates the usage of EOS's in-memory database.\n",
    "\n",
    "## Store\n",
    "\n",
    "Storage is the simplest function of the database, and the following code demonstrates this functionality."
   ]
  },
  {
   "cell_type": "code",
   "execution_count": null,
   "id": "ae85daea",
   "metadata": {},
   "outputs": [],
   "source": [
    "!mkdir -p tests"
   ]
  },
  {
   "cell_type": "code",
   "execution_count": null,
   "id": "856693c6",
   "metadata": {},
   "outputs": [],
   "source": [
    "%%writefile tests/db_example1.codon\n",
    "\n",
    "from chain.database import primary\n",
    "from chain.contract import Contract\n",
    "\n",
    "@table(\"mytable\")\n",
    "class A(object):\n",
    "    a: primary[u64]\n",
    "    b: str\n",
    "    def __init__(self, a: u64, b: str):\n",
    "        self.a = primary[u64](a)\n",
    "        self.b = b\n",
    "\n",
    "@contract(main=True)\n",
    "class MyContract(Contract):\n",
    "\n",
    "    def __init__(self):\n",
    "        super().__init__()\n",
    "\n",
    "    @action('teststore')\n",
    "    def test_store(self):\n",
    "        print('db_test')\n",
    "        item = A(123u64, 'hello, world')\n",
    "        table = A.new_table(n'hello', n'')\n",
    "        table.store(item, n'hello')"
   ]
  },
  {
   "cell_type": "markdown",
   "id": "702e867a",
   "metadata": {},
   "source": [
    "Compile:"
   ]
  },
  {
   "cell_type": "code",
   "execution_count": null,
   "id": "3f0c6808",
   "metadata": {},
   "outputs": [],
   "source": [
    "!python-contract build tests/db_example1.codon"
   ]
  },
  {
   "cell_type": "markdown",
   "id": "11447cbd",
   "metadata": {},
   "source": [
    "The test code you are running is as follows:"
   ]
  },
  {
   "cell_type": "code",
   "execution_count": null,
   "id": "39543aa4",
   "metadata": {},
   "outputs": [],
   "source": [
    "%%writefile tests/test.py\n",
    "\n",
    "from pscdk import tester\n",
    "\n",
    "def test_store():\n",
    "    t = tester.init_test('db_example1')\n",
    "    ret = t.push_action('hello', 'teststore', \"\", {'hello': 'active'})\n",
    "    t.produce_block()\n",
    "    tester.logger.info(\"++++++++++%s\\n\", ret['elapsed'])"
   ]
  },
  {
   "cell_type": "code",
   "execution_count": null,
   "id": "ce7cf24f",
   "metadata": {},
   "outputs": [],
   "source": [
    "!ipyeos -m pytest -s -x tests/test.py -k test_store"
   ]
  },
  {
   "cell_type": "markdown",
   "id": "0739865c",
   "metadata": {},
   "source": [
    "**Note**:\n",
    "\n",
    "In this example, if there is already data with the primary key `123u64` in the table, an exception will be thrown when the function is called.\n",
    "\n",
    "To modify the above test case to the following code:"
   ]
  },
  {
   "cell_type": "code",
   "execution_count": null,
   "id": "0917bafc",
   "metadata": {},
   "outputs": [],
   "source": [
    "%%writefile tests/test.py\n",
    "\n",
    "from pscdk import tester\n",
    "\n",
    "def test_store():\n",
    "    t = tester.init_test('db_example1')\n",
    "    ret = t.push_action('hello', 'test', \"\", {'hello': 'active'})\n",
    "    t.produce_block()\n",
    "    tester.logger.info(\"++++++++++%s\\n\", ret['elapsed'])\n",
    "\n",
    "    # will raise exception\n",
    "    ret = t.push_action('hello', 'test', \"\", {'hello': 'active'})\n",
    "    t.produce_block()"
   ]
  },
  {
   "cell_type": "markdown",
   "id": "38684110",
   "metadata": {},
   "source": [
    "Testing:"
   ]
  },
  {
   "cell_type": "code",
   "execution_count": null,
   "id": "e9fd1b8c",
   "metadata": {},
   "outputs": [],
   "source": [
    "!ipyeos -m pytest -s -x tests/test.py -k test_store"
   ]
  },
  {
   "cell_type": "markdown",
   "id": "a95852bc",
   "metadata": {},
   "source": [
    "When running the test with the same command, if the `push_action` is called for the second time, the function will throw an exception similar to the following:"
   ]
  },
  {
   "cell_type": "markdown",
   "id": "1cc556b0",
   "metadata": {},
   "source": [
    "could not insert object, most likely a uniqueness constraint was violated"
   ]
  },
  {
   "cell_type": "markdown",
   "id": "f0176604",
   "metadata": {},
   "source": [
    "To avoid such exceptions, the `update` method must be used when updating data in the table. Before calling `store`, it is necessary to check whether the primary index already exists in the table. If it does, `store` method cannot be called, and `update` method must be used instead. The following example demonstrates how to use it:\n",
    "                                                                                                    \n",
    "## find/update\n",
    "\n",
    "This section demonstrates the lookup and update functionality of the database."
   ]
  },
  {
   "cell_type": "code",
   "execution_count": null,
   "id": "4ab9c8c9",
   "metadata": {},
   "outputs": [],
   "source": [
    "%%writefile tests/db_example1.codon\n",
    "\n",
    "from chain.database import primary\n",
    "from chain.contract import Contract\n",
    "\n",
    "@table(\"mytable\")\n",
    "class A(object):\n",
    "    a: primary[u64]\n",
    "    b: str\n",
    "    def __init__(self, a: u64, b: str):\n",
    "        self.a = primary[u64](a)\n",
    "        self.b = b\n",
    "\n",
    "@contract(main=True)\n",
    "class MyContract(Contract):\n",
    "\n",
    "    @action('testupdate')\n",
    "    def test_update(self, value: str):\n",
    "        print('db_test')\n",
    "        table = A.new_table(n'hello', n'')\n",
    "        key = 123u64\n",
    "        it = table.find(key)\n",
    "        if it.is_ok():\n",
    "            print('+++++update value:', value)\n",
    "            item = A(key, value)\n",
    "            table.update(it, item, n'hello')\n",
    "        else:\n",
    "            print('+++++store value:', value)\n",
    "            item = A(key, value)\n",
    "            table.store(item, n'hello')"
   ]
  },
  {
   "cell_type": "markdown",
   "id": "0ba2898c",
   "metadata": {},
   "source": [
    "Compile："
   ]
  },
  {
   "cell_type": "code",
   "execution_count": null,
   "id": "8d5a7064",
   "metadata": {},
   "outputs": [],
   "source": [
    "!python-contract build tests/db_example1.codon"
   ]
  },
  {
   "cell_type": "markdown",
   "id": "2dc058c6",
   "metadata": {},
   "source": [
    "Testing Code："
   ]
  },
  {
   "cell_type": "code",
   "execution_count": null,
   "id": "54c3064b",
   "metadata": {},
   "outputs": [],
   "source": [
    "%%writefile tests/test.py\n",
    "\n",
    "from pscdk import tester\n",
    "\n",
    "def test_update():\n",
    "    t = tester.init_test('db_example1')\n",
    "    ret = t.push_action('hello', 'testupdate', {'value': 'hello, bob'}, {'hello': 'active'})\n",
    "    t.produce_block()\n",
    "    tester.logger.info(\"++++++++++%s\\n\", ret['elapsed'])\n",
    "\n",
    "    ret = t.push_action('hello', 'testupdate', {'value': 'hello, alice'}, {'hello': 'active'})\n",
    "    t.produce_block()"
   ]
  },
  {
   "cell_type": "markdown",
   "id": "4fb4655b",
   "metadata": {},
   "source": [
    "Compile using the following command:"
   ]
  },
  {
   "cell_type": "code",
   "execution_count": null,
   "id": "a02c5da2",
   "metadata": {},
   "outputs": [],
   "source": [
    "!ipyeos -m pytest -s -x tests/test.py -k test_update"
   ]
  },
  {
   "cell_type": "markdown",
   "id": "1077e6ce",
   "metadata": {},
   "source": [
    "When calling:"
   ]
  },
  {
   "cell_type": "markdown",
   "id": "f11a3c3c",
   "metadata": {},
   "source": [
    "```python\n",
    "t.push_action('hello', 'testupdate', {'value': 'hello, bob'}, {'hello': 'active'})\n",
    "```"
   ]
  },
  {
   "cell_type": "markdown",
   "id": "324a95fd",
   "metadata": {},
   "source": [
    "Output:"
   ]
  },
  {
   "cell_type": "markdown",
   "id": "0ab047a1",
   "metadata": {},
   "source": [
    "+++++store value: hello, bob"
   ]
  },
  {
   "cell_type": "markdown",
   "id": "2cd9c5ca",
   "metadata": {},
   "source": [
    "When calling:"
   ]
  },
  {
   "cell_type": "markdown",
   "id": "2d19a1d5",
   "metadata": {},
   "source": [
    "```python\n",
    "t.push_action('hello', 'testupdate', {'value': 'hello, alice'}, {'hello': 'active'})\n",
    "```"
   ]
  },
  {
   "cell_type": "markdown",
   "id": "5d815d94",
   "metadata": {},
   "source": [
    "Output："
   ]
  },
  {
   "cell_type": "markdown",
   "id": "23dc2076",
   "metadata": {},
   "source": [
    "+++++update value: hello, alice"
   ]
  },
  {
   "cell_type": "markdown",
   "id": "8b6bffc7",
   "metadata": {},
   "source": [
    "As you can see, the above code is a bit complicated. First, it needs to call `find` to determine whether the value corresponding to the primary index exists, and then decide whether to call `store` or `update`. It should be noted that, during the update process, **the value of the primary index cannot be changed**, otherwise an exception will be thrown.\n",
    "\n",
    "You can try to modify the update code to:"
   ]
  },
  {
   "cell_type": "markdown",
   "id": "600602bb",
   "metadata": {},
   "source": [
    "```python\n",
    "item = A(key+1u64, value)\n",
    "table.update(it, item, n'hello')\n",
    "```"
   ]
  },
  {
   "cell_type": "markdown",
   "id": "7f65e3f8",
   "metadata": {},
   "source": [
    "You will see an exception thrown in the smart contract.\n",
    "                                                                                                    \n",
    "## Remove\n",
    "\n",
    "The following code demonstrates how to remove an item from the database."
   ]
  },
  {
   "cell_type": "code",
   "execution_count": null,
   "id": "18dde072",
   "metadata": {},
   "outputs": [],
   "source": [
    "%%writefile tests/db_example1.codon\n",
    "\n",
    "from chain.database import primary\n",
    "from chain.contract import Contract\n",
    "\n",
    "@table(\"mytable\")\n",
    "class A(object):\n",
    "    a: primary[u64]\n",
    "    b: str\n",
    "    def __init__(self, a: u64, b: str):\n",
    "        self.a = primary[u64](a)\n",
    "        self.b = b\n",
    "\n",
    "@contract(main=True)\n",
    "class MyContract(Contract):\n",
    "        \n",
    "    @action('testremove')\n",
    "    def test_remove(self):\n",
    "        print('test remove')\n",
    "        item = A(123u64, 'hello, world')\n",
    "        table = A.new_table(n'hello', n'')\n",
    "        table.store(item, n'hello')\n",
    "\n",
    "        it = table.find(123u64)\n",
    "        assert it.is_ok()\n",
    "        table.remove(it)\n",
    "\n",
    "        it = table.find(123u64)\n",
    "        assert not it.is_ok()"
   ]
  },
  {
   "cell_type": "markdown",
   "id": "204b3ac7",
   "metadata": {},
   "source": [
    "Testing code："
   ]
  },
  {
   "cell_type": "code",
   "execution_count": null,
   "id": "44af9ef5",
   "metadata": {},
   "outputs": [],
   "source": [
    "%%writefile tests/test.py\n",
    "\n",
    "from pscdk import tester\n",
    "\n",
    "def test_remove():\n",
    "    t = tester.init_test('db_example1')\n",
    "    ret = t.push_action('hello', 'testremove', \"\", {'hello': 'active'})\n",
    "    t.produce_block()\n",
    "    tester.logger.info(\"++++++++++%s\\n\", ret['elapsed'])"
   ]
  },
  {
   "cell_type": "markdown",
   "id": "e473189b",
   "metadata": {},
   "source": [
    "Compile:"
   ]
  },
  {
   "cell_type": "code",
   "execution_count": null,
   "id": "866fbd74",
   "metadata": {},
   "outputs": [],
   "source": [
    "!python-contract build tests/db_example1.codon"
   ]
  },
  {
   "cell_type": "markdown",
   "id": "9b3fa5da",
   "metadata": {},
   "source": [
    "Testing:"
   ]
  },
  {
   "cell_type": "code",
   "execution_count": null,
   "id": "6ee37da2",
   "metadata": {},
   "outputs": [],
   "source": [
    "!ipyeos -m pytest -s -x tests/test.py -k test_remove"
   ]
  },
  {
   "cell_type": "markdown",
   "id": "09cd9d69",
   "metadata": {},
   "source": [
    "The above code first calls the `store` method to store the data with index `123u64` in the database, then calls `remove` to delete it, and uses `assert` to check the result. If everything is normal, the program will not throw any exceptions.\n",
    "\n",
    "## Lowerbound/Upperbound\n",
    "\n",
    "These two methods are also used to search for elements in the database. Unlike the `find` method, these two functions are used for fuzzy searching. Among them, the `lowerbound` method returns an `Iterator` whose `id` is `>=` the specified `id`, and the `upperbound` method returns an `Iterator` whose `id` is `>` the specified `id`. Let's take a look at the usage below:"
   ]
  },
  {
   "cell_type": "code",
   "execution_count": null,
   "id": "68729ecc",
   "metadata": {},
   "outputs": [],
   "source": [
    "%%writefile tests/db_example1.codon\n",
    "\n",
    "from chain.database import primary\n",
    "from chain.contract import Contract\n",
    "\n",
    "@table(\"mytable\")\n",
    "class A(object):\n",
    "    a: primary[u64]\n",
    "    b: str\n",
    "    def __init__(self, a: u64, b: str):\n",
    "        self.a = primary[u64](a)\n",
    "        self.b = b\n",
    "\n",
    "@contract(main=True)\n",
    "class MyContract(Contract):\n",
    "\n",
    "    @action('testbound')\n",
    "    def test_bound(self):\n",
    "        print('db_test')\n",
    "        table = A.new_table(n'hello', n'')\n",
    "        payer = n'hello'\n",
    "\n",
    "        value = A(1u64, \"alice\")\n",
    "        table.store(value, payer)\n",
    "\n",
    "        value = A(3u64, \"bob\")\n",
    "        table.store(value, payer)\n",
    "\n",
    "        value = A(5u64, \"john\")\n",
    "        table.store(value, payer)\n",
    "\n",
    "        it = table.lowerbound(1u64)\n",
    "        value2: A = it.get_value()\n",
    "        print(\"+++++:\", value2.a, value2.b)\n",
    "        assert value2.a.value == 1u64 and value2.b == 'alice'\n",
    "\n",
    "        it = table.upperbound(1u64)\n",
    "        value2: A = it.get_value()\n",
    "        print(\"+++++:\", value2.a, value2.b)\n",
    "        assert value2.a.value == 3u64 and value2.b == 'bob'"
   ]
  },
  {
   "cell_type": "markdown",
   "id": "79031570",
   "metadata": {},
   "source": [
    "Testing code:"
   ]
  },
  {
   "cell_type": "code",
   "execution_count": null,
   "id": "8cdf6a54",
   "metadata": {},
   "outputs": [],
   "source": [
    "%%writefile tests/test.py\n",
    "\n",
    "from pscdk import tester\n",
    "\n",
    "def test_bound():\n",
    "    t = tester.init_test('db_example1')\n",
    "    ret = t.push_action('hello', 'testbound', {}, {'hello': 'active'})\n",
    "    t.produce_block()\n",
    "    tester.logger.info(\"++++++++++%s\\n\", ret['elapsed'])"
   ]
  },
  {
   "cell_type": "markdown",
   "id": "9802b41a",
   "metadata": {},
   "source": [
    "Compile:"
   ]
  },
  {
   "cell_type": "code",
   "execution_count": null,
   "id": "adf896c2",
   "metadata": {},
   "outputs": [],
   "source": [
    "!python-contract build tests/db_example1.codon"
   ]
  },
  {
   "cell_type": "markdown",
   "id": "5ad7aa76",
   "metadata": {},
   "source": [
    "Testing:"
   ]
  },
  {
   "cell_type": "code",
   "execution_count": null,
   "id": "080068ec",
   "metadata": {},
   "outputs": [],
   "source": [
    "!ipyeos -m pytest -s -x tests/test.py -k test_bound"
   ]
  },
  {
   "cell_type": "markdown",
   "id": "13dfcdb5",
   "metadata": {},
   "source": [
    "Output:"
   ]
  },
  {
   "cell_type": "markdown",
   "id": "19257280",
   "metadata": {},
   "source": [
    "```\n",
    "+++++: 1 alice\n",
    "+++++: 3 bob\n",
    "```"
   ]
  },
  {
   "cell_type": "markdown",
   "id": "c0fb7c89",
   "metadata": {},
   "source": [
    "## Querying the Primary Index of a Table Using API\n",
    "\n",
    "The above examples are all about how to operate the database table on the chain through the smart contract. In fact, by using the `get_table_rows` API provided by EOS off the chain, you can also query the table on the chain.\n",
    "\n",
    "In the test code, the definition of `get_table_rows` is as follows:"
   ]
  },
  {
   "cell_type": "markdown",
   "id": "d9a949b5",
   "metadata": {},
   "source": [
    "```python\n",
    "def get_table_rows(self, _json, code, scope, table,\n",
    "                                lower_bound, upper_bound,\n",
    "                                limit,\n",
    "                                key_type='',\n",
    "                                index_position='', \n",
    "                                reverse = False,\n",
    "                                show_payer = False):\n",
    "    \"\"\" Fetch smart contract data from an account. \n",
    "    key_type: \"i64\"|\"i128\"|\"i256\"|\"float64\"|\"float128\"|\"sha256\"|\"ripemd160\"\n",
    "    index_position: \"2\"|\"3\"|\"4\"|\"5\"|\"6\"|\"7\"|\"8\"|\"9\"|\"10\"\n",
    "    \"\"\"\n",
    "```"
   ]
  },
  {
   "cell_type": "markdown",
   "id": "d9a50f05",
   "metadata": {},
   "source": [
    "First of all, to query a table using `get_table_rows`, the structure of the table must be visible in the ABI description. You can use the following code to describe the table in the corresponding generated ABI file:"
   ]
  },
  {
   "cell_type": "code",
   "execution_count": null,
   "id": "e8803515",
   "metadata": {},
   "outputs": [],
   "source": [
    "%%writefile tests/db_example5.codon\n",
    "\n",
    "from chain.database import primary\n",
    "from chain.contract import Contract\n",
    "\n",
    "@table(\"mytable\")\n",
    "class A(object):\n",
    "    a: primary[u64]\n",
    "    b: str\n",
    "    def __init__(self, a: u64, b: str):\n",
    "        self.a = primary[u64](a)\n",
    "        self.b = b\n",
    "\n",
    "@contract(main=True)\n",
    "class MyContract(Contract):\n",
    "\n",
    "    def __init__(self):\n",
    "        super().__init__()\n",
    "\n",
    "    @action('test')\n",
    "    def test(self):\n",
    "        print('db_test')\n",
    "        table = A.new_table(n'hello', n'')\n",
    "        payer = n'hello'\n",
    "\n",
    "        value = A(1u64, \"alice\")\n",
    "        table.store(value, payer)\n",
    "\n",
    "        value = A(3u64, \"bob\")\n",
    "        table.store(value, payer)\n",
    "\n",
    "        value = A(5u64, \"john\")\n",
    "        table.store(value, payer)\n",
    "\n",
    "        it = table.lowerbound(1u64)\n",
    "        value2: A = it.get_value()\n",
    "        print(\"+++++:\", value2.a, value2.b)\n",
    "        assert value2.a() == 1u64 and value2.b == 'alice'\n",
    "\n",
    "        it = table.upperbound(1u64)\n",
    "        value2: A = it.get_value()\n",
    "        print(\"+++++:\", value2.a, value2.b)\n",
    "        assert value2.a() == 3u64 and value2.b == 'bob'"
   ]
  },
  {
   "cell_type": "markdown",
   "id": "f8373a79",
   "metadata": {},
   "source": [
    "Here, the `table` decorator is used to make the compiler include the structure of the table in the ABI.\n",
    "\n",
    "After adding this `table` to the class, the compiler will automatically add the `get_primary` and `new_table` functions to the class.\n",
    "\n",
    "At the same time, the member variables of the class must also meet certain requirements: first, a primary index variable must be declared, and the type must be `database.primary`. The implementation of the `primary` class is as follows:"
   ]
  },
  {
   "cell_type": "markdown",
   "id": "646f7632",
   "metadata": {},
   "source": [
    "```python\n",
    "class primary[T](object):\n",
    "    value: T\n",
    "    def __init__(self, value: T):\n",
    "        self.value = value\n",
    "\n",
    "    def get_primary(self) -> u64:\n",
    "        if isinstance(self.value, u64):\n",
    "            return self.value\n",
    "        return self.value.get_primary()\n",
    "\n",
    "    def __pack__(self, enc: Encoder):\n",
    "        self.value.__pack__(enc)\n",
    "\n",
    "    def __unpack__(dec: Decoder) -> primary[T]:\n",
    "        return primary[T](T.__unpack__(dec))\n",
    "\n",
    "    def __call__(self) -> T:\n",
    "        return self.value\n",
    "\n",
    "    def __size__(self) -> int:\n",
    "        return self.value.__size__()\n",
    "```"
   ]
  },
  {
   "cell_type": "markdown",
   "id": "568e4aa1",
   "metadata": {},
   "source": [
    "The `primary` class is a template class. If the type of the `value` in `primary` is not of type `u64`, then the type must implement the `get_primary` method. The `primary` class also has a `__call__` method to facilitate access to `value`. In the following discussion of multiple indexes, binary indexes will also be used. The type of the binary index must be `database.secondary`.\n",
    "\n",
    "Compilation:"
   ]
  },
  {
   "cell_type": "code",
   "execution_count": null,
   "id": "60186cad",
   "metadata": {},
   "outputs": [],
   "source": [
    "!python-contract build tests/db_example5.codon"
   ]
  },
  {
   "cell_type": "markdown",
   "id": "6d8bbca7",
   "metadata": {},
   "source": [
    "You will see the following description in the generated `db_example5.abi:`"
   ]
  },
  {
   "cell_type": "markdown",
   "id": "b84e1ebc",
   "metadata": {},
   "source": [
    "```\n",
    "\"tables\": [\n",
    "        {\n",
    "            \"name\": \"mytable\",\n",
    "            \"type\": \"A\",\n",
    "            \"index_type\": \"i64\",\n",
    "            \"key_names\": [],\n",
    "            \"key_types\": []\n",
    "        }\n",
    "    ]\n",
    "```"
   ]
  },
  {
   "cell_type": "markdown",
   "id": "16a00c91",
   "metadata": {},
   "source": [
    "Now consider the test code:"
   ]
  },
  {
   "cell_type": "code",
   "execution_count": null,
   "id": "1b94c687",
   "metadata": {},
   "outputs": [],
   "source": [
    "%%writefile tests/test.py\n",
    "\n",
    "from pscdk import tester\n",
    "\n",
    "def test_example5():\n",
    "    t = tester.init_test('db_example5')\n",
    "    ret = t.push_action('hello', 'test', {}, {'hello': 'active'})\n",
    "    t.produce_block()\n",
    "    tester.logger.info(\"++++++++++%s\\n\", ret['elapsed'])\n",
    "    rows = t.get_table_rows(True, 'hello', '', 'mytable', 1, '', 10)\n",
    "    tester.logger.info('++++++=rows: %s', rows)"
   ]
  },
  {
   "cell_type": "markdown",
   "id": "69371707",
   "metadata": {},
   "source": [
    "Testing:"
   ]
  },
  {
   "cell_type": "code",
   "execution_count": null,
   "id": "5c896193",
   "metadata": {},
   "outputs": [],
   "source": [
    "!ipyeos -m pytest -s -x tests/test.py -k test_example5"
   ]
  },
  {
   "cell_type": "markdown",
   "id": "747cd6fb",
   "metadata": {},
   "source": [
    "Output:"
   ]
  },
  {
   "cell_type": "markdown",
   "id": "18ec0901",
   "metadata": {},
   "source": [
    "```\n",
    "++++++=rows: {'rows': [{'a': 1, 'b': 'alice'}, {'a': 3, 'b': 'bob'}, {'a': 5, 'b': 'john'}], 'more': False, 'next_key': ''}\n",
    "```"
   ]
  },
  {
   "cell_type": "markdown",
   "id": "4ce1efed",
   "metadata": {},
   "source": [
    "## Operation of the binary index\n",
    "\n",
    "First, consider the following example:"
   ]
  },
  {
   "cell_type": "code",
   "execution_count": null,
   "id": "6bfcaf51",
   "metadata": {},
   "outputs": [],
   "source": [
    "%%writefile tests/db_example7.codon\n",
    "\n",
    "from chain.contract import Contract\n",
    "from chain.database import primary, secondary\n",
    "from chain.database import IdxTable64, IdxTable128, Iterator\n",
    "from chain.name import Name\n",
    "\n",
    "@table(\"mytable\")\n",
    "class A(object):\n",
    "    a: database.primary[u64]\n",
    "    b: secondary[u64]\n",
    "    c: secondary[u128]\n",
    "\n",
    "    def __init__(self, a: u64, b: u64, c: u128):\n",
    "        self.a = primary[u64](a)\n",
    "        self.b = secondary[u64](b)\n",
    "        self.c = secondary[u128](c)\n",
    "\n",
    "@contract(main=True)\n",
    "class MyContract(Contract):\n",
    "\n",
    "    def __init__(self):\n",
    "        super().__init__()\n",
    "\n",
    "    @action('test')\n",
    "    def test(self):\n",
    "        payer = n\"hello\"\n",
    "        table = A.new_table(n\"hello\", n\"\")\n",
    "        item = A(1u64, 2u64, 3u128)\n",
    "        table.store(item, payer)\n",
    "\n",
    "        idx_table_b = table.get_idx_table_by_b()\n",
    "        it = idx_table_b.find(2u64)\n",
    "        print(\"++++++it.primary:\", it.primary)\n",
    "        assert it.primary == 1u64\n",
    "\n",
    "        idx_table_c = table.get_idx_table_by_c()\n",
    "        it = idx_table_c.find(3u128)\n",
    "        print(\"++++++it.primary:\", it.primary)\n",
    "        assert it.primary == 1u64"
   ]
  },
  {
   "cell_type": "markdown",
   "id": "e03aaa2d",
   "metadata": {},
   "source": [
    "In this example, two binary indexes are defined:"
   ]
  },
  {
   "cell_type": "markdown",
   "id": "6f2a54dd",
   "metadata": {},
   "source": [
    "```python\n",
    "b: secondary[u64]\n",
    "c: secondary[u128]\n",
    "```"
   ]
  },
  {
   "cell_type": "markdown",
   "id": "4d693a0a",
   "metadata": {},
   "source": [
    "In the code, `get_idx_table_by_b` and `get_idx_table_by_c` are used to obtain the tables of the binary indexes, and the returned object types are `IdxTable64` and `IdxTable128`, respectively. The tables of binary indexes have similar method names as the tables of the primary index, and can also perform the function of binary index lookup.\n",
    "\n",
    "Test code:"
   ]
  },
  {
   "cell_type": "code",
   "execution_count": null,
   "id": "2e8e9cfc",
   "metadata": {},
   "outputs": [],
   "source": [
    "%%writefile tests/test.py\n",
    "from pscdk import tester\n",
    "\n",
    "def test_example7():\n",
    "    t = tester.init_test('db_example7')\n",
    "    ret = t.push_action('hello', 'test', {}, {'hello': 'active'})\n",
    "    t.produce_block()\n",
    "    tester.logger.info(\"++++++++++%s\\n\", ret['elapsed'])"
   ]
  },
  {
   "cell_type": "markdown",
   "id": "7be60e54",
   "metadata": {},
   "source": [
    "Compile："
   ]
  },
  {
   "cell_type": "code",
   "execution_count": null,
   "id": "a908440d",
   "metadata": {},
   "outputs": [],
   "source": [
    "!python-contract build tests/db_example7.codon"
   ]
  },
  {
   "cell_type": "markdown",
   "id": "211d3cd7",
   "metadata": {},
   "source": [
    "Testing:"
   ]
  },
  {
   "cell_type": "code",
   "execution_count": null,
   "id": "56b4c52c",
   "metadata": {},
   "outputs": [],
   "source": [
    "!ipyeos -m pytest -s -x tests/test.py -k test_example7"
   ]
  },
  {
   "cell_type": "markdown",
   "id": "8f33c831",
   "metadata": {},
   "source": [
    "Output:"
   ]
  },
  {
   "cell_type": "markdown",
   "id": "f1c62207",
   "metadata": {},
   "source": [
    "```\n",
    "++++++it.primary: 1\n",
    "++++++it.primary: 1\n",
    "```"
   ]
  },
  {
   "cell_type": "markdown",
   "id": "a040d172",
   "metadata": {},
   "source": [
    "## Updating the binary index\n",
    "\n",
    "In practical applications, sometimes it is necessary to update the binary index. Please first look at the following code:"
   ]
  },
  {
   "cell_type": "code",
   "execution_count": null,
   "id": "2d3048de",
   "metadata": {},
   "outputs": [],
   "source": [
    "%%writefile tests/db_example8.codon\n",
    "\n",
    "from chain.contract import Contract\n",
    "from chain.database import primary, secondary\n",
    "from chain.database import IdxTable64, IdxTable128, Iterator\n",
    "from chain.name import Name\n",
    "\n",
    "@table(\"mytable\")\n",
    "class A(object):\n",
    "    a: database.primary[u64]\n",
    "    b: secondary[u64]\n",
    "    c: secondary[u128]\n",
    "\n",
    "    def __init__(self, a: u64, b: u64, c: u128):\n",
    "        self.a = primary[u64](a)\n",
    "        self.b = secondary[u64](b)\n",
    "        self.c = secondary[u128](c)\n",
    "\n",
    "@contract(main=True)\n",
    "class MyContract(Contract):\n",
    "\n",
    "    def __init__(self):\n",
    "        super().__init__()\n",
    "\n",
    "    @action('test')\n",
    "    def test(self):\n",
    "        payer = n\"hello\"\n",
    "        table = A.new_table(n\"hello\", n\"\")\n",
    "        item = A(1u64, 2u64, 3u128)\n",
    "        table.store(item, payer)\n",
    "        item = A(111u64, 222u64, 333u128)\n",
    "        table.store(item, payer)\n",
    "\n",
    "        idx_table_b = table.get_idx_table_by_b()\n",
    "        it_sec = idx_table_b.find(2u64)\n",
    "        print(\"++++++it.primary:\", it_sec.primary)\n",
    "        assert it_sec.primary == 1u64\n",
    "        \n",
    "        table.update_b(it_sec, 22u64, payer)\n",
    "\n",
    "        it_sec = idx_table_b.find(22u64)\n",
    "        assert it_sec.is_ok()\n",
    "        print(\"++++++it.primary:\", it_sec.primary)\n",
    "        assert it_sec.primary == 1u64"
   ]
  },
  {
   "cell_type": "markdown",
   "id": "d78150a1",
   "metadata": {},
   "source": [
    "Note the following code in the above code:"
   ]
  },
  {
   "cell_type": "markdown",
   "id": "d937bc71",
   "metadata": {},
   "source": [
    "```python\n",
    "idx_table_b = table.get_idx_table_by_b()\n",
    "it_sec = idx_table_b.find(2u64)\n",
    "print(\"++++++it.primary:\", it_sec.primary)\n",
    "assert it_sec.primary == 1u64\n",
    "\n",
    "table.update_b(it_sec, 22u64, payer)\n",
    "\n",
    "it_sec = idx_table_b.find(22u64)\n",
    "assert it_sec.is_ok()\n",
    "print(\"++++++it.primary:\", it_sec.primary)\n",
    "assert it_sec.primary == 1u64\n",
    "```"
   ]
  },
  {
   "cell_type": "markdown",
   "id": "20a828d7",
   "metadata": {},
   "source": [
    "Brief description of the process:\n",
    "\n",
    "- `it_sec = idx_table_b.find(2u64)`: Looks up the value `2u64` in the binary index and returns the `SecondaryIterator` type result `it_sec`.\n",
    "- `table.update_b(it_sec, 22u64, payer)`: This line of code implements the update function and updates the value of `b` to `22u64`.\n",
    "- `it_sec = idx_table_b.find(22u64)`: Looks up the new binary index.\n",
    "- `assert assert it_sec.is_ok()`: Used to confirm whether the binary index has been updated successfully.\n",
    "- `assert it_sec.primary == 1u64`: Used to confirm whether the primary index is correct.\n",
    "\n",
    "The `update_b` code is generated by the compiler and is shown below:"
   ]
  },
  {
   "cell_type": "markdown",
   "id": "4e8887a1",
   "metadata": {},
   "source": [
    "```python\n",
    "def update_b(self, it: SecondaryIterator, b: u64, payer: Name) -> None:\n",
    "    # update b\n",
    "    self.idx_b.update(it, b, payer)\n",
    "    # search by primary\n",
    "    it_primary = self.table.find(it.primary)\n",
    "    check(it_primary.is_ok(), \"primary iterator not found\")\n",
    "    # search primary value\n",
    "    value: A = it_primary.get_value()\n",
    "    # update primary value\n",
    "    value.b = secondary[u64](b)\n",
    "    self.table.update(it_primary, value, payer)\n",
    "```"
   ]
  },
  {
   "cell_type": "markdown",
   "id": "5bc91bbd",
   "metadata": {},
   "source": [
    "From the code, it is apparent that when updating the binary index, the corresponding value in the primary index will also be updated."
   ]
  },
  {
   "cell_type": "markdown",
   "id": "ff81d1d2",
   "metadata": {},
   "source": [
    "Compilation:"
   ]
  },
  {
   "cell_type": "code",
   "execution_count": null,
   "id": "3dade66f",
   "metadata": {},
   "outputs": [],
   "source": [
    "!python-contract build tests/db_example8.codon"
   ]
  },
  {
   "cell_type": "markdown",
   "id": "ab750ac7",
   "metadata": {},
   "source": [
    "Testing:"
   ]
  },
  {
   "cell_type": "code",
   "execution_count": null,
   "id": "436c4f91",
   "metadata": {},
   "outputs": [],
   "source": [
    "%%writefile tests/test.py\n",
    "\n",
    "from pscdk import tester\n",
    "\n",
    "def test_example8():\n",
    "    t = tester.init_test('db_example8')\n",
    "    ret = t.push_action('hello', 'test', {}, {'hello': 'active'})\n",
    "    t.produce_block()\n",
    "    tester.logger.info(\"++++++++++%s\\n\", ret['elapsed'])\n"
   ]
  },
  {
   "cell_type": "code",
   "execution_count": null,
   "id": "0b1b8da0",
   "metadata": {},
   "outputs": [],
   "source": [
    "!ipyeos -m pytest -s -x tests/test.py -k test_example8"
   ]
  },
  {
   "cell_type": "markdown",
   "id": "042e82ed",
   "metadata": {},
   "source": [
    "\n",
    "## Deleting the secondary index"
   ]
  },
  {
   "cell_type": "code",
   "execution_count": null,
   "id": "07b71310",
   "metadata": {},
   "outputs": [],
   "source": [
    "%%writefile tests/db_example8.codon\n",
    "\n",
    "from chain.contract import Contract\n",
    "from chain.database import primary, secondary\n",
    "from chain.database import IdxTable64, IdxTable128, Iterator\n",
    "from chain.name import Name\n",
    "\n",
    "@table(\"mytable\")\n",
    "class A(object):\n",
    "    a: database.primary[u64]\n",
    "    b: secondary[u64]\n",
    "    c: secondary[u128]\n",
    "\n",
    "    def __init__(self, a: u64, b: u64, c: u128):\n",
    "        self.a = primary[u64](a)\n",
    "        self.b = secondary[u64](b)\n",
    "        self.c = secondary[u128](c)\n",
    "\n",
    "@contract(main=True)\n",
    "class MyContract(Contract):\n",
    "\n",
    "    def __init__(self):\n",
    "        super().__init__()\n",
    "\n",
    "    @action('test')\n",
    "    def test(self):\n",
    "        payer = n\"hello\"\n",
    "        table = A.new_table(n\"hello\", n\"\")\n",
    "        item = A(1u64, 2u64, 3u128)\n",
    "        table.store(item, payer)\n",
    "        item = A(111u64, 222u64, 333u128)\n",
    "        table.store(item, payer)\n",
    "\n",
    "        idx_table_b = table.get_idx_table_by_b()\n",
    "        it_sec = idx_table_b.find(2u64)\n",
    "        print(\"++++++it.primary:\", it_sec.primary)\n",
    "        assert it_sec.primary == 1u64\n",
    "        \n",
    "        table.update_b(it_sec, 22u64, payer)\n",
    "\n",
    "        it_sec = idx_table_b.find(22u64)\n",
    "        assert it_sec.is_ok()\n",
    "        print(\"++++++it.primary:\", it_sec.primary)\n",
    "        assert it_sec.primary == 1u64\n",
    "\n",
    "    @action('testremove')\n",
    "    def test_remove(self):\n",
    "        payer = n\"hello\"\n",
    "        table = A.new_table(n\"hello\", n\"\")\n",
    "        item = A(1u64, 2u64, 3u128)\n",
    "        table.store(item, payer)\n",
    "\n",
    "        idx_table_b = table.get_idx_table_by_b()\n",
    "        it_sec = idx_table_b.find(2u64)\n",
    "        assert it_sec.primary == 1u64\n",
    "        it = table.find(it_sec.primary)\n",
    "        table.remove(it)\n",
    "\n",
    "        it_sec = idx_table_b.find(2u64)\n",
    "        assert not it_sec.is_ok()\n",
    "        print('done!')"
   ]
  },
  {
   "cell_type": "markdown",
   "id": "98349f01",
   "metadata": {},
   "source": [
    "In `test_remove`, first call `store` to store an object A with the primary index of `1u64` and the first secondary index value of `2u64`. Then query `2u64` and confirm that `it_sec.primary == 1u64`. Next, call `remove` to delete the data with the primary index of `1u64`. Finally, query `2u64` again and confirm that the element has been deleted."
   ]
  },
  {
   "cell_type": "code",
   "execution_count": null,
   "id": "0292e068",
   "metadata": {},
   "outputs": [],
   "source": [
    "%%writefile tests/test.py\n",
    "\n",
    "from pscdk import tester\n",
    "def test_remove_secondary():\n",
    "    t = tester.init_test('db_example8')\n",
    "    ret = t.push_action('hello', 'testremove', {}, {'hello': 'active'})\n",
    "    t.produce_block()\n",
    "    tester.logger.info(\"++++++++++%s\\n\", ret['elapsed'])"
   ]
  },
  {
   "cell_type": "markdown",
   "id": "6b6211ae",
   "metadata": {},
   "source": [
    "Compilation:"
   ]
  },
  {
   "cell_type": "code",
   "execution_count": null,
   "id": "e169d9e4",
   "metadata": {},
   "outputs": [],
   "source": [
    "!python-contract build tests/db_example8.codon"
   ]
  },
  {
   "cell_type": "markdown",
   "id": "90d88f14",
   "metadata": {},
   "source": [
    "Testing:"
   ]
  },
  {
   "cell_type": "code",
   "execution_count": null,
   "id": "5dbbbea5",
   "metadata": {},
   "outputs": [],
   "source": [
    "!ipyeos -m pytest -s -x tests/test.py -k test_remove_secondary"
   ]
  },
  {
   "cell_type": "markdown",
   "id": "eeb54046",
   "metadata": {},
   "source": [
    "## Using the API to perform secondary index queries on a table\n",
    "\n",
    "In the `db_example8.codon` example, two binary indexes are defined, with the types `u64` and `u128`, respectively. The `get_table_rows` API also supports finding corresponding values through binary indexes."
   ]
  },
  {
   "cell_type": "code",
   "execution_count": null,
   "id": "ee493a2f",
   "metadata": {},
   "outputs": [],
   "source": [
    "%%writefile tests/test.py\n",
    "\n",
    "from pscdk import tester\n",
    "\n",
    "def test_example9():\n",
    "    t = tester.init_test('db_example8')\n",
    "    ret = t.push_action('hello', 'test', {}, {'hello': 'active'})\n",
    "    t.produce_block()\n",
    "    tester.logger.info(\"++++++++++%s\\n\", ret['elapsed'])\n",
    "\n",
    "    # find by secondary u64\n",
    "    rows = t.get_table_rows(True, 'hello', '', 'mytable', 22, '', 10, 'i64', '2')\n",
    "    tester.logger.info(\"++++++++++%s\", rows['rows'])\n",
    "    assert rows['rows'][0]['b'] == 22\n",
    "\n",
    "    # find by secondary u128\n",
    "    rows = t.get_table_rows(True, 'hello', '', 'mytable', '3', '', 10, 'i128', '3')\n",
    "    tester.logger.info(\"++++++++++%s\", rows['rows'])\n",
    "    assert rows['rows'][0]['c'] == '3'"
   ]
  },
  {
   "cell_type": "markdown",
   "id": "9f03de05",
   "metadata": {},
   "source": [
    "Explanation of the code below:\n",
    "\n",
    "To find the value in the table through the second index `b`:"
   ]
  },
  {
   "cell_type": "markdown",
   "id": "26d54e05",
   "metadata": {},
   "source": [
    "```python\n",
    "rows = t.get_table_rows(True, 'hello', '', 'mytable', 22, '', 10, 'i64', '2')\n",
    "```"
   ]
  },
  {
   "cell_type": "markdown",
   "id": "bad2efde",
   "metadata": {},
   "source": [
    "Here, `i64` is the index type of `b`, and `2` is zero-based index corresponding to the index.\n",
    "\n",
    "To find the value in the table through the second index `c`:"
   ]
  },
  {
   "cell_type": "markdown",
   "id": "5c692d5d",
   "metadata": {},
   "source": [
    "```python\n",
    "rows = t.get_table_rows(True, 'hello', '', 'mytable', '3', '', 10, 'i128', '3')\n",
    "```"
   ]
  },
  {
   "cell_type": "markdown",
   "id": "6c1d73ed",
   "metadata": {},
   "source": [
    "Here, `i128` is the index type of `c`. Note that the value `3` in the `lowerbound` parameter is the value of the binary index. Since `u128` has exceeded the range of 64-bit integers, a numeric string is used to represent it. Finally, the last parameter `3` is the corresponding index number.\n",
    "\n",
    "The results of running the above test code are as follows:"
   ]
  },
  {
   "cell_type": "markdown",
   "id": "87c92823",
   "metadata": {},
   "source": [
    "```\n",
    "++++++++++[{'a': 1, 'b': 22, 'c': '3'}, {'a': 111, 'b': 222, 'c': '333'}]\n",
    "++++++++++[{'a': 1, 'b': 22, 'c': '3'}, {'a': 111, 'b': 222, 'c': '333'}]\n",
    "```"
   ]
  },
  {
   "cell_type": "markdown",
   "id": "6406333b",
   "metadata": {},
   "source": [
    "## Implementation principles of the database\n",
    "\n",
    "The above code demonstrates the basic operations of the database. However, during the compilation process, some methods and classes are generated by the compiler. The following code displays the code generated by the compiler."
   ]
  },
  {
   "cell_type": "code",
   "execution_count": null,
   "id": "fa736bab",
   "metadata": {},
   "outputs": [],
   "source": [
    "%%writefile tests/db_example6.codon\n",
    "\n",
    "from chain.contract import Contract\n",
    "from chain.database import primary, secondary\n",
    "from chain.database import IdxTable64, IdxTable128, Iterator, SecondaryIterator\n",
    "from chain.mi import MultiIndexBase\n",
    "from chain.name import Name\n",
    "\n",
    "@packer\n",
    "class A(object):\n",
    "    a: database.primary[u64]\n",
    "    b: secondary[u64]\n",
    "    c: secondary[u128]\n",
    "\n",
    "    def __init__(self, a: u64, b: u64, c: u128):\n",
    "        self.a = primary[u64](a)\n",
    "        self.b = secondary[u64](b)\n",
    "        self.c = secondary[u128](c)\n",
    "\n",
    "    def get_primary(self) -> u64:\n",
    "        return self.a()\n",
    "\n",
    "class MultiIndexA(MultiIndexBase[A]):\n",
    "    idx_b: IdxTable64\n",
    "    idx_c: IdxTable128\n",
    "\n",
    "    def __init__(self, code: Name, scope: Name, table: Name):\n",
    "        MultiIndexBase[A].__init__(self, code, scope, table)\n",
    "        idx_table_base = table.value & 0xfffffffffffffff0u64\n",
    "        self.idx_b = IdxTable64(0, code, scope, Name(idx_table_base | u64(0)))\n",
    "        self.idx_c = IdxTable128(1, code, scope, Name(idx_table_base | u64(1)))\n",
    "\n",
    "    def store(self, item: A, payer: Name) -> Iterator[A]:\n",
    "        id: u64 = item.get_primary()\n",
    "        it = self.table.store(item, payer)\n",
    "        self.idx_b.store(id, item.b(), payer)\n",
    "\n",
    "        self.idx_c.store(id, item.c(), payer)\n",
    "\n",
    "        return it\n",
    "\n",
    "    def update(self, it: Iterator[A], item: A, payer: Name):\n",
    "        self.table.update(it, item, payer)\n",
    "\n",
    "        primary = item.get_primary()\n",
    "        secondary = item.b()\n",
    "        it_secondary, old_secondary = self.idx_b.find_by_primary(primary)\n",
    "        if not secondary == old_secondary:\n",
    "            self.idx_b.update(it_secondary, secondary, payer)\n",
    "\n",
    "        secondary = item.c()\n",
    "        it_secondary, old_secondary = self.idx_c.find_by_primary(primary)\n",
    "        if not secondary == old_secondary:\n",
    "            self.idx_c.update(it_secondary, secondary, payer)\n",
    "\n",
    "    def remove(self, it: Iterator[A]):\n",
    "        sec_it, _ = self.idx_b.find_by_primary(it.get_primary())\n",
    "        self.idx_b.remove(sec_it)\n",
    "\n",
    "        sec_it, _ = self.idx_c.find_by_primary(it.get_primary())\n",
    "        self.idx_c.remove(sec_it)\n",
    "\n",
    "        self.table.remove(it)\n",
    "\n",
    "    def remove(self, primary: u64):\n",
    "        it = self.table.find(primary)\n",
    "        if it.is_ok():\n",
    "            self.remove(it)\n",
    "\n",
    "    def get_idx_table_by_b(self) -> IdxTable64:\n",
    "        return self.idx_b\n",
    "\n",
    "    def get_idx_table_by_c(self) -> IdxTable128:\n",
    "        return self.idx_c\n",
    "\n",
    "    def update_b(self, it: SecondaryIterator, b: u64, payer: Name) -> None:\n",
    "        self.idx_b.update(it, b, payer)\n",
    "        it_primary = self.table.find(it.primary)\n",
    "        check(it_primary.is_ok(), \"primary iterator not found\")\n",
    "        value: A = it_primary.get_value()\n",
    "        value.b = secondary[u64](b)\n",
    "        self.table.update(it_primary, value, payer)\n",
    "\n",
    "    def update_c(self, it: SecondaryIterator, c: u128, payer: Name) -> None:\n",
    "        self.idx_c.update(it, c, payer)\n",
    "        it_primary = self.table.find(it.primary)\n",
    "        check(it_primary.is_ok(), \"primary iterator not found\")\n",
    "        value: A = it_primary.get_value()\n",
    "        value.c = secondary[u128](c)\n",
    "        self.table.update(it_primary, value, payer)\n",
    "\n",
    "@extend\n",
    "class A:\n",
    "    def new_table(code: Name, scope: Name):\n",
    "        return MultiIndexA(code, scope, n\"mytable\")\n",
    "\n",
    "@contract(main=True)\n",
    "class MyContract(Contract):\n",
    "\n",
    "    def __init__(self):\n",
    "        super().__init__()\n",
    "\n",
    "    @action('test')\n",
    "    def test(self):\n",
    "        print('+++++++=test')\n",
    "        payer = n\"hello\"\n",
    "        table = A.new_table(n\"hello\", n\"\")\n",
    "        item = A(1u64, 2u64, 3u128)\n",
    "        table.store(item, payer)\n",
    "\n",
    "        idx_table_b = table.get_idx_table_by_b()\n",
    "        it = idx_table_b.find(2u64)\n",
    "        print(\"++++++it.primary:\", it.primary)\n",
    "        assert it.primary == 1u64\n",
    "\n",
    "        idx_table_c = table.get_idx_table_by_c()\n",
    "        it = idx_table_c.find(3u128)\n",
    "        print(\"++++++it.primary:\", it.primary)\n",
    "        assert it.primary == 1u64"
   ]
  },
  {
   "cell_type": "markdown",
   "id": "7d3ec1f3",
   "metadata": {},
   "source": [
    "This example demonstrates a scenario where there are two binary indexes. Only the name `table` was changed to `packer`. In this case, the compiler will not generate any code related to the database.\n",
    "\n",
    "By comparison, it is apparent that the compiler generates a class named `MultiIndexA`, which inherits from the `MultiIndexBase` class defined in `mi.codon`. This class has the following methods:\n",
    "\n",
    "- def store(self, item: A, payer: Name) -> Iterator[A]\n",
    "- def update(self, it: Iterator[A], item: A, payer: Name)\n",
    "- def remove(self, it: Iterator[A])\n",
    "- def get_idx_table_by_b(self) -> IdxTable64:\n",
    "- def get_idx_table_by_c(self) -> IdxTable128:\n",
    "- def update_b(self, it: SecondaryIterator, b: u64, payer: Name) -> None:\n",
    "- def update_c(self, it: SecondaryIterator, c: u128, payer: Name) -> None:\n",
    "\n",
    "In addition, the class `A` is generated, along with the following additional methods:\n",
    "\n",
    "- `get_primary`: retrieves the primary index\n",
    "- `get_idx_table_by_b`: retrieves the table indexed by `b`, returning an instance of the `IdxTable64` class\n",
    "- `get_idx_table_by_c`: retrieves the table indexed by `c`, returning an instance of the `IdxTable128` class\n",
    "- `new_table`\n",
    "\n",
    "Test code:"
   ]
  },
  {
   "cell_type": "code",
   "execution_count": null,
   "id": "28b06ed0",
   "metadata": {},
   "outputs": [],
   "source": [
    "%%writefile tests/test.py\n",
    "\n",
    "from pscdk import tester\n",
    "\n",
    "def test_example6():\n",
    "    t = tester.init_test('db_example6')\n",
    "    ret = t.push_action('hello', 'test', {}, {'hello': 'active'})\n",
    "    t.produce_block()\n",
    "    tester.logger.info(\"++++++++++%s\\n\", ret['elapsed'])"
   ]
  },
  {
   "cell_type": "markdown",
   "id": "2b3e1ab0",
   "metadata": {},
   "source": [
    "Compilation:"
   ]
  },
  {
   "cell_type": "code",
   "execution_count": null,
   "id": "70fa3453",
   "metadata": {},
   "outputs": [],
   "source": [
    "!python-contract build tests/db_example6.codon"
   ]
  },
  {
   "cell_type": "markdown",
   "id": "da39f043",
   "metadata": {},
   "source": [
    "Testing:"
   ]
  },
  {
   "cell_type": "code",
   "execution_count": null,
   "id": "1ccf61f9",
   "metadata": {},
   "outputs": [],
   "source": [
    "!ipyeos -m pytest -s -x tests/test.py -k test_example6"
   ]
  },
  {
   "cell_type": "markdown",
   "id": "7de3428b",
   "metadata": {},
   "source": [
    "Output:"
   ]
  },
  {
   "cell_type": "markdown",
   "id": "0f209e20",
   "metadata": {},
   "source": [
    "```\n",
    "++++++it.primary: 1\n",
    "++++++it.primary: 1\n",
    "```"
   ]
  },
  {
   "cell_type": "markdown",
   "id": "b8590a5d",
   "metadata": {},
   "source": [
    "## Summary\n",
    "\n",
    "The data storage functionality in EOS is relatively comprehensive, and the second-level index table function makes data querying very flexible. This chapter provides a detailed explanation of the code for table operations, including adding, deleting, modifying, and querying. This chapter contains a lot of content and requires some time to digest. You can try to modify the examples and run them to gain a better understanding of the content covered in this chapter."
   ]
  }
 ],
 "metadata": {
  "kernelspec": {
   "display_name": "Python 3 (ipykernel)",
   "language": "python",
   "name": "python3"
  },
  "language_info": {
   "codemirror_mode": {
    "name": "ipython",
    "version": 3
   },
   "file_extension": ".py",
   "mimetype": "text/x-python",
   "name": "python",
   "nbconvert_exporter": "python",
   "pygments_lexer": "ipython3",
   "version": "3.10.8"
  }
 },
 "nbformat": 4,
 "nbformat_minor": 5
}
