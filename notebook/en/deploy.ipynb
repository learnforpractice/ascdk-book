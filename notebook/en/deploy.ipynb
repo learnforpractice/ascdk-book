{
 "cells": [
  {
   "cell_type": "markdown",
   "id": "6d107430",
   "metadata": {},
   "source": [

    "\n",
    "# Deploying a Smart Contract"
   ]
  },
  {
   "cell_type": "code",
   "execution_count": null,
   "id": "9f67bd9b",
   "metadata": {},
   "outputs": [],
   "source": [
    "from pyeoskit import eosapi\n",
    "from pyeoskit import wallet\n",
    "\n",
    "# Set node\n",
    "eosapi.set_node('https://eos.greymass.com')\n",
    "\n",
    "# Import the private key corresponding to the active permission of the contract account,\n",
    "# you can import multiple private keys simultaneously\n",
    "wallet.import_key('mywallet', 'your private key')\n",
    "\n",
    "account_name = 'myaccount'\n",
    "contract_name = 'test'\n",
    "\n",
    "# Read .wasm file\n",
    "with open(f'{contract_name}.wasm', 'rb') as f:\n",
    "    code = f.read()\n",
    "\n",
    "# Read .abi file\n",
    "with open(f'{contract_name}.abi', 'rb') as f:\n",
    "    abi = f.read()\n",
    "\n",
    "# Deploy\n",
    "eosapi.deploy_contract(account_name, code, abi)\n"
   ]
  },
  {
   "cell_type": "markdown",
   "id": "d312799f",
   "metadata": {},
   "source": [
    "If you have the private key corresponding to the active permission saved in a Ledger Nano S wallet, you can use the `indices` parameter to specify the index of the private key in the wallet:"
   ]
  },
  {
   "cell_type": "code",
   "execution_count": null,
   "id": "5b753c58",
   "metadata": {},
   "outputs": [],
   "source": [
    "eosapi.deploy_contract(account_name, code, abi， indices=[0,])"
   ]
  }
 ],
 "metadata": {},
 "nbformat": 4,
 "nbformat_minor": 5
}
