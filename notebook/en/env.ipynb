{
 "cells": [
  {
   "cell_type": "markdown",
   "id": "6b7e0af2",
   "metadata": {},
   "source": [
    "\n",
    "# Development Environment Setup\n",
    "\n",
    "## Installing the Required Tools for Compilation and Testing\n",
    "\n",
    "### Direct Installation of Development Toolkits\n",
    "\n",
    "Install `ipyeos`, a package used for testing smart contracts or running a node:"
   ]
  },
  {
   "cell_type": "code",
   "execution_count": null,
   "id": "6ebb7fe4",
   "metadata": {},
   "outputs": [],
   "source": [
    "%%bash\n",
    "python3 -m pip install ipyeos"
   ]
  },
  {
   "cell_type": "markdown",
   "id": "480d0693",
   "metadata": {},
   "source": [
    "Install `pyeoskit`, a tool used to interact with nodes, such as deploying smart contracts, etc:"
   ]
  },
  {
   "cell_type": "code",
   "execution_count": null,
   "id": "42e0cb4a",
   "metadata": {},
   "outputs": [],
   "source": [
    "%%bash\n",
    "python3 -m pip install pyeoskit"
   ]
  },
  {
   "cell_type": "markdown",
   "id": "0bee2d52",
   "metadata": {},
   "source": [
    "### Running in Docker\n",
    "\n",
    "Currently, the development toolkit does not support Windows and Macbook M1/M2 platforms, and must be run using Docker on these platforms.\n",
    "\n",
    "The recommended software for installing and running Docker on macOS is [OrbStack](https://orbstack.dev/download). For other platforms, you can use [Docker Desktop](https://www.docker.com/products/docker-desktop).\n",
    "\n",
    "Download the Docker image using the following command:"
   ]
  },
  {
   "cell_type": "code",
   "execution_count": null,
   "id": "d442f303",
   "metadata": {},
   "outputs": [],
   "source": [
    "%%bash\n",
    "docker pull ghcr.io/uuosio/pscdk:latest"
   ]
  },
  {
   "cell_type": "markdown",
   "id": "6cfcae2c",
   "metadata": {},
   "source": [
    "Run the container:"
   ]
  },
  {
   "cell_type": "code",
   "execution_count": null,
   "id": "46f9cbda",
   "metadata": {},
   "outputs": [],
   "source": [
    "%%bash\n",
    "docker run --entrypoint bash -it --rm -v \"$(pwd)\":/work -w /work -t ghcr.io/uuosio/pscdk"
   ]
  },
  {
   "cell_type": "markdown",
   "id": "fe82ada8",
   "metadata": {},
   "source": [
    "## Testing the Installation Environment\n",
    "\n",
    "Create a test project using the following command:"
   ]
  },
  {
   "cell_type": "code",
   "execution_count": null,
   "id": "1073b4d8",
   "metadata": {},
   "outputs": [],
   "source": [
    "!python-contract init mytest\n",
    "%cd mytest\n",
    "!cat mytest.codon"
   ]
  },
  {
   "cell_type": "markdown",
   "id": "2d64689d",
   "metadata": {},
   "source": [
    "Compile the contract code:"
   ]
  },
  {
   "cell_type": "code",
   "execution_count": null,
   "id": "563e4c3f",
   "metadata": {},
   "outputs": [],
   "source": [
    "%%bash\n",
    "python-contract build mytest.codon"
   ]
  },
  {
   "cell_type": "markdown",
   "id": "e120a82c",
   "metadata": {},
   "source": [
    "Alternatively, you can run the `build.sh` script directly:"
   ]
  },
  {
   "cell_type": "code",
   "execution_count": null,
   "id": "8402f3ab",
   "metadata": {},
   "outputs": [],
   "source": [
    "%%bash\n",
    "./build.sh"
   ]
  },
  {
   "cell_type": "markdown",
   "id": "1ff9887c",
   "metadata": {},
   "source": [
    "If there are no exceptions, the `mytest.wasm` WebAssembly binary file will be generated.\n",
    "\n",
    "To test the installation environment, run:"
   ]
  },
  {
   "cell_type": "code",
   "execution_count": null,
   "id": "7bdf655a",
   "metadata": {},
   "outputs": [],
   "source": [
    "%%bash\n",
    "ipyeos -m pytest -s -x test.py -k test_hello"
   ]
  },
  {
   "cell_type": "markdown",
   "id": "59f61282",
   "metadata": {},
   "source": [
    "Alternatively, you can run the test script `test.sh` directly:"
   ]
  },
  {
   "cell_type": "code",
   "execution_count": null,
   "id": "656c2346",
   "metadata": {},
   "outputs": [],
   "source": [
    "%%bash\n",
    "./test.sh"
   ]
  },
  {
   "cell_type": "markdown",
   "id": "82a7464e",
   "metadata": {},
   "source": [
    "You should see the output:"
   ]
  },
  {
   "cell_type": "code",
   "execution_count": null,
   "id": "b8ad6223",
   "metadata": {},
   "outputs": [],
   "source": [
    "hello  alice"
   ]
  }
 ],
 "metadata": {
  "language_info": {
   "name": "python"
  }
 },
 "nbformat": 4,
 "nbformat_minor": 5
}
