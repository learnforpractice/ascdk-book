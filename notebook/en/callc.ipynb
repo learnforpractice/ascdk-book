{
 "cells": [
  {
   "cell_type": "markdown",
   "id": "cb750c0b",
   "metadata": {},
   "source": [
    "\n",
    "# Calling C/C++ Code in Codon\n",
    "\n",
    "First, use the following command to install `eoscdt` for compiling C or C++ code:"
   ]
  },
  {
   "cell_type": "code",
   "execution_count": null,
   "id": "63b48b14",
   "metadata": {},
   "outputs": [],
   "source": [
    "!python3 -m pip install -U eoscdt"
   ]
  },
  {
   "cell_type": "markdown",
   "id": "58a04322",
   "metadata": {},
   "source": [
    "Next, let's compile the `say_hello` function as an example to demonstrate how to compile code:\n",
    "\n",
    "If the source file is in C, for example:\n",
    "\n",
    "say_hello.c"
   ]
  },
  {
   "cell_type": "code",
   "execution_count": null,
   "id": "7c55c6ea",
   "metadata": {},
   "outputs": [],
   "source": [
    "!mkdir -p tests"
   ]
  },
  {
   "cell_type": "code",
   "execution_count": null,
   "id": "f3c2753c",
   "metadata": {
    "attributes": {
     "classes": [
      "c"
     ],
     "id": ""
    }
   },
   "outputs": [],
   "source": [
    "%%writefile tests/say_hello.c\n",
    "\n",
    "void prints(const char *s);\n",
    "\n",
    "void say_hello(const char *s) {\n",
    "    prints(s);\n",
    "}\n"
   ]
  },
  {
   "cell_type": "markdown",
   "id": "563b01b3",
   "metadata": {},
   "source": [
    "Then use the following command to compile:"
   ]
  },
  {
   "cell_type": "code",
   "execution_count": null,
   "id": "8b1a01bd",
   "metadata": {},
   "outputs": [],
   "source": [
    "!cdt-cc -c -o say_hello.o say_hello.c"
   ]
  },
  {
   "cell_type": "markdown",
   "id": "6791b34e",
   "metadata": {},
   "source": [
    "If the source file is C++ code, for example:\n",
    "\n",
    "say_hello.cpp"
   ]
  },
  {
   "cell_type": "code",
   "execution_count": null,
   "id": "8526a0d5",
   "metadata": {
    "attributes": {
     "classes": [
      "cpp"
     ],
     "id": ""
    }
   },
   "outputs": [],
   "source": [
    "%%writefile tests/say_hello.cpp\n",
    "\n",
    "extern \"C\" void prints(const char *s);\n",
    "\n",
    "extern \"C\" void say_hello(const char *s) {\n",
    "    prints(s);\n",
    "}"
   ]
  },
  {
   "cell_type": "markdown",
   "id": "2a7caaa7",
   "metadata": {},
   "source": [
    "Then use the following command to compile:"
   ]
  },
  {
   "cell_type": "code",
   "execution_count": null,
   "id": "a5002bd3",
   "metadata": {},
   "outputs": [],
   "source": [
    "!cdt-cpp -c -o say_hello.o say_hello.cpp"
   ]
  },
  {
   "cell_type": "markdown",
   "id": "d7000a00",
   "metadata": {},
   "source": [
    "Note that if it is a C++ file, you need to add `extern \"C\"` before the function, otherwise a link error will occur.\n",
    "\n",
    "Next, let's see how to use the `say_hello` function in Codon:\n",
    "\n",
    "test.codon"
   ]
  },
  {
   "cell_type": "code",
   "execution_count": null,
   "id": "b328569d",
   "metadata": {},
   "outputs": [],
   "source": [
    "%%writefile tests/test.codon\n",
    "\n",
    "from chain.contract import Contract\n",
    "\n",
    "from C import say_hello(cobj);\n",
    "\n",
    "@contract(main=True)\n",
    "class MyContract(Contract):\n",
    "\n",
    "    @action(\"sayhello\")\n",
    "    def say_hello(self):\n",
    "        say_hello(\"hello, world\".c_str())"
   ]
  },
  {
   "cell_type": "markdown",
   "id": "713c6d95",
   "metadata": {},
   "source": [
    "Here,"
   ]
  },
  {
   "cell_type": "markdown",
   "id": "a365cb0f",
   "metadata": {},
   "source": [
    "```python\n",
    "from C import say_hello(cobj);\n",
    "```"
   ]
  },
  {
   "cell_type": "markdown",
   "id": "b58a90b8",
   "metadata": {},
   "source": [
    "tells the Codon compiler to link the say_hello C function. All pointer types in C/C++ correspond to the cobj type in Codon.\n",
    "\n",
    "The following line of code calls the C function, the value returned by `c_str` is of `cobj` type, equivalent to `const char *` type in C/C++."
   ]
  },
  {
   "cell_type": "markdown",
   "id": "39cd8d70",
   "metadata": {},
   "source": [
    "```python\n",
    "say_hello(\"abc\".c_str())\n",
    "```"
   ]
  },
  {
   "cell_type": "markdown",
   "id": "709f0665",
   "metadata": {},
   "source": [
    "Next, use the following command to compile:"
   ]
  },
  {
   "cell_type": "code",
   "execution_count": null,
   "id": "0b8af050",
   "metadata": {},
   "outputs": [],
   "source": [
    "!python-contract build tests/--linker-flags=\"say_hello.o\" test.codon"
   ]
  },
  {
   "cell_type": "markdown",
   "id": "fe66761b",
   "metadata": {},
   "source": [
    "Here, `--linker-flags=\"say_hello.o\"` tells the compiler to link the `say_hello.o` obj file.\n",
    "\n",
    "Next, use the following code to test:\n",
    "\n",
    "test.py:"
   ]
  },
  {
   "cell_type": "code",
   "execution_count": null,
   "id": "50979e34",
   "metadata": {},
   "outputs": [],
   "source": [
    "%%writefile tests/test.py\n",
    "\n",
    "from pscdk import tester\n",
    "\n",
    "def test_say_hello():\n",
    "    t = tester.init_test('test')\n",
    "    ret = t.push_action('hello', 'sayhello', \"\", {'hello': 'active'})\n",
    "    t.produce_block()\n",
    "    tester.logger.info(\"++++++++++%s\\n\", ret['elapsed'])"
   ]
  },
  {
   "cell_type": "markdown",
   "id": "5453e35f",
   "metadata": {},
   "source": [
    "Run the test:"
   ]
  },
  {
   "cell_type": "code",
   "execution_count": null,
   "id": "a861a2db",
   "metadata": {},
   "outputs": [],
   "source": [
    "!ipyeos -m pytest -s -x tests/test.py -k test_say_hello"
   ]
  },
  {
   "cell_type": "markdown",
   "id": "9a98306f",
   "metadata": {},
   "source": [
    "You should see the following output:"
   ]
  },
  {
   "cell_type": "code",
   "execution_count": null,
   "id": "5223116f",
   "metadata": {},
   "outputs": [],
   "source": [
    "hello, world"
   ]
  },
  {
   "cell_type": "markdown",
   "id": "b7c135b1",
   "metadata": {},
   "source": [
    "[Full Source Code](https://github.com/learnforpractice/pscdk-book/tree/main/examples/callc)"
   ]
  }
 ],
 "metadata": {
  "kernelspec": {
   "display_name": "Python 3 (ipykernel)",
   "language": "python",
   "name": "python3"
  },
  "language_info": {
   "codemirror_mode": {
    "name": "ipython",
    "version": 3
   },
   "file_extension": ".py",
   "mimetype": "text/x-python",
   "name": "python",
   "nbconvert_exporter": "python",
   "pygments_lexer": "ipython3",
   "version": "3.10.8"
  }
 },
 "nbformat": 4,
 "nbformat_minor": 5
}
