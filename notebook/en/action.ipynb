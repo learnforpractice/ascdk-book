{
 "cells": [
  {
   "cell_type": "markdown",
   "id": "8a1caee5",
   "metadata": {},
   "source": [
    "# Use of Inline Action in Smart Contracts\n",
    "\n",
    "In smart contracts, one can also initiate an action, known as an inline action. It is important to note that actions are asynchronous, which means that the corresponding contract code of the inline action will be called only after the entire code has been executed. If the called contract does not define the corresponding action or there is no deployed contract in the account, the call will have no effect but no exception will be thrown either. These empty inline actions can be used as on-chain logs for querying by applications.\n",
    "\n",
    "Here is the complete code of the Action class in `action.codon`:"
   ]
  },
  {
   "cell_type": "markdown",
   "id": "f00a2d5a",
   "metadata": {},
   "source": [
    "```python\n",
    "@packer\n",
    "class Action(object):\n",
    "    account: Name\n",
    "    name: Name\n",
    "    authorization: List[PermissionLevel]\n",
    "    data: bytes\n",
    "\n",
    "    def __init__(self, account: Name, name: Name, data: bytes=bytes()):\n",
    "        self.account = account\n",
    "        self.name = name\n",
    "        self.authorization = [PermissionLevel(account, n'active')]\n",
    "        self.data = data\n",
    "\n",
    "    def __init__(self, account: Name, name: Name, permission_account: Name, data: bytes=bytes()):\n",
    "        self.account = account\n",
    "        self.name = name\n",
    "        self.authorization = [PermissionLevel(permission_account, n'active')]\n",
    "        self.data = data\n",
    "\n",
    "    def __init__(self, account: Name, name: Name, permission_account: Name, permission_name: Name, data: bytes=bytes()):\n",
    "        self.account = account\n",
    "        self.name = name\n",
    "        self.authorization = [PermissionLevel(permission_account, permission_name)]\n",
    "        self.data = data\n",
    "\n",
    "    def __init__(self, account: Name, name: Name, authorization: List[PermissionLevel], data: bytes=bytes()):\n",
    "        self.account = account\n",
    "        self.name = name\n",
    "        self.authorization = authorization\n",
    "        self.data = data\n",
    "\n",
    "    def send(self):\n",
    "        raw = pack(self)\n",
    "        send_inline(raw.ptr, u32(raw.len))\n",
    "\n",
    "    def send(self, data: T, T: type):\n",
    "        self.data = pack(data)\n",
    "        raw = pack(self)\n",
    "        send_inline(raw.ptr, u32(raw.len))\n",
    "```"
   ]
  },
  {
   "cell_type": "markdown",
   "id": "f62eb15a",
   "metadata": {},
   "source": [
    "The class has three `__init__` methods. Please use as per your requirements. The most commonly used should be the following initialization function:"
   ]
  },
  {
   "cell_type": "markdown",
   "id": "bd2aa30f",
   "metadata": {},
   "source": [
    "```python\n",
    "def __init__(self, account: Name, name: Name, data: bytes=bytes())\n",
    "```"
   ]
  },
  {
   "cell_type": "markdown",
   "id": "7f955690",
   "metadata": {},
   "source": [
    "This function defaults to the `active` permission of the account.\n",
    "\n",
    "The following initialization function specifies the account of the permission, and also defaults to the `active` permission of the account:"
   ]
  },
  {
   "cell_type": "markdown",
   "id": "f1f8c14a",
   "metadata": {},
   "source": [
    "```python\n",
    "def __init__(self, account: Name, name: Name, permission_account: Name, data: bytes=bytes())\n",
    "```"
   ]
  },
  {
   "cell_type": "markdown",
   "id": "6a3c0f31",
   "metadata": {},
   "source": [
    "If other permissions are used, the following initialization function can be used:"
   ]
  },
  {
   "cell_type": "markdown",
   "id": "9e36b277",
   "metadata": {},
   "source": [
    "```python\n",
    "def __init__(self, account: Name, name: Name, permission_account: Name, permission_name: Name, data: bytes=bytes()):\n",
    "```"
   ]
  },
  {
   "cell_type": "markdown",
   "id": "6cb4de6f",
   "metadata": {},
   "source": [
    "If multiple permissions are used by the account, then use this initialization function."
   ]
  },
  {
   "cell_type": "markdown",
   "id": "6630b3ba",
   "metadata": {},
   "source": [
    "```python\n",
    "def __init__(self, account: Name, name: Name, authorization: List[PermissionLevel], data: bytes=bytes())\n",
    "```"
   ]
  },
  {
   "cell_type": "markdown",
   "id": "277b42ad",
   "metadata": {},
   "source": [
    "Example:"
   ]
  },
  {
   "cell_type": "code",
   "execution_count": null,
   "id": "9eefb5b1",
   "metadata": {},
   "outputs": [],
   "source": [
    "!mkdir -p tests"
   ]
  },
  {
   "cell_type": "code",
   "execution_count": null,
   "id": "ecbbe6fe",
   "metadata": {},
   "outputs": [],
   "source": [
    "%%writefile tests/action_example.codon\n",
    "\n",
    "from packer import pack\n",
    "from chain.action import Action, PermissionLevel\n",
    "from chain.contract import Contract\n",
    "\n",
    "@packer\n",
    "class Person:\n",
    "    name: str\n",
    "    height: u64\n",
    "    def __init__(self, name: str, height: u64):\n",
    "        self.name = name\n",
    "        self.height = height\n",
    "\n",
    "@contract(main=True)\n",
    "class MyContract(Contract):\n",
    "\n",
    "    def __init__(self):\n",
    "        super().__init__()\n",
    "\n",
    "    @action('test')\n",
    "    def test(self):\n",
    "        a = Action(n'hello', n'test2')\n",
    "        print('++++send test2 action')\n",
    "        a.send(\"1 alice\")\n",
    "\n",
    "        a = Action(n'hello', n'test2', n'hello')\n",
    "        print('++++send test2 action')\n",
    "        a.send(\"2 alice\")\n",
    "\n",
    "        a = Action(n'hello', n'test2', n'hello', n'active')\n",
    "        print('++++send test2 action')\n",
    "        a.send(\"3 alice\")\n",
    "\n",
    "        a = Action(n'hello', n'test2', [PermissionLevel(n\"hello\", n\"active\")])\n",
    "        print('++++send test2 action')\n",
    "        a.send(\"4 alice\")\n",
    "\n",
    "        a = Action(n'hello', n'test3')\n",
    "        print('++++send test3 action')\n",
    "        a.send(Person(\"alice\", 175u64))\n",
    "        return\n",
    "\n",
    "    @action('test2')\n",
    "    def test2(self, name: str):\n",
    "        print('++++=name:', name)\n",
    "\n",
    "    @action('test3')\n",
    "    def test3(self, name: str, height: u64):\n",
    "        print('++++=name:', name, 'height:', height)"
   ]
  },
  {
   "cell_type": "markdown",
   "id": "4ff8434a",
   "metadata": {},
   "source": [
    "Test code:"
   ]
  },
  {
   "cell_type": "code",
   "execution_count": null,
   "id": "932985ce",
   "metadata": {},
   "outputs": [],
   "source": [
    "%%writefile tests/test.py\n",
    "\n",
    "from pscdk import tester\n",
    "def test_action():\n",
    "    t = tester.init_test('action_example')\n",
    "    ret = t.push_action('hello', 'test', {}, {'hello': 'active'})\n",
    "    t.produce_block()\n",
    "    tester.logger.info(\"++++++++++%s\", ret['elapsed'])"
   ]
  },
  {
   "cell_type": "markdown",
   "id": "c1fac18a",
   "metadata": {},
   "source": [
    "Compile:"
   ]
  },
  {
   "cell_type": "code",
   "execution_count": null,
   "id": "5359929a",
   "metadata": {},
   "outputs": [],
   "source": [
    "!python-contract build tests/action_example.codon"
   ]
  },
  {
   "cell_type": "markdown",
   "id": "35e528c3",
   "metadata": {},
   "source": [
    "Run the test:"
   ]
  },
  {
   "cell_type": "code",
   "execution_count": null,
   "id": "ebf8f40f",
   "metadata": {},
   "outputs": [],
   "source": [
    "!ipyeos -m pytest -s -x tests/test.py -k test_action"
   ]
  },
  {
   "cell_type": "markdown",
   "id": "b8d15d64",
   "metadata": {},
   "source": [
    "Output:"
   ]
  },
  {
   "cell_type": "markdown",
   "id": "fd61137f",
   "metadata": {},
   "source": [
    "```\n",
    "debug 2023-03-28T12:35:48.175 thread-0  apply_context.cpp:30          print_debug          ] \n",
    "[(hello,test)->hello]: CONSOLE OUTPUT BEGIN =====================\n",
    "++++send test2 action\n",
    "++++send test2 action\n",
    "++++send test2 action\n",
    "++++send test2 action\n",
    "++++send test3 action\n",
    "\n",
    "[(hello,test)->hello]: CONSOLE OUTPUT END   =====================\n",
    "debug 2023-03-28T12:35:48.175 thread-0  apply_context.cpp:30          print_debug          ] \n",
    "[(hello,test2)->hello]: CONSOLE OUTPUT BEGIN =====================\n",
    "++++=name: 1 alice\n",
    "\n",
    "[(hello,test2)->hello]: CONSOLE OUTPUT END   =====================\n",
    "debug 2023-03-28T12:35:48.175 thread-0  apply_context.cpp:30          print_debug          ] \n",
    "[(hello,test2)->hello]: CONSOLE OUTPUT BEGIN =====================\n",
    "++++=name: 2 alice\n",
    "\n",
    "[(hello,test2)->hello]: CONSOLE OUTPUT END   =====================\n",
    "debug 2023-03-28T12:35:48.175 thread-0  apply_context.cpp:30          print_debug          ] \n",
    "[(hello,test2)->hello]: CONSOLE OUTPUT BEGIN =====================\n",
    "++++=name: 3 alice\n",
    "\n",
    "[(hello,test2)->hello]: CONSOLE OUTPUT END   =====================\n",
    "debug 2023-03-28T12:35:48.175 thread-0  apply_context.cpp:30          print_debug          ] \n",
    "[(hello,test2)->hello]: CONSOLE OUTPUT BEGIN =====================\n",
    "++++=name: 4 alice\n",
    "\n",
    "[(hello,test2)->hello]: CONSOLE OUTPUT END   =====================\n",
    "debug 2023-03-28T12:35:48.175 thread-0  apply_context.cpp:30          print_debug          ] \n",
    "[(hello,test3)->hello]: CONSOLE OUTPUT BEGIN =====================\n",
    "++++=name: alice height: 175\n",
    "\n",
    "[(hello,test3)->hello]: CONSOLE OUTPUT END   =====================\n",
    "debug 2023-03-28T12:35:48.177 thread-0  controller.cpp:2444           clear_expired_input_ ] removed 0 expired transactions of the 50 input dedup list, pending block time 2018-06-01T12:00:04.000\n",
    "```\n"
   ]
  },
  {
   "cell_type": "markdown",
   "id": "79fd687c",
   "metadata": {},
   "source": [
    "As you can see, it first calls the `test` action specified in the Transaction, and then calls the `test2` Action. However, the `test2` action is not specified in the Transaction, but is initiated in the smart contract. In addition, it demonstrates how to send an action with multiple parameters through `test3`.\n",
    "\n",
    "It should be noted that in order to call inline action in the contract, you need to add the `eosio.code` virtual permission to the `active` permission of the account. In the test code, the `eosio.code` virtual permission is added to the `active` permission through the following function."
   ]
  },
  {
   "cell_type": "markdown",
   "id": "a466984e",
   "metadata": {},
   "source": [
    "```python\n",
    "def update_auth(chain, account):\n",
    "    a = {\n",
    "        \"account\": account,\n",
    "        \"permission\": \"active\",\n",
    "        \"parent\": \"owner\",\n",
    "        \"auth\": {\n",
    "            \"threshold\": 1,\n",
    "            \"keys\": [\n",
    "                {\n",
    "                    \"key\": 'EOS6AjF6hvF7GSuSd4sCgfPKq5uWaXvGM2aQtEUCwmEHygQaqxBSV',\n",
    "                    \"weight\": 1\n",
    "                }\n",
    "            ],\n",
    "            \"accounts\": [{\"permission\":{\"actor\":account,\"permission\": 'eosio.code'}, \"weight\":1}],\n",
    "            \"waits\": []\n",
    "        }\n",
    "    }\n",
    "    chain.push_action('eosio', 'updateauth', a, {account:'active'})\n",
    "```"
   ]
  }
 ],
 "metadata": {
  "kernelspec": {
   "display_name": "Python 3 (ipykernel)",
   "language": "python",
   "name": "python3"
  },
  "language_info": {
   "codemirror_mode": {
    "name": "ipython",
    "version": 3
   },
   "file_extension": ".py",
   "mimetype": "text/x-python",
   "name": "python",
   "nbconvert_exporter": "python",
   "pygments_lexer": "ipython3",
   "version": "3.10.8"
  }
 },
 "nbformat": 4,
 "nbformat_minor": 5
}
