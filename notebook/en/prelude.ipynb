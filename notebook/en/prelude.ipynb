{
 "cells": [
  {
   "cell_type": "markdown",
   "id": "464bdaa7",
   "metadata": {},
   "source": [
    "\n",
    "# Prerequisite Knowledge\n",
    "\n",
    "## What is a Smart Contract\n",
    "\n",
    "A smart contract is code that can be executed on the blockchain.\n",
    "\n",
    "## What is a Python Smart Contract\n",
    "\n",
    "A Python smart contract is code written in Python that can be executed on the blockchain. In the case of the EOS network, Python smart contract code is compiled into a WebAssembly binary file, which can be published to the blockchain and executed, achieving a certain operation effect.\n",
    "\n",
    "## What is EOS\n",
    "\n",
    "EOS is a blockchain network based on the Delegated Proof of Stake (DPOS) consensus algorithm. The main network was officially launched on June 8, 2018. The EOS mainnet is controlled by 21 Block Producers (BP) who are elected by voting and are responsible for packaging transactions into blocks.\n",
    "\n",
    "## Account\n",
    "\n",
    "On the EOS blockchain, each transaction entity is represented by an account. The account name is a `name` structure, which will be discussed in the next section. The account structure in C++ code is relatively complex.\n",
    "\n",
    "The following is a brief overview of the information contained in an account, based on the information returned by EOS's `get_account` RPC interface with the following code:"
   ]
  },
  {
   "cell_type": "code",
   "execution_count": null,
   "id": "902dbbcd",
   "metadata": {},
   "outputs": [],
   "source": [
    "eosapi.get_account(\"testaccount\")"
   ]
  },
  {
   "cell_type": "code",
   "execution_count": null,
   "id": "341d8bd6",
   "metadata": {
    "attributes": {
     "classes": [
      "json"
     ],
     "id": ""
    }
   },
   "outputs": [],
   "source": [
    "{\n",
    " \"account_name\": \"testaccount\",\n",
    " \"head_block_num\": 301601062,\n",
    " \"head_block_time\": \"2023-03-28T06:19:09.500\",\n",
    " \"privileged\": false,\n",
    " \"last_code_update\": \"1970-01-01T00:00:00.000\",\n",
    " \"created\": \"2018-06-13T04:43:18.000\",\n",
    " \"core_liquid_balance\": \"0.0001 EOS\",\n",
    " \"ram_quota\": 3052,\n",
    " \"net_weight\": 0,\n",
    " \"cpu_weight\": 0,\n",
    " \"net_limit\": {\n",
    "  \"used\": 0,\n",
    "  \"available\": 0,\n",
    "  \"max\": 0,\n",
    "  \"last_usage_update_time\": \"2018-06-13T04:43:18.000\",\n",
    "  \"current_used\": 0\n",
    " },\n",
    " \"cpu_limit\": {\n",
    "  \"used\": 0,\n",
    "  \"available\": 0,\n",
    "  \"max\": 0,\n",
    "  \"last_usage_update_time\": \"2018-06-13T04:43:18.000\",\n",
    "  \"current_used\": 0\n",
    " },\n",
    " \"ram_usage\": 2996,\n",
    " \"permissions\": [\n",
    "  {\n",
    "   \"perm_name\": \"active\",\n",
    "   \"parent\": \"owner\",\n",
    "   \"required_auth\": {\n",
    "    \"threshold\": 1,\n",
    "    \"keys\": [\n",
    "     {\n",
    "      \"key\": \"EOS5eCkKszJt22****Y2YampuDDD8q95w2mF\",\n",
    "      \"weight\": 1\n",
    "     }\n",
    "    ],\n",
    "    \"accounts\": [],\n",
    "    \"waits\": []\n",
    "   },\n",
    "   \"linked_actions\": []\n",
    "  },\n",
    "  {\n",
    "   \"perm_name\": \"owner\",\n",
    "   \"parent\": \"\",\n",
    "   \"required_auth\": {\n",
    "    \"threshold\": 1,\n",
    "    \"keys\": [\n",
    "     {\n",
    "      \"key\": \"EOS5eCkKszJ****q95w2mF\",\n",
    "      \"weight\": 1\n",
    "     }\n",
    "    ],\n",
    "    \"accounts\": [],\n",
    "    \"waits\": []\n",
    "   },\n",
    "   \"linked_actions\": []\n",
    "  }\n",
    " ],\n",
    " \"total_resources\": {\n",
    "  \"owner\": \"testaccount\",\n",
    "  \"net_weight\": \"0.0000 EOS\",\n",
    "  \"cpu_weight\": \"0.0000 EOS\",\n",
    "  \"ram_bytes\": 3052\n",
    " },\n",
    " \"self_delegated_bandwidth\": null,\n",
    " \"refund_request\": null,\n",
    " \"voter_info\": null,\n",
    " \"rex_info\": null,\n",
    " \"subjective_cpu_bill_limit\": {\n",
    "  \"used\": 0,\n",
    "  \"available\": 0,\n",
    "  \"max\": 0,\n",
    "  \"last_usage_update_time\": \"2000-01-01T00:00:00.000\",\n",
    "  \"current_used\": 0\n",
    " },\n",
    " \"eosio_any_linked_actions\": []\n",
    "}"
   ]
  },
  {
   "cell_type": "markdown",
   "id": "89d38fab",
   "metadata": {},
   "source": [
    "Let's briefly introduce the meanings of the main fields:\n",
    "\n",
    "- `account_name`: Account name, the rules will be discussed in the next section\n",
    "- `privileged`: `true` indicates that the account is a privileged account, such as `eosio` being a privileged account. `false` means it's a regular account\n",
    "- `last_code_update`: The last update time of the smart contract in the account\n",
    "- `created`: Account creation time\n",
    "- `core_liquid_balance`: Account's available balance\n",
    "- `ram_quota`: Total memory allocated to the account. Since the EOS database is an in-memory database, all on-chain data must be stored in memory, and memory is limited, so memory is allocated as a resource to accounts.\n",
    "- `net_weight`: The weight of the network resources allocated to the account\n",
    "- `cpu_weight`: The weight of the CPU resources allocated to the account\n",
    "- `net_limit`: Account's network resource usage\n",
    "- `cpu_limit`: CPU resource usage\n",
    "- `ram_usage`: Already used memory\n",
    "- `permissions`: Account permissions; account permissions contain one or more public keys or account information, each public key and account permission occupies a certain weight, when sending a transaction, the private key corresponding to the public key must be used to sign the transaction, and the weight must be greater or equal to the `threshold` for the transaction to be recognized by BP. When the permissions of the account contain not public key information but designate inherited permissions from a certain account, the public key information will be extracted from the permission information of this account during signing, which is implemented through the algorithm of the C++ program. EOS's RPC interface also has a `get_required_keys` interface to obtain the public key information for signing.\n",
    "- `total_resources`: This specifies the information of resources allocated to the account, such as NET, CPU, RAM, etc.\n",
    "\n",
    "## Name Structure\n",
    "`name` is one of the most basic data structures in EOS, represented at the low level by a 64-bit unsigned integer (uint64_t).\n",
    "\n",
    "The definition in C++ is as follows:\n",
    "\n",
    "[libraries/chain/include/eosio/chain/name.hpp](https://github.com/EOSIO/eos/blob/5082391c60b0fa5e68157c385cd402bf25aea934/libraries/chain/include/eosio/chain/name.hpp#L42)"
   ]
  },
  {
   "cell_type": "code",
   "execution_count": null,
   "id": "a21f107c",
   "metadata": {
    "attributes": {
     "classes": [
      "c++"
     ],
     "id": ""
    }
   },
   "outputs": [],
   "source": [
    "   struct name {\n",
    "      uint64_t value = 0;\n",
    "      bool empty()const { return 0 == value; }\n",
    "      bool good()const  { return !empty();   }\n",
    "\n",
    "      name( const char* str )   { set(str);           } \n",
    "      name( const string& str ) { set( str.c_str() ); }\n",
    "...\n",
    "   }"
   ]
  },
  {
   "cell_type": "markdown",
   "id": "0b334f47",
   "metadata": {},
   "source": [
    "However, when used at the application layer, it is represented as a string, and the string can only contain these characters: \".12345abcdefghijklmnopqrstuvwxyz\". There are a total of 32 characters, each representing one of the numbers 0-31. These strings can be considered as base-32 data, with each 5 bits in the `uint64_t` converted to one of the characters above. Since `uint64_t` has a maximum of 64 bits, the first 60 bits can represent 12 characters, with the character range represented by the regular expression `[.1-5a-z]`. The highest 4 bits can only be represented by 16 characters, with the range of these characters represented by the regular expression `[.1-5a-j]`.\n",
    "\n",
    "In practice, such as when creating an account, common mistakes include treating '6' to '9', '0', and uppercase letters as valid characters, and not limiting the length to 12 characters.\n",
    "\n",
    "In summary:\n",
    "\n",
    "- In EOS, the value of `name` is actually a `uint64_t` type at the low level, and is represented as a string when used at the application layer. This string can have up to 13 characters.\n",
    "- The range of the 13th character is smaller than the range that the first 12 characters can represent.\n",
    "- When using the `name` structure to represent an account name, there can be up to 12 characters.\n",
    "- In addition, the `name` structure is also used to represent some other types, as shown in the following C++ code:\n",
    "\n",
    "[libraries/chain/include/eosio/chain/types.hpp](https://github.com/EOSIO/eos/blob/5082391c60b0fa5e68157c385cd402bf25aea934/libraries/chain/include/eosio/chain/types.hpp#L133)"
   ]
  },
  {
   "cell_type": "code",
   "execution_count": null,
   "id": "b9a8bd43",
   "metadata": {
    "attributes": {
     "classes": [
      "c++"
     ],
     "id": ""
    }
   },
   "outputs": [],
   "source": [
    "   using account_name     = name;\n",
    "   using action_name      = name;\n",
    "   using scope_name       = name;\n",
    "   using permission_name  = name;\n",
    "   using table_name       = name;"
   ]
  },
  {
   "cell_type": "markdown",
   "id": "71fa0e2e",
   "metadata": {},
   "source": [
    "In this C++ code, the `name` structure is also used to represent action names, table names, and so on. Note that unlike account names, when representing these names as strings, there can be up to 13 characters. However, for convenience, it is customary to use up to 12 characters to represent these names.\n",
    "\n",
    "## Transaction Structure\n",
    "\n",
    "The basic data structure on EOS is called a transaction (Transaction), and BPs are responsible for packaging transactions collected over a period of time into a block. Smart contract developers must fully understand the Transaction data structure.\n",
    "\n",
    "\n",
    "[libraries/chain/include/eosio/chain/transaction.hpp](https://github.com/EOSIO/eos/blob/5082391c60b0fa5e68157c385cd402bf25aea934/libraries/chain/include/eosio/chain/transaction.hpp#L30)"
   ]
  },
  {
   "cell_type": "code",
   "execution_count": null,
   "id": "d2d75db1",
   "metadata": {
    "attributes": {
     "classes": [
      "c++"
     ],
     "id": ""
    }
   },
   "outputs": [],
   "source": [
    "struct transaction_header {\n",
    "      time_point_sec         expiration;   ///< the time at which a transaction expires\n",
    "      uint16_t               ref_block_num       = 0U; ///< specifies a block num in the last 2^16 blocks.\n",
    "      uint32_t               ref_block_prefix    = 0UL; ///< specifies the lower 32 bits of the blockid at get_ref_blocknum\n",
    "      fc::unsigned_int       max_net_usage_words = 0UL; /// upper limit on total network bandwidth (in 8 byte words) billed for this transaction\n",
    "      uint8_t                max_cpu_usage_ms    = 0; /// upper limit on the total CPU time billed for this transaction\n",
    "      fc::unsigned_int       delay_sec           = 0UL; /// number of seconds to delay this transaction for during which it may be canceled.\n",
    "\n",
    "...\n",
    "   };\n",
    "\n",
    "   struct transaction : public transaction_header {\n",
    "      vector<action>         context_free_actions;\n",
    "      vector<action>         actions;\n",
    "      extensions_type        transaction_extensions;\n",
    "...\n",
    "   };"
   ]
  },
  {
   "cell_type": "markdown",
   "id": "dbb06e01",
   "metadata": {},
   "source": [
    "Let's briefly explain the more important fields:\n",
    "\n",
    "- `expiration`, sets the timeout for the transaction to be added to the chain; if the timeout is exceeded, the transaction will be rejected from being included in the block.\n",
    "- `ref_block_num`, `ref_block_prefix` these two member variables are designed to prevent transactions from being re-included in blocks on forked chains.\n",
    "- `actions`, this is an array structure of actions; the concept of action is very important. Each action corresponds to a smart contract function on the chain. When a BP includes a transaction in a block, the corresponding smart contract function is called based on the action. This will be explained in detail in the following section.\n",
    "- `context_free_actions`, this is also an array of actions. The difference is that when the smart contract function corresponding to an action is called, the execution of the code is prohibited from calling APIs related to the on-chain database.\n",
    "\n",
    "## Action Structure\n",
    "\n",
    "The Action structure is contained within the Transaction structure. An action structure in C++ code is defined as follows:\n",
    "\n",
    "[libraries/chain/include/eosio/chain/action.hpp](https://github.com/EOSIO/eos/blob/5082391c60b0fa5e68157c385cd402bf25aea934/libraries/chain/include/eosio/chain/action.hpp#L60)"
   ]
  },
  {
   "cell_type": "code",
   "execution_count": null,
   "id": "3b339e74",
   "metadata": {
    "attributes": {
     "classes": [
      "c++"
     ],
     "id": ""
    }
   },
   "outputs": [],
   "source": [
    "   struct action {\n",
    "      account_name               account;\n",
    "      action_name                name;\n",
    "      vector<permission_level>   authorization;\n",
    "      bytes                      data;\n",
    "...\n",
    "   }"
   ]
  },
  {
   "cell_type": "markdown",
   "id": "bf0b0ce3",
   "metadata": {},
   "source": [
    "其中，[permission_level](https://github.com/EOSIO/eos/blob/5082391c60b0fa5e68157c385cd402bf25aea934/libraries/chain/include/eosio/chain/action.hpp#L12)的定义如下："
   ]
  },
  {
   "cell_type": "code",
   "execution_count": null,
   "id": "041ae33b",
   "metadata": {
    "attributes": {
     "classes": [
      "C++"
     ],
     "id": ""
    }
   },
   "outputs": [],
   "source": [
    "struct permission_level {\n",
    "    account_name    actor;\n",
    "    permission_name permission;\n",
    "};"
   ]
  },
  {
   "cell_type": "markdown",
   "id": "a344bb9f",
   "metadata": {},
   "source": [
    "The meanings of the member variables in the structure are explained as follows:\n",
    "\n",
    "- `account` is used to specify the account name of the smart contract to be called\n",
    "- `name` is the name of the action being called\n",
    "- `authorization` is an array of permissions\n",
    "- `data` is the serialized raw data contained in the action; when called by the smart contract, it will be deserialized into a specific data structure\n",
    "\n",
    "## ABI (Application Binary Interface)\n",
    "\n",
    "When developing smart contracts, during the compilation process of the smart contract code, under normal circumstances, an ABI file (.abi) will be generated for each smart contract binary code (.wasm). However, it should be noted that this file is not required for calling smart contracts on the chain. Its purpose is to help developers obtain relevant action information and construct the corresponding Transaction data structure for easy interaction with the blockchain.\n",
    "\n",
    "The content of an ABI file is in JSON format, like this:"
   ]
  },
  {
   "cell_type": "code",
   "execution_count": null,
   "id": "87cfba3d",
   "metadata": {
    "attributes": {
     "classes": [
      "json"
     ],
     "id": ""
    }
   },
   "outputs": [],
   "source": [
    "{\n",
    "    \"version\": \"eosio::abi/1.2\",\n",
    "    \"structs\": [\n",
    "        {\n",
    "            \"name\": \"A\",\n",
    "            \"base\": \"\",\n",
    "            \"fields\": [\n",
    "                {\n",
    "                    \"name\": \"a\",\n",
    "                    \"type\": \"uint64\"\n",
    "                },\n",
    "                {\n",
    "                    \"name\": \"b\",\n",
    "                    \"type\": \"uint64\"\n",
    "                },\n",
    "                {\n",
    "                    \"name\": \"c\",\n",
    "                    \"type\": \"uint128\"\n",
    "                }\n",
    "            ]\n",
    "        },\n",
    "        {\n",
    "            \"name\": \"test\",\n",
    "            \"base\": \"\",\n",
    "            \"fields\": []\n",
    "        }\n",
    "    ],\n",
    "    \"actions\": [\n",
    "        {\n",
    "            \"name\": \"test\",\n",
    "            \"type\": \"test\",\n",
    "            \"ricardian_contract\": \"\"\n",
    "        }\n",
    "    ],\n",
    "    \"tables\": [\n",
    "        {\n",
    "            \"name\": \"mytable\",\n",
    "            \"type\": \"A\",\n",
    "            \"index_type\": \"i64\",\n",
    "            \"key_names\": [],\n",
    "            \"key_types\": []\n",
    "        }\n",
    "    ],\n",
    "    \"ricardian_clauses\": []\n",
    "}"
   ]
  },
  {
   "cell_type": "markdown",
   "id": "e59d0cdf",
   "metadata": {},
   "source": [
    "- `version` is used to specify the ABI version\n",
    "- `structs` is used to define data structures and will be used in both `actions` and `tables`\n",
    "- `actions` describes the actions in the smart contract, with each action corresponding to a smart contract function\n",
    "- `tables` describes table information, so your web application can query the on-chain database information using the `get_table_rows` RPC API"
   ]
  }
 ],
 "metadata": {
  "kernelspec": {
   "display_name": "Python 3 (ipykernel)",
   "language": "python",
   "name": "python3"
  },
  "language_info": {
   "codemirror_mode": {
    "name": "ipython",
    "version": 3
   },
   "file_extension": ".py",
   "mimetype": "text/x-python",
   "name": "python",
   "nbconvert_exporter": "python",
   "pygments_lexer": "ipython3",
   "version": "3.10.8"
  }
 },
 "nbformat": 4,
 "nbformat_minor": 5
}
