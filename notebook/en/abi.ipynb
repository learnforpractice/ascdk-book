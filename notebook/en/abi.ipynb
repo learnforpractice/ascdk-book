{
 "cells": [
  {
   "cell_type": "markdown",
   "id": "2bf587e1",
   "metadata": {},
   "source": [
    "\n",
    "# Explanation of ABI types\n",
    "\n",
    "## Built-in ABI types\n",
    "\n",
    "Here are the built-in ABI types, a total of 31:\n",
    "\n",
    "- Basic types: name bytes string\n",
    "- Numerical types: bool int8 uint8 int16 uint16 int32 uint32 int64 uint64 int128 uint128 varint32 varuint32 float32 float64 float128\n",
    "- Time-related: time_point time_point_sec block_timestamp_type\n",
    "- Password-related functions: checksum160 checksum256 checksum512 public_key signature\n",
    "- Token-related: symbol symbol_code asset extended_asset\n",
    "\n",
    "The following are the most commonly used:"
   ]
  },
  {
   "cell_type": "markdown",
   "id": "f55b12d3",
   "metadata": {},
   "source": [
    "name bytes string bool uint64 checksum256\n",
    "public_key signature symbol asset extended_asset"
   ]
  },
  {
   "cell_type": "markdown",
   "id": "c7c433f7",
   "metadata": {},
   "source": [
    "## Correspondence table of built-in data types in ABI and data types in Python\n",
    "\n",
    "The table below shows the correspondence between the built-in types in ABI and the types in Python.\n",
    "\n",
    "It should be noted that although some of these types corresponding to Python belong to different modules, they have all been imported into the global environment in advance. Therefore, developers can directly use these ABI types corresponding to Python without needing to import them in the following way:"
   ]
  },
  {
   "cell_type": "code",
   "execution_count": null,
   "id": "21480a07",
   "metadata": {},
   "outputs": [],
   "source": [
    "from chain.crypto import PublicKey"
   ]
  },
  {
   "cell_type": "markdown",
   "id": "6f2859f5",
   "metadata": {},
   "source": [
    "Of course, repeated imports will not have any impact.\n",
    "\n",
    "|         ABI Type     |   Python Type       |      Module    |\n",
    "|:--------------------:|:------------------:|:------------------:|\n",
    "|         bool         |        bool        |   Built-in    |\n",
    "|         int8         |         i8         |   Built-in    |\n",
    "|         uint8        |         u8         |   Built-in    |\n",
    "|         int16        |         i16        |   Built-in    |\n",
    "|         int32        |         i32        |   Built-in    |\n",
    "|        uint32        |         u32        |   Built-in    |\n",
    "|         int64        |         i64        |   Built-in    |\n",
    "|        uint64        |         u64        |   Built-in    |\n",
    "|        int128        |        i128        |   Built-in    |\n",
    "|        uint128       |        u128        |   Built-in    |\n",
    "|       varint32       |      VarInt32      |   Structs |\n",
    "|       varuint32      |      VarUint32     |   Structs |\n",
    "|        float32       |     float32        |  Built-in     |\n",
    "|        float64       |       float        |  Built-in     |\n",
    "|       float128       |      Float128      |  Structs  |\n",
    "|      time_point      |      TimePoint     |  Structs  |\n",
    "|    time_point_sec    |    TimePointSec    |  Structs  |\n",
    "| block_timestamp_type | BlockTimestampType |  Structs  |\n",
    "|         name         |        Name        |  Name  |\n",
    "|         bytes        |        bytes       |  Built-in  |\n",
    "|        string        |        str         |  Built-in  |\n",
    "|      checksum160     |     Checksum160    |  Crypto  |\n",
    "|      checksum256     |   Checksum256/u256 |  Crypto  |\n",
    "|      checksum512     |     Checksum512    |  Crypto  |\n",
    "|      public_key      |      PublicKey     |  Crypto  |\n",
    "|       signature      |      Signature     |  Crypto  |\n",
    "|        symbol        |       Symbol       | Asset   |\n",
    "|      symbol_code     |     SymbolCode     | Asset   |\n",
    "|         asset        |        Asset       | Asset   |\n",
    "|    extended_asset    |    ExtendedAsset   | Asset   |\n",
    "\n",
    "## Special ABI types\n",
    "\n",
    "### Optional\n",
    "\n",
    "### Variant\n",
    "\n",
    "### Binaryextension"
   ]
  }
 ],
 "metadata": {
  "kernelspec": {
   "display_name": "Python 3 (ipykernel)",
   "language": "python",
   "name": "python3"
  },
  "language_info": {
   "codemirror_mode": {
    "name": "ipython",
    "version": 3
   },
   "file_extension": ".py",
   "mimetype": "text/x-python",
   "name": "python",
   "nbconvert_exporter": "python",
   "pygments_lexer": "ipython3",
   "version": "3.10.8"
  }
 },
 "nbformat": 4,
 "nbformat_minor": 5
}
