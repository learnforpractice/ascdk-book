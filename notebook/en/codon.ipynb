{
 "cells": [
  {
   "cell_type": "markdown",
   "id": "949f48c5",
   "metadata": {},
   "source": [
    "\n",
    "# Differences between Codon and standard Python\n",
    "\n",
    "Python is generally referred to as a dynamic language that generates relatively high-level virtual machine instructions (byte code) at compile time. When Python programs are executed, they are still interpreted by a specialized virtual machine program. The advantage is that the code is very flexible and supports dynamic modification of the code, but the disadvantage is that the execution speed is slow. The earliest Python smart contract was executed in this way. Later, in order to solve the problem of slow Python code execution speed, many solutions emerged, including tools like Codon that directly compile Python code into machine code that can be executed directly. The Python smart contract later adopted the Codon compiler, which not only preserves the ease of use of writing Python code, but also ensures execution speed. However, due to the different compilation methods, the generated target files are different, and the execution method is different from that of standard Python programs, so there are some differences in compatibility between Codon compiled Python code and standard Python code. Let's introduce these differences below to avoid confusion when writing smart contracts.\n",
    "\n",
    "## Support for method overloading in classes\n",
    "\n",
    "For example:"
   ]
  },
  {
   "cell_type": "markdown",
   "id": "e76c2e08",
   "metadata": {},
   "source": [
    "```python\n",
    "class Action(object):\n",
    "...\n",
    "    def __init__(self, account: Name, name: Name, data: bytes=bytes()):\n",
    "        ...\n",
    "\n",
    "    def __init__(self, account: Name, name: Name, permission_account: Name, data: bytes=bytes()):\n",
    "        ...\n",
    "```"
   ]
  },
  {
   "cell_type": "markdown",
   "id": "ec256eab",
   "metadata": {},
   "source": [
    "Note that module functions do not currently support function overloading.\n",
    "\n",
    "## The `int` type in Codon is a 64-bit signed integer\n",
    "\n",
    "This is different from infinite integers in Python. One reason is that Codon is a static type language, so the code is compiled directly into machine code (binary code), rather than virtual machine instructions (byte code). Another reason is for efficiency reasons.\n",
    "\n",
    "## Numeric types in Codon\n",
    "\n",
    "In addition to the `int` type, Codon also has these numeric types: `byte`, `i8`, `u8`, `i16`, `u16`, `i32`, `u32`, `u64`, `u128`, `u256`, which are used to represent 64-bit unsigned integers, 128-bit unsigned integers, and 256-bit unsigned integers respectively.\n",
    "\n",
    "To convert other data types into `byte`, you can use methods like the ones below:"
   ]
  },
  {
   "cell_type": "markdown",
   "id": "89cdab79",
   "metadata": {},
   "source": [
    "```python\n",
    "a = byte(123)\n",
    "b = byte(int(123i8))\n",
    "c = byte(int(123u8))\n",
    "d = byte(int(123i32))\n",
    "e = byte(int(123u32))\n",
    "f = byte(int(123u64))\n",
    "```"
   ]
  },
  {
   "cell_type": "markdown",
   "id": "92fe1fae",
   "metadata": {},
   "source": [
    "## String type\n",
    "\n",
    "Codon currently uses ASCII strings, unlike Python's unicode strings.\n",
    "\n",
    "## Dictionary type\n",
    "\n",
    "The dictionary type in Codon does not maintain the insertion order, unlike Python, which has supported this since version 3.6.\n",
    "\n",
    "## Optional type\n",
    "\n",
    "The Codon compiler provides support for the Optional type."
   ]
  },
  {
   "cell_type": "markdown",
   "id": "21863bf6",
   "metadata": {},
   "source": [
    "```python\n",
    "class A:\n",
    "    value: u64\n",
    "    def __init__(self, value):\n",
    "        self.value = value\n",
    "a = Optional(A(123u64))\n",
    "```"
   ]
  },
  {
   "cell_type": "markdown",
   "id": "83905afe",
   "metadata": {},
   "source": [
    "To check if the Optional type is None:"
   ]
  },
  {
   "cell_type": "markdown",
   "id": "8991924c",
   "metadata": {},
   "source": [
    "```python\n",
    "if a is None:\n",
    "    do_something()\n",
    "```"
   ]
  },
  {
   "cell_type": "markdown",
   "id": "57b5783a",
   "metadata": {},
   "source": [
    "To get the value in an Optional type:"
   ]
  },
  {
   "cell_type": "markdown",
   "id": "9aa1cda1",
   "metadata": {},
   "source": [
    "```python\n",
    "from internal.types.optional import unwrap\n",
    "a1 = unwrap(a)\n",
    "```"
   ]
  },
  {
   "cell_type": "markdown",
   "id": "37c2e203",
   "metadata": {},
   "source": [
    "There is an even simpler way:"
   ]
  },
  {
   "cell_type": "markdown",
   "id": "2b1b6875",
   "metadata": {},
   "source": [
    "```python\n",
    "a1: A = a\n",
    "```"
   ]
  },
  {
   "cell_type": "markdown",
   "id": "0052b1f1",
   "metadata": {},
   "source": [
    "Here, during compilation, the compiler checks if the type is Optional, and if so, calls unwrap(a), which throws an exception if a is None.\n",
    "\n",
    "Methods or member variables in an Optional class can be accessed directly:"
   ]
  },
  {
   "cell_type": "markdown",
   "id": "5b9eb505",
   "metadata": {},
   "source": [
    "```python\n",
    "print(a.value)\n",
    "```"
   ]
  },
  {
   "cell_type": "markdown",
   "id": "76ac47f9",
   "metadata": {},
   "source": [
    "In fact, it is equivalent to:"
   ]
  },
  {
   "cell_type": "markdown",
   "id": "be5bc90b",
   "metadata": {},
   "source": [
    "```python\n",
    "print(unwrap(a).value)\n",
    "```"
   ]
  },
  {
   "cell_type": "markdown",
   "id": "94a9873f",
   "metadata": {},
   "source": [
    "## Union type\n",
    "\n",
    "Union type is a built-in type in Codon. In Python, there is no built-in support for Union, so the usage is different. In Codon, the data structure of Union is not defined in Codon's code and is implemented internally by the compiler, but can be represented by the following class definition:"
   ]
  },
  {
   "cell_type": "markdown",
   "id": "178d48e7",
   "metadata": {},
   "source": [
    "```python\n",
    "class Union:\n",
    "    tag: byte\n",
    "    value: object\n",
    "```"
   ]
  },
  {
   "cell_type": "markdown",
   "id": "48724014",
   "metadata": {},
   "source": [
    "Usage:"
   ]
  },
  {
   "cell_type": "markdown",
   "id": "3ae1ccd8",
   "metadata": {},
   "source": [
    "```python\n",
    "a = Union[int, str](123)\n",
    "print(a == 123)\n",
    "```"
   ]
  },
  {
   "cell_type": "markdown",
   "id": "d97cec3a",
   "metadata": {},
   "source": [
    "Output: True\n",
    "\n",
    "If the type is incorrect, an exception will be thrown directly, as shown in the following code:"
   ]
  },
  {
   "cell_type": "markdown",
   "id": "eb599f60",
   "metadata": {},
   "source": [
    "```python\n",
    "a = Union[int, str](123)\n",
    "print(a == \"ABC\")\n",
    "```"
   ]
  },
  {
   "cell_type": "markdown",
   "id": "53cc89b8",
   "metadata": {},
   "source": [
    "Note that in Codon, if the types in the union are only different in their order, they are considered the same type.\n",
    "\n",
    "The following code outputs: True"
   ]
  },
  {
   "cell_type": "markdown",
   "id": "85240e41",
   "metadata": {},
   "source": [
    "```python\n",
    "a = Union[int, str](123)\n",
    "b = Union[str, int](\"abc\")\n",
    "print(isinstance(a, Union[str, int]))\n",
    "```"
   ]
  },
  {
   "cell_type": "markdown",
   "id": "05def268",
   "metadata": {},
   "source": [
    "## Conclusion\n",
    "\n",
    "Finally, it is necessary to explain that the executable file generated after compiling the smart contract code in Python is in WebAssembly instructions, with a file extension of .wasm. In reality, there is no CPU that can execute WebAssembly instructions directly, and in most cases, they also need to be interpreted by a specialized virtual machine program during execution, but only binary code is executed. This is similar to Python's virtual machine executing byte code, but WebAssembly's instructions are more low-level than Python's virtual machine instructions, and are safer, so they can be easily translated into system machine code to optimize execution speed by JIT or AOT. In the EOS blockchain, smart contract code can be executed by `eosvm` using JIT, or by interpreting the instructions, or even by compiling into machine code that can be directly executed by the system. Python's virtual machine instructions are difficult to execute completely by JIT and AOT.\n",
    "\n",
    "In conclusion, Python smart contracts use a static compiler like Codon, sacrificing some compatibility with standard Python code for the benefit of significantly improved execution speed and security."
   ]
  }
 ],
 "metadata": {
  "kernelspec": {
   "display_name": "Python 3 (ipykernel)",
   "language": "python",
   "name": "python3"
  },
  "language_info": {
   "codemirror_mode": {
    "name": "ipython",
    "version": 3
   },
   "file_extension": ".py",
   "mimetype": "text/x-python",
   "name": "python",
   "nbconvert_exporter": "python",
   "pygments_lexer": "ipython3",
   "version": "3.10.8"
  }
 },
 "nbformat": 4,
 "nbformat_minor": 5
}
